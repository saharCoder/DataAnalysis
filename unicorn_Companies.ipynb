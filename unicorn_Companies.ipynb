{
  "nbformat": 4,
  "nbformat_minor": 0,
  "metadata": {
    "colab": {
      "provenance": [],
      "collapsed_sections": [
        "ZsGxacNezD5x",
        "M5sa9sue-HRe",
        "Q3pGVPwZh0fe",
        "OjNhS4Kay6q6"
      ],
      "authorship_tag": "ABX9TyPSjGFDGFyPZ6C2X7N/51+w",
      "include_colab_link": true
    },
    "kernelspec": {
      "name": "python3",
      "display_name": "Python 3"
    },
    "language_info": {
      "name": "python"
    }
  },
  "cells": [
    {
      "cell_type": "markdown",
      "metadata": {
        "id": "view-in-github",
        "colab_type": "text"
      },
      "source": [
        "<a href=\"https://colab.research.google.com/github/saharCoder/DataAnalysis/blob/main/unicorn_Companies.ipynb\" target=\"_parent\"><img src=\"https://colab.research.google.com/assets/colab-badge.svg\" alt=\"Open In Colab\"/></a>"
      ]
    },
    {
      "cell_type": "markdown",
      "source": [
        "**Unicorn Companies EDA**\n",
        "\n",
        "\n",
        "\n",
        "---\n",
        "\n",
        "\n",
        "\n",
        "---\n",
        "\n"
      ],
      "metadata": {
        "id": "MBI1SDEC0ClM"
      }
    },
    {
      "cell_type": "markdown",
      "source": [
        "\n",
        "\n",
        "The investor has asked you to provide them with the following data:\n",
        "\n",
        "Companies in the hardware industry based in either Beijing, San Francisco, or London\n",
        "Companies in the artificial intelligence industry based in London\n",
        "A list of the top 20 countries sorted by sum of company valuations in each country, excluding United States, China, India, and United Kingdom\n",
        "A global valuation map of all countries with companies that joined the list after 2020\n",
        "A global valuation map of all countries except United States, China, India, and United Kingdom (a separate map for Europe is also required)\n",
        "Your dataset includes a list of businesses and data points, such as the year they were founded; their industry; and their city, country, and continent.\n",
        "\n",
        "\n",
        "---\n",
        "\n",
        "\n",
        "\n",
        "---\n",
        "\n",
        "\n",
        "\n"
      ],
      "metadata": {
        "id": "z82FzQzj0Rar"
      }
    },
    {
      "cell_type": "markdown",
      "source": [
        "### Loading and Exploring"
      ],
      "metadata": {
        "id": "ZsGxacNezD5x"
      }
    },
    {
      "cell_type": "markdown",
      "source": [
        "1. Import the libraries"
      ],
      "metadata": {
        "id": "-_AjJ5vl0bGk"
      }
    },
    {
      "cell_type": "code",
      "source": [
        "import pandas as pd\n",
        "import numpy as np\n",
        "import datetime as dt\n",
        "import seaborn as sp\n",
        "import matplotlib.pyplot as pt\n",
        "import plotly.express as px"
      ],
      "metadata": {
        "id": "lKy15Hxx0aru"
      },
      "execution_count": 1,
      "outputs": []
    },
    {
      "cell_type": "markdown",
      "source": [
        "2. Loading the dataset into a dataframe"
      ],
      "metadata": {
        "id": "N1k9gKpV1B3U"
      }
    },
    {
      "cell_type": "code",
      "execution_count": 2,
      "metadata": {
        "colab": {
          "base_uri": "https://localhost:8080/",
          "height": 0
        },
        "id": "kU8NpdE6y7Ho",
        "outputId": "767b35fe-7b9c-4364-a067-a7f1b53d6237"
      },
      "outputs": [
        {
          "output_type": "stream",
          "name": "stdout",
          "text": [
            "Mounted at /content/gdrive\n"
          ]
        }
      ],
      "source": [
        "#First i need to mount to my google drive and read my unicorn.csv file\n",
        "from google.colab import drive\n",
        "drive.mount('/content/gdrive')"
      ]
    },
    {
      "cell_type": "code",
      "source": [
        "df=pd.read_csv('/content/gdrive/MyDrive/mnnC4I-GRSa5wuCPhjUmvg_8699e4146ad7419d8f5e069340b789f1_Unicorn_Companies.csv')"
      ],
      "metadata": {
        "id": "zN7c9iHo1gP9"
      },
      "execution_count": 439,
      "outputs": []
    },
    {
      "cell_type": "markdown",
      "source": [
        "3. Data Exploration"
      ],
      "metadata": {
        "id": "hHI_9J612Adk"
      }
    },
    {
      "cell_type": "markdown",
      "source": [
        "- Display head rows"
      ],
      "metadata": {
        "id": "M-beMK4b2Erd"
      }
    },
    {
      "cell_type": "code",
      "source": [
        "df.head(10)"
      ],
      "metadata": {
        "colab": {
          "base_uri": "https://localhost:8080/",
          "height": 598
        },
        "id": "Z4KmR8EJ1yD4",
        "outputId": "4b2c57f9-9210-497a-b7f4-6cbd0ba49211"
      },
      "execution_count": 440,
      "outputs": [
        {
          "output_type": "execute_result",
          "data": {
            "text/plain": [
              "        Company Valuation Date Joined                             Industry  \\\n",
              "0     Bytedance     $180B      4/7/17              Artificial intelligence   \n",
              "1        SpaceX     $100B     12/1/12                                Other   \n",
              "2         SHEIN     $100B      7/3/18      E-commerce & direct-to-consumer   \n",
              "3        Stripe      $95B     1/23/14                              Fintech   \n",
              "4        Klarna      $46B    12/12/11                              Fintech   \n",
              "5         Canva      $40B      1/8/18         Internet software & services   \n",
              "6  Checkout.com      $40B      5/2/19                              Fintech   \n",
              "7     Instacart      $39B    12/30/14  Supply chain, logistics, & delivery   \n",
              "8     JUUL Labs      $38B    12/20/17                    Consumer & retail   \n",
              "9    Databricks      $38B      2/5/19          Data management & analytics   \n",
              "\n",
              "            City  Country/Region      Continent  Year Founded Funding  \\\n",
              "0        Beijing           China           Asia          2012     $8B   \n",
              "1      Hawthorne   United States  North America          2002     $7B   \n",
              "2       Shenzhen           China           Asia          2008     $2B   \n",
              "3  San Francisco   United States  North America          2010     $2B   \n",
              "4      Stockholm          Sweden         Europe          2005     $4B   \n",
              "5    Surry Hills       Australia        Oceania          2012   $572M   \n",
              "6         London  United Kingdom         Europe          2012     $2B   \n",
              "7  San Francisco   United States  North America          2012     $3B   \n",
              "8  San Francisco   United States  North America          2015    $14B   \n",
              "9  San Francisco   United States  North America          2013     $3B   \n",
              "\n",
              "                                    Select Investors  \n",
              "0  Sequoia Capital China, SIG Asia Investments, S...  \n",
              "1  Founders Fund, Draper Fisher Jurvetson, Rothen...  \n",
              "2  Tiger Global Management, Sequoia Capital China...  \n",
              "3        Khosla Ventures, LowercaseCapital, capitalG  \n",
              "4  Institutional Venture Partners, Sequoia Capita...  \n",
              "5  Sequoia Capital China, Blackbird Ventures, Mat...  \n",
              "6  Tiger Global Management, Insight Partners, DST...  \n",
              "7  Khosla Ventures, Kleiner Perkins Caufield & By...  \n",
              "8                            Tiger Global Management  \n",
              "9  Andreessen Horowitz, New Enterprise Associates...  "
            ],
            "text/html": [
              "\n",
              "  <div id=\"df-4740d053-a104-4b5d-88d3-bc87fa11f4ca\">\n",
              "    <div class=\"colab-df-container\">\n",
              "      <div>\n",
              "<style scoped>\n",
              "    .dataframe tbody tr th:only-of-type {\n",
              "        vertical-align: middle;\n",
              "    }\n",
              "\n",
              "    .dataframe tbody tr th {\n",
              "        vertical-align: top;\n",
              "    }\n",
              "\n",
              "    .dataframe thead th {\n",
              "        text-align: right;\n",
              "    }\n",
              "</style>\n",
              "<table border=\"1\" class=\"dataframe\">\n",
              "  <thead>\n",
              "    <tr style=\"text-align: right;\">\n",
              "      <th></th>\n",
              "      <th>Company</th>\n",
              "      <th>Valuation</th>\n",
              "      <th>Date Joined</th>\n",
              "      <th>Industry</th>\n",
              "      <th>City</th>\n",
              "      <th>Country/Region</th>\n",
              "      <th>Continent</th>\n",
              "      <th>Year Founded</th>\n",
              "      <th>Funding</th>\n",
              "      <th>Select Investors</th>\n",
              "    </tr>\n",
              "  </thead>\n",
              "  <tbody>\n",
              "    <tr>\n",
              "      <th>0</th>\n",
              "      <td>Bytedance</td>\n",
              "      <td>$180B</td>\n",
              "      <td>4/7/17</td>\n",
              "      <td>Artificial intelligence</td>\n",
              "      <td>Beijing</td>\n",
              "      <td>China</td>\n",
              "      <td>Asia</td>\n",
              "      <td>2012</td>\n",
              "      <td>$8B</td>\n",
              "      <td>Sequoia Capital China, SIG Asia Investments, S...</td>\n",
              "    </tr>\n",
              "    <tr>\n",
              "      <th>1</th>\n",
              "      <td>SpaceX</td>\n",
              "      <td>$100B</td>\n",
              "      <td>12/1/12</td>\n",
              "      <td>Other</td>\n",
              "      <td>Hawthorne</td>\n",
              "      <td>United States</td>\n",
              "      <td>North America</td>\n",
              "      <td>2002</td>\n",
              "      <td>$7B</td>\n",
              "      <td>Founders Fund, Draper Fisher Jurvetson, Rothen...</td>\n",
              "    </tr>\n",
              "    <tr>\n",
              "      <th>2</th>\n",
              "      <td>SHEIN</td>\n",
              "      <td>$100B</td>\n",
              "      <td>7/3/18</td>\n",
              "      <td>E-commerce &amp; direct-to-consumer</td>\n",
              "      <td>Shenzhen</td>\n",
              "      <td>China</td>\n",
              "      <td>Asia</td>\n",
              "      <td>2008</td>\n",
              "      <td>$2B</td>\n",
              "      <td>Tiger Global Management, Sequoia Capital China...</td>\n",
              "    </tr>\n",
              "    <tr>\n",
              "      <th>3</th>\n",
              "      <td>Stripe</td>\n",
              "      <td>$95B</td>\n",
              "      <td>1/23/14</td>\n",
              "      <td>Fintech</td>\n",
              "      <td>San Francisco</td>\n",
              "      <td>United States</td>\n",
              "      <td>North America</td>\n",
              "      <td>2010</td>\n",
              "      <td>$2B</td>\n",
              "      <td>Khosla Ventures, LowercaseCapital, capitalG</td>\n",
              "    </tr>\n",
              "    <tr>\n",
              "      <th>4</th>\n",
              "      <td>Klarna</td>\n",
              "      <td>$46B</td>\n",
              "      <td>12/12/11</td>\n",
              "      <td>Fintech</td>\n",
              "      <td>Stockholm</td>\n",
              "      <td>Sweden</td>\n",
              "      <td>Europe</td>\n",
              "      <td>2005</td>\n",
              "      <td>$4B</td>\n",
              "      <td>Institutional Venture Partners, Sequoia Capita...</td>\n",
              "    </tr>\n",
              "    <tr>\n",
              "      <th>5</th>\n",
              "      <td>Canva</td>\n",
              "      <td>$40B</td>\n",
              "      <td>1/8/18</td>\n",
              "      <td>Internet software &amp; services</td>\n",
              "      <td>Surry Hills</td>\n",
              "      <td>Australia</td>\n",
              "      <td>Oceania</td>\n",
              "      <td>2012</td>\n",
              "      <td>$572M</td>\n",
              "      <td>Sequoia Capital China, Blackbird Ventures, Mat...</td>\n",
              "    </tr>\n",
              "    <tr>\n",
              "      <th>6</th>\n",
              "      <td>Checkout.com</td>\n",
              "      <td>$40B</td>\n",
              "      <td>5/2/19</td>\n",
              "      <td>Fintech</td>\n",
              "      <td>London</td>\n",
              "      <td>United Kingdom</td>\n",
              "      <td>Europe</td>\n",
              "      <td>2012</td>\n",
              "      <td>$2B</td>\n",
              "      <td>Tiger Global Management, Insight Partners, DST...</td>\n",
              "    </tr>\n",
              "    <tr>\n",
              "      <th>7</th>\n",
              "      <td>Instacart</td>\n",
              "      <td>$39B</td>\n",
              "      <td>12/30/14</td>\n",
              "      <td>Supply chain, logistics, &amp; delivery</td>\n",
              "      <td>San Francisco</td>\n",
              "      <td>United States</td>\n",
              "      <td>North America</td>\n",
              "      <td>2012</td>\n",
              "      <td>$3B</td>\n",
              "      <td>Khosla Ventures, Kleiner Perkins Caufield &amp; By...</td>\n",
              "    </tr>\n",
              "    <tr>\n",
              "      <th>8</th>\n",
              "      <td>JUUL Labs</td>\n",
              "      <td>$38B</td>\n",
              "      <td>12/20/17</td>\n",
              "      <td>Consumer &amp; retail</td>\n",
              "      <td>San Francisco</td>\n",
              "      <td>United States</td>\n",
              "      <td>North America</td>\n",
              "      <td>2015</td>\n",
              "      <td>$14B</td>\n",
              "      <td>Tiger Global Management</td>\n",
              "    </tr>\n",
              "    <tr>\n",
              "      <th>9</th>\n",
              "      <td>Databricks</td>\n",
              "      <td>$38B</td>\n",
              "      <td>2/5/19</td>\n",
              "      <td>Data management &amp; analytics</td>\n",
              "      <td>San Francisco</td>\n",
              "      <td>United States</td>\n",
              "      <td>North America</td>\n",
              "      <td>2013</td>\n",
              "      <td>$3B</td>\n",
              "      <td>Andreessen Horowitz, New Enterprise Associates...</td>\n",
              "    </tr>\n",
              "  </tbody>\n",
              "</table>\n",
              "</div>\n",
              "      <button class=\"colab-df-convert\" onclick=\"convertToInteractive('df-4740d053-a104-4b5d-88d3-bc87fa11f4ca')\"\n",
              "              title=\"Convert this dataframe to an interactive table.\"\n",
              "              style=\"display:none;\">\n",
              "        \n",
              "  <svg xmlns=\"http://www.w3.org/2000/svg\" height=\"24px\"viewBox=\"0 0 24 24\"\n",
              "       width=\"24px\">\n",
              "    <path d=\"M0 0h24v24H0V0z\" fill=\"none\"/>\n",
              "    <path d=\"M18.56 5.44l.94 2.06.94-2.06 2.06-.94-2.06-.94-.94-2.06-.94 2.06-2.06.94zm-11 1L8.5 8.5l.94-2.06 2.06-.94-2.06-.94L8.5 2.5l-.94 2.06-2.06.94zm10 10l.94 2.06.94-2.06 2.06-.94-2.06-.94-.94-2.06-.94 2.06-2.06.94z\"/><path d=\"M17.41 7.96l-1.37-1.37c-.4-.4-.92-.59-1.43-.59-.52 0-1.04.2-1.43.59L10.3 9.45l-7.72 7.72c-.78.78-.78 2.05 0 2.83L4 21.41c.39.39.9.59 1.41.59.51 0 1.02-.2 1.41-.59l7.78-7.78 2.81-2.81c.8-.78.8-2.07 0-2.86zM5.41 20L4 18.59l7.72-7.72 1.47 1.35L5.41 20z\"/>\n",
              "  </svg>\n",
              "      </button>\n",
              "      \n",
              "  <style>\n",
              "    .colab-df-container {\n",
              "      display:flex;\n",
              "      flex-wrap:wrap;\n",
              "      gap: 12px;\n",
              "    }\n",
              "\n",
              "    .colab-df-convert {\n",
              "      background-color: #E8F0FE;\n",
              "      border: none;\n",
              "      border-radius: 50%;\n",
              "      cursor: pointer;\n",
              "      display: none;\n",
              "      fill: #1967D2;\n",
              "      height: 32px;\n",
              "      padding: 0 0 0 0;\n",
              "      width: 32px;\n",
              "    }\n",
              "\n",
              "    .colab-df-convert:hover {\n",
              "      background-color: #E2EBFA;\n",
              "      box-shadow: 0px 1px 2px rgba(60, 64, 67, 0.3), 0px 1px 3px 1px rgba(60, 64, 67, 0.15);\n",
              "      fill: #174EA6;\n",
              "    }\n",
              "\n",
              "    [theme=dark] .colab-df-convert {\n",
              "      background-color: #3B4455;\n",
              "      fill: #D2E3FC;\n",
              "    }\n",
              "\n",
              "    [theme=dark] .colab-df-convert:hover {\n",
              "      background-color: #434B5C;\n",
              "      box-shadow: 0px 1px 3px 1px rgba(0, 0, 0, 0.15);\n",
              "      filter: drop-shadow(0px 1px 2px rgba(0, 0, 0, 0.3));\n",
              "      fill: #FFFFFF;\n",
              "    }\n",
              "  </style>\n",
              "\n",
              "      <script>\n",
              "        const buttonEl =\n",
              "          document.querySelector('#df-4740d053-a104-4b5d-88d3-bc87fa11f4ca button.colab-df-convert');\n",
              "        buttonEl.style.display =\n",
              "          google.colab.kernel.accessAllowed ? 'block' : 'none';\n",
              "\n",
              "        async function convertToInteractive(key) {\n",
              "          const element = document.querySelector('#df-4740d053-a104-4b5d-88d3-bc87fa11f4ca');\n",
              "          const dataTable =\n",
              "            await google.colab.kernel.invokeFunction('convertToInteractive',\n",
              "                                                     [key], {});\n",
              "          if (!dataTable) return;\n",
              "\n",
              "          const docLinkHtml = 'Like what you see? Visit the ' +\n",
              "            '<a target=\"_blank\" href=https://colab.research.google.com/notebooks/data_table.ipynb>data table notebook</a>'\n",
              "            + ' to learn more about interactive tables.';\n",
              "          element.innerHTML = '';\n",
              "          dataTable['output_type'] = 'display_data';\n",
              "          await google.colab.output.renderOutput(dataTable, element);\n",
              "          const docLink = document.createElement('div');\n",
              "          docLink.innerHTML = docLinkHtml;\n",
              "          element.appendChild(docLink);\n",
              "        }\n",
              "      </script>\n",
              "    </div>\n",
              "  </div>\n",
              "  "
            ]
          },
          "metadata": {},
          "execution_count": 440
        }
      ]
    },
    {
      "cell_type": "markdown",
      "source": [
        "- Exploring the columns in the dataset"
      ],
      "metadata": {
        "id": "WDCcnTho7NJ5"
      }
    },
    {
      "cell_type": "code",
      "source": [
        "features=list(df.columns)"
      ],
      "metadata": {
        "id": "bSrVtA5_2SO_"
      },
      "execution_count": 441,
      "outputs": []
    },
    {
      "cell_type": "code",
      "source": [
        "features"
      ],
      "metadata": {
        "colab": {
          "base_uri": "https://localhost:8080/",
          "height": 0
        },
        "id": "Mo_9s9OH7SxV",
        "outputId": "0eb49547-1212-418a-f1c6-1f890188ad24"
      },
      "execution_count": 442,
      "outputs": [
        {
          "output_type": "execute_result",
          "data": {
            "text/plain": [
              "['Company',\n",
              " 'Valuation',\n",
              " 'Date Joined',\n",
              " 'Industry',\n",
              " 'City',\n",
              " 'Country/Region',\n",
              " 'Continent',\n",
              " 'Year Founded',\n",
              " 'Funding',\n",
              " 'Select Investors']"
            ]
          },
          "metadata": {},
          "execution_count": 442
        }
      ]
    },
    {
      "cell_type": "markdown",
      "source": [
        "- The shape of the dataset: number of rows, number of columns"
      ],
      "metadata": {
        "id": "oOAHnpVU7p0x"
      }
    },
    {
      "cell_type": "code",
      "source": [
        "print(\"The dataset contains \",df.shape[0],' rows and ',df.shape[1], ' columns')"
      ],
      "metadata": {
        "colab": {
          "base_uri": "https://localhost:8080/",
          "height": 0
        },
        "id": "po057zW57Z-8",
        "outputId": "4c125938-f577-4631-fa9e-17240112a2a5"
      },
      "execution_count": 443,
      "outputs": [
        {
          "output_type": "stream",
          "name": "stdout",
          "text": [
            "The dataset contains  1074  rows and  10  columns\n"
          ]
        }
      ]
    },
    {
      "cell_type": "markdown",
      "source": [
        "- Viewing non-null values across columns"
      ],
      "metadata": {
        "id": "mLbUU2cR8FVM"
      }
    },
    {
      "cell_type": "code",
      "source": [
        "df.info()"
      ],
      "metadata": {
        "colab": {
          "base_uri": "https://localhost:8080/",
          "height": 0
        },
        "id": "j2oFSIQw7wHV",
        "outputId": "69a64277-1f26-4d81-a1a3-559afc610fdf"
      },
      "execution_count": 444,
      "outputs": [
        {
          "output_type": "stream",
          "name": "stdout",
          "text": [
            "<class 'pandas.core.frame.DataFrame'>\n",
            "RangeIndex: 1074 entries, 0 to 1073\n",
            "Data columns (total 10 columns):\n",
            " #   Column            Non-Null Count  Dtype \n",
            "---  ------            --------------  ----- \n",
            " 0   Company           1074 non-null   object\n",
            " 1   Valuation         1074 non-null   object\n",
            " 2   Date Joined       1074 non-null   object\n",
            " 3   Industry          1074 non-null   object\n",
            " 4   City              1058 non-null   object\n",
            " 5   Country/Region    1074 non-null   object\n",
            " 6   Continent         1074 non-null   object\n",
            " 7   Year Founded      1074 non-null   int64 \n",
            " 8   Funding           1074 non-null   object\n",
            " 9   Select Investors  1073 non-null   object\n",
            "dtypes: int64(1), object(9)\n",
            "memory usage: 84.0+ KB\n"
          ]
        }
      ]
    },
    {
      "cell_type": "markdown",
      "source": [
        "-- An insight: there are 2 columns that contail non-null values less than the total rows in the dataset"
      ],
      "metadata": {
        "id": "WGY1Gh3Z8rMj"
      }
    },
    {
      "cell_type": "markdown",
      "source": [
        "- The oldest year of a company"
      ],
      "metadata": {
        "id": "zkoWtsh381gS"
      }
    },
    {
      "cell_type": "code",
      "source": [
        "df.describe()"
      ],
      "metadata": {
        "colab": {
          "base_uri": "https://localhost:8080/",
          "height": 300
        },
        "id": "QSiJAguj8KL5",
        "outputId": "6ea228d6-59c0-4521-947d-4f3b013dd4a4"
      },
      "execution_count": 445,
      "outputs": [
        {
          "output_type": "execute_result",
          "data": {
            "text/plain": [
              "       Year Founded\n",
              "count   1074.000000\n",
              "mean    2012.895717\n",
              "std        5.698573\n",
              "min     1919.000000\n",
              "25%     2011.000000\n",
              "50%     2014.000000\n",
              "75%     2016.000000\n",
              "max     2021.000000"
            ],
            "text/html": [
              "\n",
              "  <div id=\"df-736e77df-af15-4a29-bf41-4365ce2e63cd\">\n",
              "    <div class=\"colab-df-container\">\n",
              "      <div>\n",
              "<style scoped>\n",
              "    .dataframe tbody tr th:only-of-type {\n",
              "        vertical-align: middle;\n",
              "    }\n",
              "\n",
              "    .dataframe tbody tr th {\n",
              "        vertical-align: top;\n",
              "    }\n",
              "\n",
              "    .dataframe thead th {\n",
              "        text-align: right;\n",
              "    }\n",
              "</style>\n",
              "<table border=\"1\" class=\"dataframe\">\n",
              "  <thead>\n",
              "    <tr style=\"text-align: right;\">\n",
              "      <th></th>\n",
              "      <th>Year Founded</th>\n",
              "    </tr>\n",
              "  </thead>\n",
              "  <tbody>\n",
              "    <tr>\n",
              "      <th>count</th>\n",
              "      <td>1074.000000</td>\n",
              "    </tr>\n",
              "    <tr>\n",
              "      <th>mean</th>\n",
              "      <td>2012.895717</td>\n",
              "    </tr>\n",
              "    <tr>\n",
              "      <th>std</th>\n",
              "      <td>5.698573</td>\n",
              "    </tr>\n",
              "    <tr>\n",
              "      <th>min</th>\n",
              "      <td>1919.000000</td>\n",
              "    </tr>\n",
              "    <tr>\n",
              "      <th>25%</th>\n",
              "      <td>2011.000000</td>\n",
              "    </tr>\n",
              "    <tr>\n",
              "      <th>50%</th>\n",
              "      <td>2014.000000</td>\n",
              "    </tr>\n",
              "    <tr>\n",
              "      <th>75%</th>\n",
              "      <td>2016.000000</td>\n",
              "    </tr>\n",
              "    <tr>\n",
              "      <th>max</th>\n",
              "      <td>2021.000000</td>\n",
              "    </tr>\n",
              "  </tbody>\n",
              "</table>\n",
              "</div>\n",
              "      <button class=\"colab-df-convert\" onclick=\"convertToInteractive('df-736e77df-af15-4a29-bf41-4365ce2e63cd')\"\n",
              "              title=\"Convert this dataframe to an interactive table.\"\n",
              "              style=\"display:none;\">\n",
              "        \n",
              "  <svg xmlns=\"http://www.w3.org/2000/svg\" height=\"24px\"viewBox=\"0 0 24 24\"\n",
              "       width=\"24px\">\n",
              "    <path d=\"M0 0h24v24H0V0z\" fill=\"none\"/>\n",
              "    <path d=\"M18.56 5.44l.94 2.06.94-2.06 2.06-.94-2.06-.94-.94-2.06-.94 2.06-2.06.94zm-11 1L8.5 8.5l.94-2.06 2.06-.94-2.06-.94L8.5 2.5l-.94 2.06-2.06.94zm10 10l.94 2.06.94-2.06 2.06-.94-2.06-.94-.94-2.06-.94 2.06-2.06.94z\"/><path d=\"M17.41 7.96l-1.37-1.37c-.4-.4-.92-.59-1.43-.59-.52 0-1.04.2-1.43.59L10.3 9.45l-7.72 7.72c-.78.78-.78 2.05 0 2.83L4 21.41c.39.39.9.59 1.41.59.51 0 1.02-.2 1.41-.59l7.78-7.78 2.81-2.81c.8-.78.8-2.07 0-2.86zM5.41 20L4 18.59l7.72-7.72 1.47 1.35L5.41 20z\"/>\n",
              "  </svg>\n",
              "      </button>\n",
              "      \n",
              "  <style>\n",
              "    .colab-df-container {\n",
              "      display:flex;\n",
              "      flex-wrap:wrap;\n",
              "      gap: 12px;\n",
              "    }\n",
              "\n",
              "    .colab-df-convert {\n",
              "      background-color: #E8F0FE;\n",
              "      border: none;\n",
              "      border-radius: 50%;\n",
              "      cursor: pointer;\n",
              "      display: none;\n",
              "      fill: #1967D2;\n",
              "      height: 32px;\n",
              "      padding: 0 0 0 0;\n",
              "      width: 32px;\n",
              "    }\n",
              "\n",
              "    .colab-df-convert:hover {\n",
              "      background-color: #E2EBFA;\n",
              "      box-shadow: 0px 1px 2px rgba(60, 64, 67, 0.3), 0px 1px 3px 1px rgba(60, 64, 67, 0.15);\n",
              "      fill: #174EA6;\n",
              "    }\n",
              "\n",
              "    [theme=dark] .colab-df-convert {\n",
              "      background-color: #3B4455;\n",
              "      fill: #D2E3FC;\n",
              "    }\n",
              "\n",
              "    [theme=dark] .colab-df-convert:hover {\n",
              "      background-color: #434B5C;\n",
              "      box-shadow: 0px 1px 3px 1px rgba(0, 0, 0, 0.15);\n",
              "      filter: drop-shadow(0px 1px 2px rgba(0, 0, 0, 0.3));\n",
              "      fill: #FFFFFF;\n",
              "    }\n",
              "  </style>\n",
              "\n",
              "      <script>\n",
              "        const buttonEl =\n",
              "          document.querySelector('#df-736e77df-af15-4a29-bf41-4365ce2e63cd button.colab-df-convert');\n",
              "        buttonEl.style.display =\n",
              "          google.colab.kernel.accessAllowed ? 'block' : 'none';\n",
              "\n",
              "        async function convertToInteractive(key) {\n",
              "          const element = document.querySelector('#df-736e77df-af15-4a29-bf41-4365ce2e63cd');\n",
              "          const dataTable =\n",
              "            await google.colab.kernel.invokeFunction('convertToInteractive',\n",
              "                                                     [key], {});\n",
              "          if (!dataTable) return;\n",
              "\n",
              "          const docLinkHtml = 'Like what you see? Visit the ' +\n",
              "            '<a target=\"_blank\" href=https://colab.research.google.com/notebooks/data_table.ipynb>data table notebook</a>'\n",
              "            + ' to learn more about interactive tables.';\n",
              "          element.innerHTML = '';\n",
              "          dataTable['output_type'] = 'display_data';\n",
              "          await google.colab.output.renderOutput(dataTable, element);\n",
              "          const docLink = document.createElement('div');\n",
              "          docLink.innerHTML = docLinkHtml;\n",
              "          element.appendChild(docLink);\n",
              "        }\n",
              "      </script>\n",
              "    </div>\n",
              "  </div>\n",
              "  "
            ]
          },
          "metadata": {},
          "execution_count": 445
        }
      ]
    },
    {
      "cell_type": "code",
      "source": [
        "#there is another way of getting the oldest year\n",
        "print('The year of founding the oldest company is:',df['Year Founded'].min())"
      ],
      "metadata": {
        "colab": {
          "base_uri": "https://localhost:8080/",
          "height": 0
        },
        "id": "xWuoeg8m88bx",
        "outputId": "83c236f4-eeec-4868-c205-dd9b0078cf7c"
      },
      "execution_count": 446,
      "outputs": [
        {
          "output_type": "stream",
          "name": "stdout",
          "text": [
            "The year of founding the oldest company is: 1919\n"
          ]
        }
      ]
    },
    {
      "cell_type": "markdown",
      "source": [
        "### Data preprocessing"
      ],
      "metadata": {
        "id": "M5sa9sue-HRe"
      }
    },
    {
      "cell_type": "markdown",
      "source": [
        "- Lower case the Industry column"
      ],
      "metadata": {
        "id": "5xHRHMbREQEz"
      }
    },
    {
      "cell_type": "code",
      "source": [
        "df['Industry']=df['Industry'].str.lower()"
      ],
      "metadata": {
        "id": "CnEaTwJQEP1P"
      },
      "execution_count": 447,
      "outputs": []
    },
    {
      "cell_type": "markdown",
      "source": [
        "- Adding new columns derived from the given columns"
      ],
      "metadata": {
        "id": "aGcRLc-WBvDy"
      }
    },
    {
      "cell_type": "code",
      "source": [
        "#first convert it to a datetime type\n",
        "df['Date Joined']=pd.to_datetime(df['Date Joined'])"
      ],
      "metadata": {
        "id": "9T8rlo9kCo98"
      },
      "execution_count": 449,
      "outputs": []
    },
    {
      "cell_type": "code",
      "source": [
        "df['year_joined']=df['Date Joined'].dt.year"
      ],
      "metadata": {
        "id": "lEg5D81YEB1x"
      },
      "execution_count": 451,
      "outputs": []
    },
    {
      "cell_type": "code",
      "source": [
        "contries=df['Country/Region'].value_counts().index"
      ],
      "metadata": {
        "id": "y0OaUpypFG5Y"
      },
      "execution_count": 454,
      "outputs": []
    },
    {
      "cell_type": "code",
      "source": [
        "contries_count=df['Country/Region'].value_counts().values"
      ],
      "metadata": {
        "id": "ysHnE-1AFb8g"
      },
      "execution_count": 455,
      "outputs": []
    },
    {
      "cell_type": "code",
      "source": [
        "sp.barplot(x = contries,\n",
        "            y = contries_count,\n",
        "            data = df).set(title='Contries vs Number of companies')\n",
        "\n",
        "# Show the plot\n",
        "pt.xticks(rotation=90)\n",
        "pt.show()"
      ],
      "metadata": {
        "colab": {
          "base_uri": "https://localhost:8080/",
          "height": 587
        },
        "id": "c1Oit1xtFW8S",
        "outputId": "033045ab-5f1c-40e6-a1bf-c706891376cb"
      },
      "execution_count": 457,
      "outputs": [
        {
          "output_type": "display_data",
          "data": {
            "text/plain": [
              "<Figure size 640x480 with 1 Axes>"
            ],
            "image/png": "[encoded data removed]"
          },
          "metadata": {}
        }
      ]
    },
    {
      "cell_type": "code",
      "source": [
        "city=df['City'].value_counts().index\n",
        "companypercity=df['City'].value_counts().values\n"
      ],
      "metadata": {
        "id": "7l-Qsr-3d3oy"
      },
      "execution_count": 458,
      "outputs": []
    },
    {
      "cell_type": "code",
      "source": [
        "#Across the cities (Top 20):\n",
        "sp.barplot(x = city[:20],\n",
        "            y = companypercity[:20],\n",
        "            data = df).set(title='Top 20 company per city')\n",
        "\n",
        "# Show the plot\n",
        "pt.xticks(rotation=90)\n",
        "pt.show()"
      ],
      "metadata": {
        "colab": {
          "base_uri": "https://localhost:8080/",
          "height": 540
        },
        "id": "JCQ0DOjQdyO5",
        "outputId": "f124cb66-a5bc-4d34-86bb-98d162cd231a"
      },
      "execution_count": 459,
      "outputs": [
        {
          "output_type": "display_data",
          "data": {
            "text/plain": [
              "<Figure size 640x480 with 1 Axes>"
            ],
            "image/png": "[encoded data removed]"
          },
          "metadata": {}
        }
      ]
    },
    {
      "cell_type": "markdown",
      "source": [
        "- The valuation sum per country"
      ],
      "metadata": {
        "id": "Z0x9XI-FH02t"
      }
    },
    {
      "cell_type": "markdown",
      "source": [
        "-- need to first convert the column valuation to a numeric data type"
      ],
      "metadata": {
        "id": "TksJG_Aco9uQ"
      }
    },
    {
      "cell_type": "code",
      "source": [
        "df['Valuation']=df['Valuation'].str[1:-1]"
      ],
      "metadata": {
        "id": "nXGlhCvbqWFr"
      },
      "execution_count": 461,
      "outputs": []
    },
    {
      "cell_type": "code",
      "source": [
        "#now convert it to int type\n",
        "df['Valuation'] = df['Valuation'].astype(int)"
      ],
      "metadata": {
        "id": "zBH6jLmXqyvO"
      },
      "execution_count": 463,
      "outputs": []
    },
    {
      "cell_type": "code",
      "source": [
        "df_grouped=df.groupby(['Country/Region'], as_index=False).sum()"
      ],
      "metadata": {
        "colab": {
          "base_uri": "https://localhost:8080/",
          "height": 0
        },
        "id": "W8lf1EEVmy9Z",
        "outputId": "5086a243-1b6d-4a64-d404-6cdfd8cea9ec"
      },
      "execution_count": 464,
      "outputs": [
        {
          "output_type": "stream",
          "name": "stderr",
          "text": [
            "<ipython-input-464-1d22c1c1a837>:1: FutureWarning: The default value of numeric_only in DataFrameGroupBy.sum is deprecated. In a future version, numeric_only will default to False. Either specify numeric_only or select only columns which should be valid for the function.\n",
            "  df_grouped=df.groupby(['Country/Region'], as_index=False).sum()\n"
          ]
        }
      ]
    },
    {
      "cell_type": "code",
      "source": [
        "df_grouped=df_grouped.drop(['Year Founded','year_joined'],axis=1)"
      ],
      "metadata": {
        "id": "8TQKdHQknKX1"
      },
      "execution_count": 465,
      "outputs": []
    },
    {
      "cell_type": "code",
      "source": [
        "df_grouped.rename(columns = {'Valuation':'Total Valuation'}, inplace = True)"
      ],
      "metadata": {
        "id": "TSYjWEG4rQrD"
      },
      "execution_count": 467,
      "outputs": []
    },
    {
      "cell_type": "code",
      "source": [
        "#Sorting the df_grouped in an accending order:\n",
        "df_grouped=df_grouped.sort_values(by=['Total Valuation'], ascending=False)\n"
      ],
      "metadata": {
        "id": "DnUhR3xTfNgf"
      },
      "execution_count": 468,
      "outputs": []
    },
    {
      "cell_type": "markdown",
      "source": [
        "- Finding missing values"
      ],
      "metadata": {
        "id": "H2zMk39usJks"
      }
    },
    {
      "cell_type": "code",
      "source": [
        "df.isnull().sum()"
      ],
      "metadata": {
        "colab": {
          "base_uri": "https://localhost:8080/",
          "height": 0
        },
        "id": "TZBRCvMkrlJO",
        "outputId": "05578e70-c39a-4ff0-a5e2-aae3d05ed593"
      },
      "execution_count": 470,
      "outputs": [
        {
          "output_type": "execute_result",
          "data": {
            "text/plain": [
              "Company              0\n",
              "Valuation            0\n",
              "Date Joined          0\n",
              "Industry             0\n",
              "City                16\n",
              "Country/Region       0\n",
              "Continent            0\n",
              "Year Founded         0\n",
              "Funding              0\n",
              "Select Investors     1\n",
              "year_joined          0\n",
              "dtype: int64"
            ]
          },
          "metadata": {},
          "execution_count": 470
        }
      ]
    },
    {
      "cell_type": "code",
      "source": [
        "[features for features in df.columns if df[features].isnull().sum()>0]"
      ],
      "metadata": {
        "colab": {
          "base_uri": "https://localhost:8080/",
          "height": 0
        },
        "id": "VtUMSL4isg9x",
        "outputId": "06d334fa-91ee-425d-c3a7-371ef65b974c"
      },
      "execution_count": 471,
      "outputs": [
        {
          "output_type": "execute_result",
          "data": {
            "text/plain": [
              "['City', 'Select Investors']"
            ]
          },
          "metadata": {},
          "execution_count": 471
        }
      ]
    },
    {
      "cell_type": "code",
      "source": [
        "df['Select Investors'].isnull().sum()"
      ],
      "metadata": {
        "colab": {
          "base_uri": "https://localhost:8080/",
          "height": 0
        },
        "id": "ef9NlocbwMZH",
        "outputId": "9ea1167d-d98b-4c74-ce81-1c66a4143cbe"
      },
      "execution_count": 472,
      "outputs": [
        {
          "output_type": "execute_result",
          "data": {
            "text/plain": [
              "1"
            ]
          },
          "metadata": {},
          "execution_count": 472
        }
      ]
    },
    {
      "cell_type": "code",
      "source": [
        "df['City'].isnull().sum()"
      ],
      "metadata": {
        "colab": {
          "base_uri": "https://localhost:8080/",
          "height": 0
        },
        "id": "jkjYum41wEpv",
        "outputId": "ad93b749-a878-44f4-e09e-08f4de53735e"
      },
      "execution_count": 473,
      "outputs": [
        {
          "output_type": "execute_result",
          "data": {
            "text/plain": [
              "16"
            ]
          },
          "metadata": {},
          "execution_count": 473
        }
      ]
    },
    {
      "cell_type": "markdown",
      "source": [
        "- Dataframe that contains only missing value"
      ],
      "metadata": {
        "id": "cPzoe_AWtpza"
      }
    },
    {
      "cell_type": "code",
      "source": [
        "df_null=df[df.isnull().any(axis=1)]"
      ],
      "metadata": {
        "id": "BXogaee2suYp"
      },
      "execution_count": 474,
      "outputs": []
    },
    {
      "cell_type": "code",
      "source": [
        "df_null"
      ],
      "metadata": {
        "colab": {
          "base_uri": "https://localhost:8080/",
          "height": 939
        },
        "id": "32FIwZlhu9uN",
        "outputId": "bd24180b-1320-497d-9a4a-2caa1f2d6532"
      },
      "execution_count": 475,
      "outputs": [
        {
          "output_type": "execute_result",
          "data": {
            "text/plain": [
              "                         Company  Valuation Date Joined  \\\n",
              "12                           FTX         32  2021-07-20   \n",
              "170                    HyalRoute          4  2020-05-26   \n",
              "242                       Moglix          3  2021-05-17   \n",
              "251                         Trax          3  2019-07-22   \n",
              "325                  Amber Group          3  2021-06-21   \n",
              "382                    Ninja Van          2  2021-09-27   \n",
              "541   Advance Intelligence Group          2  2021-09-23   \n",
              "629             LinkSure Network          1  2015-01-01   \n",
              "811                    Carousell          1  2021-09-15   \n",
              "848                   Matrixport          1  2021-06-01   \n",
              "880                     bolttech          1  2021-07-01   \n",
              "889                        Carro          1  2021-06-14   \n",
              "893                        Cider          1  2021-09-02   \n",
              "980                         NIUM          1  2021-07-13   \n",
              "986                          ONE          1  2021-12-08   \n",
              "994                      PatSnap          1  2021-03-16   \n",
              "1061                       WeLab          1  2017-11-08   \n",
              "\n",
              "                                 Industry      City Country/Region  \\\n",
              "12                                fintech       NaN        Bahamas   \n",
              "170           mobile & telecommunications       NaN      Singapore   \n",
              "242       e-commerce & direct-to-consumer       NaN      Singapore   \n",
              "251               artificial intelligence       NaN      Singapore   \n",
              "325                               fintech       NaN      Hong Kong   \n",
              "382   supply chain, logistics, & delivery       NaN      Singapore   \n",
              "541               artificial intelligence       NaN      Singapore   \n",
              "629           mobile & telecommunications  Shanghai          China   \n",
              "811       e-commerce & direct-to-consumer       NaN      Singapore   \n",
              "848                               fintech       NaN      Singapore   \n",
              "880                               fintech       NaN      Singapore   \n",
              "889       e-commerce & direct-to-consumer       NaN      Singapore   \n",
              "893       e-commerce & direct-to-consumer       NaN      Hong Kong   \n",
              "980                               fintech       NaN      Singapore   \n",
              "986          internet software & services       NaN      Singapore   \n",
              "994          internet software & services       NaN      Singapore   \n",
              "1061                              fintech       NaN      Hong Kong   \n",
              "\n",
              "          Continent  Year Founded Funding  \\\n",
              "12    North America          2018     $2B   \n",
              "170            Asia          2015   $263M   \n",
              "242            Asia          2015   $471M   \n",
              "251            Asia          2010     $1B   \n",
              "325            Asia          2015   $328M   \n",
              "382            Asia          2014   $975M   \n",
              "541            Asia          2016   $536M   \n",
              "629            Asia          2013    $52M   \n",
              "811            Asia          2012   $288M   \n",
              "848            Asia          2019   $100M   \n",
              "880            Asia          2018   $210M   \n",
              "889            Asia          2015   $595M   \n",
              "893            Asia          2020   $140M   \n",
              "980            Asia          2014   $285M   \n",
              "986            Asia          2011   $515M   \n",
              "994            Asia          2007   $352M   \n",
              "1061           Asia          2013   $871M   \n",
              "\n",
              "                                       Select Investors  year_joined  \n",
              "12               Sequoia Capital, Thoma Bravo, Softbank         2021  \n",
              "170                                           Kuang-Chi         2020  \n",
              "242             Jungle Ventures, Accel, Venture Highway         2021  \n",
              "251   Hopu Investment Management, Boyu Capital, DC T...         2019  \n",
              "325   Tiger Global Management, Tiger Brokers, DCM Ve...         2021  \n",
              "382   B Capital Group, Monk's Hill Ventures, Dynamic...         2021  \n",
              "541         Vision Plus Capital, GSR Ventures, ZhenFund         2021  \n",
              "629                                                 NaN         2015  \n",
              "811   500 Global, Rakuten Ventures, Golden Gate Vent...         2021  \n",
              "848   Dragonfly Captial, Qiming Venture Partners, DS...         2021  \n",
              "880   Mundi Ventures, Doqling Capital Partners, Acti...         2021  \n",
              "889   SingTel Innov8, Alpha JWC Ventures, Golden Gat...         2021  \n",
              "893        Andreessen Horowitz, DST Global, IDG Capital         2021  \n",
              "980   Vertex Ventures SE Asia, Global Founders Capit...         2021  \n",
              "986   Temasek, Guggenheim Investments, Qatar Investm...         2021  \n",
              "994   Sequoia Capital China, Shunwei Capital Partner...         2021  \n",
              "1061  Sequoia Capital China, ING, Alibaba Entreprene...         2017  "
            ],
            "text/html": [
              "\n",
              "  <div id=\"df-fb24b08c-466a-41d6-a9b4-39e917991df4\">\n",
              "    <div class=\"colab-df-container\">\n",
              "      <div>\n",
              "<style scoped>\n",
              "    .dataframe tbody tr th:only-of-type {\n",
              "        vertical-align: middle;\n",
              "    }\n",
              "\n",
              "    .dataframe tbody tr th {\n",
              "        vertical-align: top;\n",
              "    }\n",
              "\n",
              "    .dataframe thead th {\n",
              "        text-align: right;\n",
              "    }\n",
              "</style>\n",
              "<table border=\"1\" class=\"dataframe\">\n",
              "  <thead>\n",
              "    <tr style=\"text-align: right;\">\n",
              "      <th></th>\n",
              "      <th>Company</th>\n",
              "      <th>Valuation</th>\n",
              "      <th>Date Joined</th>\n",
              "      <th>Industry</th>\n",
              "      <th>City</th>\n",
              "      <th>Country/Region</th>\n",
              "      <th>Continent</th>\n",
              "      <th>Year Founded</th>\n",
              "      <th>Funding</th>\n",
              "      <th>Select Investors</th>\n",
              "      <th>year_joined</th>\n",
              "    </tr>\n",
              "  </thead>\n",
              "  <tbody>\n",
              "    <tr>\n",
              "      <th>12</th>\n",
              "      <td>FTX</td>\n",
              "      <td>32</td>\n",
              "      <td>2021-07-20</td>\n",
              "      <td>fintech</td>\n",
              "      <td>NaN</td>\n",
              "      <td>Bahamas</td>\n",
              "      <td>North America</td>\n",
              "      <td>2018</td>\n",
              "      <td>$2B</td>\n",
              "      <td>Sequoia Capital, Thoma Bravo, Softbank</td>\n",
              "      <td>2021</td>\n",
              "    </tr>\n",
              "    <tr>\n",
              "      <th>170</th>\n",
              "      <td>HyalRoute</td>\n",
              "      <td>4</td>\n",
              "      <td>2020-05-26</td>\n",
              "      <td>mobile &amp; telecommunications</td>\n",
              "      <td>NaN</td>\n",
              "      <td>Singapore</td>\n",
              "      <td>Asia</td>\n",
              "      <td>2015</td>\n",
              "      <td>$263M</td>\n",
              "      <td>Kuang-Chi</td>\n",
              "      <td>2020</td>\n",
              "    </tr>\n",
              "    <tr>\n",
              "      <th>242</th>\n",
              "      <td>Moglix</td>\n",
              "      <td>3</td>\n",
              "      <td>2021-05-17</td>\n",
              "      <td>e-commerce &amp; direct-to-consumer</td>\n",
              "      <td>NaN</td>\n",
              "      <td>Singapore</td>\n",
              "      <td>Asia</td>\n",
              "      <td>2015</td>\n",
              "      <td>$471M</td>\n",
              "      <td>Jungle Ventures, Accel, Venture Highway</td>\n",
              "      <td>2021</td>\n",
              "    </tr>\n",
              "    <tr>\n",
              "      <th>251</th>\n",
              "      <td>Trax</td>\n",
              "      <td>3</td>\n",
              "      <td>2019-07-22</td>\n",
              "      <td>artificial intelligence</td>\n",
              "      <td>NaN</td>\n",
              "      <td>Singapore</td>\n",
              "      <td>Asia</td>\n",
              "      <td>2010</td>\n",
              "      <td>$1B</td>\n",
              "      <td>Hopu Investment Management, Boyu Capital, DC T...</td>\n",
              "      <td>2019</td>\n",
              "    </tr>\n",
              "    <tr>\n",
              "      <th>325</th>\n",
              "      <td>Amber Group</td>\n",
              "      <td>3</td>\n",
              "      <td>2021-06-21</td>\n",
              "      <td>fintech</td>\n",
              "      <td>NaN</td>\n",
              "      <td>Hong Kong</td>\n",
              "      <td>Asia</td>\n",
              "      <td>2015</td>\n",
              "      <td>$328M</td>\n",
              "      <td>Tiger Global Management, Tiger Brokers, DCM Ve...</td>\n",
              "      <td>2021</td>\n",
              "    </tr>\n",
              "    <tr>\n",
              "      <th>382</th>\n",
              "      <td>Ninja Van</td>\n",
              "      <td>2</td>\n",
              "      <td>2021-09-27</td>\n",
              "      <td>supply chain, logistics, &amp; delivery</td>\n",
              "      <td>NaN</td>\n",
              "      <td>Singapore</td>\n",
              "      <td>Asia</td>\n",
              "      <td>2014</td>\n",
              "      <td>$975M</td>\n",
              "      <td>B Capital Group, Monk's Hill Ventures, Dynamic...</td>\n",
              "      <td>2021</td>\n",
              "    </tr>\n",
              "    <tr>\n",
              "      <th>541</th>\n",
              "      <td>Advance Intelligence Group</td>\n",
              "      <td>2</td>\n",
              "      <td>2021-09-23</td>\n",
              "      <td>artificial intelligence</td>\n",
              "      <td>NaN</td>\n",
              "      <td>Singapore</td>\n",
              "      <td>Asia</td>\n",
              "      <td>2016</td>\n",
              "      <td>$536M</td>\n",
              "      <td>Vision Plus Capital, GSR Ventures, ZhenFund</td>\n",
              "      <td>2021</td>\n",
              "    </tr>\n",
              "    <tr>\n",
              "      <th>629</th>\n",
              "      <td>LinkSure Network</td>\n",
              "      <td>1</td>\n",
              "      <td>2015-01-01</td>\n",
              "      <td>mobile &amp; telecommunications</td>\n",
              "      <td>Shanghai</td>\n",
              "      <td>China</td>\n",
              "      <td>Asia</td>\n",
              "      <td>2013</td>\n",
              "      <td>$52M</td>\n",
              "      <td>NaN</td>\n",
              "      <td>2015</td>\n",
              "    </tr>\n",
              "    <tr>\n",
              "      <th>811</th>\n",
              "      <td>Carousell</td>\n",
              "      <td>1</td>\n",
              "      <td>2021-09-15</td>\n",
              "      <td>e-commerce &amp; direct-to-consumer</td>\n",
              "      <td>NaN</td>\n",
              "      <td>Singapore</td>\n",
              "      <td>Asia</td>\n",
              "      <td>2012</td>\n",
              "      <td>$288M</td>\n",
              "      <td>500 Global, Rakuten Ventures, Golden Gate Vent...</td>\n",
              "      <td>2021</td>\n",
              "    </tr>\n",
              "    <tr>\n",
              "      <th>848</th>\n",
              "      <td>Matrixport</td>\n",
              "      <td>1</td>\n",
              "      <td>2021-06-01</td>\n",
              "      <td>fintech</td>\n",
              "      <td>NaN</td>\n",
              "      <td>Singapore</td>\n",
              "      <td>Asia</td>\n",
              "      <td>2019</td>\n",
              "      <td>$100M</td>\n",
              "      <td>Dragonfly Captial, Qiming Venture Partners, DS...</td>\n",
              "      <td>2021</td>\n",
              "    </tr>\n",
              "    <tr>\n",
              "      <th>880</th>\n",
              "      <td>bolttech</td>\n",
              "      <td>1</td>\n",
              "      <td>2021-07-01</td>\n",
              "      <td>fintech</td>\n",
              "      <td>NaN</td>\n",
              "      <td>Singapore</td>\n",
              "      <td>Asia</td>\n",
              "      <td>2018</td>\n",
              "      <td>$210M</td>\n",
              "      <td>Mundi Ventures, Doqling Capital Partners, Acti...</td>\n",
              "      <td>2021</td>\n",
              "    </tr>\n",
              "    <tr>\n",
              "      <th>889</th>\n",
              "      <td>Carro</td>\n",
              "      <td>1</td>\n",
              "      <td>2021-06-14</td>\n",
              "      <td>e-commerce &amp; direct-to-consumer</td>\n",
              "      <td>NaN</td>\n",
              "      <td>Singapore</td>\n",
              "      <td>Asia</td>\n",
              "      <td>2015</td>\n",
              "      <td>$595M</td>\n",
              "      <td>SingTel Innov8, Alpha JWC Ventures, Golden Gat...</td>\n",
              "      <td>2021</td>\n",
              "    </tr>\n",
              "    <tr>\n",
              "      <th>893</th>\n",
              "      <td>Cider</td>\n",
              "      <td>1</td>\n",
              "      <td>2021-09-02</td>\n",
              "      <td>e-commerce &amp; direct-to-consumer</td>\n",
              "      <td>NaN</td>\n",
              "      <td>Hong Kong</td>\n",
              "      <td>Asia</td>\n",
              "      <td>2020</td>\n",
              "      <td>$140M</td>\n",
              "      <td>Andreessen Horowitz, DST Global, IDG Capital</td>\n",
              "      <td>2021</td>\n",
              "    </tr>\n",
              "    <tr>\n",
              "      <th>980</th>\n",
              "      <td>NIUM</td>\n",
              "      <td>1</td>\n",
              "      <td>2021-07-13</td>\n",
              "      <td>fintech</td>\n",
              "      <td>NaN</td>\n",
              "      <td>Singapore</td>\n",
              "      <td>Asia</td>\n",
              "      <td>2014</td>\n",
              "      <td>$285M</td>\n",
              "      <td>Vertex Ventures SE Asia, Global Founders Capit...</td>\n",
              "      <td>2021</td>\n",
              "    </tr>\n",
              "    <tr>\n",
              "      <th>986</th>\n",
              "      <td>ONE</td>\n",
              "      <td>1</td>\n",
              "      <td>2021-12-08</td>\n",
              "      <td>internet software &amp; services</td>\n",
              "      <td>NaN</td>\n",
              "      <td>Singapore</td>\n",
              "      <td>Asia</td>\n",
              "      <td>2011</td>\n",
              "      <td>$515M</td>\n",
              "      <td>Temasek, Guggenheim Investments, Qatar Investm...</td>\n",
              "      <td>2021</td>\n",
              "    </tr>\n",
              "    <tr>\n",
              "      <th>994</th>\n",
              "      <td>PatSnap</td>\n",
              "      <td>1</td>\n",
              "      <td>2021-03-16</td>\n",
              "      <td>internet software &amp; services</td>\n",
              "      <td>NaN</td>\n",
              "      <td>Singapore</td>\n",
              "      <td>Asia</td>\n",
              "      <td>2007</td>\n",
              "      <td>$352M</td>\n",
              "      <td>Sequoia Capital China, Shunwei Capital Partner...</td>\n",
              "      <td>2021</td>\n",
              "    </tr>\n",
              "    <tr>\n",
              "      <th>1061</th>\n",
              "      <td>WeLab</td>\n",
              "      <td>1</td>\n",
              "      <td>2017-11-08</td>\n",
              "      <td>fintech</td>\n",
              "      <td>NaN</td>\n",
              "      <td>Hong Kong</td>\n",
              "      <td>Asia</td>\n",
              "      <td>2013</td>\n",
              "      <td>$871M</td>\n",
              "      <td>Sequoia Capital China, ING, Alibaba Entreprene...</td>\n",
              "      <td>2017</td>\n",
              "    </tr>\n",
              "  </tbody>\n",
              "</table>\n",
              "</div>\n",
              "      <button class=\"colab-df-convert\" onclick=\"convertToInteractive('df-fb24b08c-466a-41d6-a9b4-39e917991df4')\"\n",
              "              title=\"Convert this dataframe to an interactive table.\"\n",
              "              style=\"display:none;\">\n",
              "        \n",
              "  <svg xmlns=\"http://www.w3.org/2000/svg\" height=\"24px\"viewBox=\"0 0 24 24\"\n",
              "       width=\"24px\">\n",
              "    <path d=\"M0 0h24v24H0V0z\" fill=\"none\"/>\n",
              "    <path d=\"M18.56 5.44l.94 2.06.94-2.06 2.06-.94-2.06-.94-.94-2.06-.94 2.06-2.06.94zm-11 1L8.5 8.5l.94-2.06 2.06-.94-2.06-.94L8.5 2.5l-.94 2.06-2.06.94zm10 10l.94 2.06.94-2.06 2.06-.94-2.06-.94-.94-2.06-.94 2.06-2.06.94z\"/><path d=\"M17.41 7.96l-1.37-1.37c-.4-.4-.92-.59-1.43-.59-.52 0-1.04.2-1.43.59L10.3 9.45l-7.72 7.72c-.78.78-.78 2.05 0 2.83L4 21.41c.39.39.9.59 1.41.59.51 0 1.02-.2 1.41-.59l7.78-7.78 2.81-2.81c.8-.78.8-2.07 0-2.86zM5.41 20L4 18.59l7.72-7.72 1.47 1.35L5.41 20z\"/>\n",
              "  </svg>\n",
              "      </button>\n",
              "      \n",
              "  <style>\n",
              "    .colab-df-container {\n",
              "      display:flex;\n",
              "      flex-wrap:wrap;\n",
              "      gap: 12px;\n",
              "    }\n",
              "\n",
              "    .colab-df-convert {\n",
              "      background-color: #E8F0FE;\n",
              "      border: none;\n",
              "      border-radius: 50%;\n",
              "      cursor: pointer;\n",
              "      display: none;\n",
              "      fill: #1967D2;\n",
              "      height: 32px;\n",
              "      padding: 0 0 0 0;\n",
              "      width: 32px;\n",
              "    }\n",
              "\n",
              "    .colab-df-convert:hover {\n",
              "      background-color: #E2EBFA;\n",
              "      box-shadow: 0px 1px 2px rgba(60, 64, 67, 0.3), 0px 1px 3px 1px rgba(60, 64, 67, 0.15);\n",
              "      fill: #174EA6;\n",
              "    }\n",
              "\n",
              "    [theme=dark] .colab-df-convert {\n",
              "      background-color: #3B4455;\n",
              "      fill: #D2E3FC;\n",
              "    }\n",
              "\n",
              "    [theme=dark] .colab-df-convert:hover {\n",
              "      background-color: #434B5C;\n",
              "      box-shadow: 0px 1px 3px 1px rgba(0, 0, 0, 0.15);\n",
              "      filter: drop-shadow(0px 1px 2px rgba(0, 0, 0, 0.3));\n",
              "      fill: #FFFFFF;\n",
              "    }\n",
              "  </style>\n",
              "\n",
              "      <script>\n",
              "        const buttonEl =\n",
              "          document.querySelector('#df-fb24b08c-466a-41d6-a9b4-39e917991df4 button.colab-df-convert');\n",
              "        buttonEl.style.display =\n",
              "          google.colab.kernel.accessAllowed ? 'block' : 'none';\n",
              "\n",
              "        async function convertToInteractive(key) {\n",
              "          const element = document.querySelector('#df-fb24b08c-466a-41d6-a9b4-39e917991df4');\n",
              "          const dataTable =\n",
              "            await google.colab.kernel.invokeFunction('convertToInteractive',\n",
              "                                                     [key], {});\n",
              "          if (!dataTable) return;\n",
              "\n",
              "          const docLinkHtml = 'Like what you see? Visit the ' +\n",
              "            '<a target=\"_blank\" href=https://colab.research.google.com/notebooks/data_table.ipynb>data table notebook</a>'\n",
              "            + ' to learn more about interactive tables.';\n",
              "          element.innerHTML = '';\n",
              "          dataTable['output_type'] = 'display_data';\n",
              "          await google.colab.output.renderOutput(dataTable, element);\n",
              "          const docLink = document.createElement('div');\n",
              "          docLink.innerHTML = docLinkHtml;\n",
              "          element.appendChild(docLink);\n",
              "        }\n",
              "      </script>\n",
              "    </div>\n",
              "  </div>\n",
              "  "
            ]
          },
          "metadata": {},
          "execution_count": 475
        }
      ]
    },
    {
      "cell_type": "code",
      "source": [
        "df_null.shape"
      ],
      "metadata": {
        "colab": {
          "base_uri": "https://localhost:8080/",
          "height": 0
        },
        "id": "k8I-C8Mxu_EX",
        "outputId": "35db9a6e-3eca-4650-d3c6-c378c740422f"
      },
      "execution_count": 476,
      "outputs": [
        {
          "output_type": "execute_result",
          "data": {
            "text/plain": [
              "(17, 11)"
            ]
          },
          "metadata": {},
          "execution_count": 476
        }
      ]
    },
    {
      "cell_type": "markdown",
      "source": [
        "- Handling Missing Values"
      ],
      "metadata": {
        "id": "PEu-_xdGxPwZ"
      }
    },
    {
      "cell_type": "code",
      "source": [
        "df_total=df.size"
      ],
      "metadata": {
        "id": "NvwS1LkFvkHa"
      },
      "execution_count": 477,
      "outputs": []
    },
    {
      "cell_type": "code",
      "source": [
        "df_total"
      ],
      "metadata": {
        "colab": {
          "base_uri": "https://localhost:8080/",
          "height": 0
        },
        "id": "wgm7mIKVxajt",
        "outputId": "06d6987f-51c5-4e2b-f8fe-97f44eae2592"
      },
      "execution_count": 478,
      "outputs": [
        {
          "output_type": "execute_result",
          "data": {
            "text/plain": [
              "11814"
            ]
          },
          "metadata": {},
          "execution_count": 478
        }
      ]
    },
    {
      "cell_type": "code",
      "source": [
        "count_dropna_rows = df.dropna().size\n",
        "count_dropna_rows"
      ],
      "metadata": {
        "colab": {
          "base_uri": "https://localhost:8080/",
          "height": 0
        },
        "id": "BWnep475xcH7",
        "outputId": "21d214fd-b287-45a9-dd75-c90fa38500fa"
      },
      "execution_count": 479,
      "outputs": [
        {
          "output_type": "execute_result",
          "data": {
            "text/plain": [
              "11627"
            ]
          },
          "metadata": {},
          "execution_count": 479
        }
      ]
    },
    {
      "cell_type": "code",
      "source": [
        "count_dropna_columns = df.dropna(axis=1).size\n",
        "count_dropna_columns"
      ],
      "metadata": {
        "colab": {
          "base_uri": "https://localhost:8080/",
          "height": 0
        },
        "id": "aJ3TiYg8xijA",
        "outputId": "17942019-6ae2-4fd4-f6f1-1710695a5003"
      },
      "execution_count": 480,
      "outputs": [
        {
          "output_type": "execute_result",
          "data": {
            "text/plain": [
              "9666"
            ]
          },
          "metadata": {},
          "execution_count": 480
        }
      ]
    },
    {
      "cell_type": "code",
      "source": [
        "# Print the percentage of values removed by dropping rows,columns.\n",
        "\n",
        "print('By Rows: ',count_dropna_rows/df_total*100)\n",
        "\n",
        "\n",
        "print(\"By Columns: \",count_dropna_columns/df_total*100)"
      ],
      "metadata": {
        "colab": {
          "base_uri": "https://localhost:8080/",
          "height": 0
        },
        "id": "geDDcXv4xoS7",
        "outputId": "a17f7a9f-dd77-4375-db81-6a79afe030ff"
      },
      "execution_count": 481,
      "outputs": [
        {
          "output_type": "stream",
          "name": "stdout",
          "text": [
            "By Rows:  98.4171322160149\n",
            "By Columns:  81.81818181818183\n"
          ]
        }
      ]
    },
    {
      "cell_type": "code",
      "source": [
        "#the drop by row is better:\n",
        "df=df.dropna()"
      ],
      "metadata": {
        "id": "kzY1Kl3k88KQ"
      },
      "execution_count": 482,
      "outputs": []
    },
    {
      "cell_type": "markdown",
      "source": [
        "### Identifing Outliers"
      ],
      "metadata": {
        "id": "Q3pGVPwZh0fe"
      }
    },
    {
      "cell_type": "code",
      "source": [
        "#calculating the mean\n",
        "mean=np.mean(df['Valuation'])\n",
        "median=np.median(df['Valuation'])\n",
        "print(\"The mean: \",mean)\n",
        "#calculating the median\n",
        "print(\"The median: \",median)"
      ],
      "metadata": {
        "colab": {
          "base_uri": "https://localhost:8080/",
          "height": 0
        },
        "id": "gUGyMLLuiAM5",
        "outputId": "22838eb7-52ee-42be-fbc4-58ca08c19284"
      },
      "execution_count": 483,
      "outputs": [
        {
          "output_type": "stream",
          "name": "stdout",
          "text": [
            "The mean:  3.455061494796594\n",
            "The median:  2.0\n"
          ]
        }
      ]
    },
    {
      "cell_type": "code",
      "source": [
        "if mean>median:\n",
        "  print('The data more likely to be skewed to the RIGHT!')\n",
        "else:\n",
        "  print('The data more likely to be skewed to the LEFT!')"
      ],
      "metadata": {
        "colab": {
          "base_uri": "https://localhost:8080/",
          "height": 0
        },
        "id": "lQTXP8utlHrY",
        "outputId": "381995eb-cb8d-4d98-b7b6-90cf549ca2f4"
      },
      "execution_count": 484,
      "outputs": [
        {
          "output_type": "stream",
          "name": "stdout",
          "text": [
            "The data more likely to be skewed to the RIGHT!\n"
          ]
        }
      ]
    },
    {
      "cell_type": "code",
      "source": [
        "box = sp.boxplot(x=df['Valuation'])\n",
        "g = pt.gca()\n",
        "#box.set_xticklabels(np.array([readable_numbers(x) for x in g.get_xticks()]))\n",
        "pt.xlabel('Valuation')\n",
        "pt.title('Company');"
      ],
      "metadata": {
        "colab": {
          "base_uri": "https://localhost:8080/",
          "height": 472
        },
        "id": "dWQucXTNh4Vt",
        "outputId": "93572288-b081-45b9-a487-0fce2e11aaf0"
      },
      "execution_count": 485,
      "outputs": [
        {
          "output_type": "display_data",
          "data": {
            "text/plain": [
              "<Figure size 640x480 with 1 Axes>"
            ],
            "image/png": "[encoded data removed]"
          },
          "metadata": {}
        }
      ]
    },
    {
      "cell_type": "code",
      "source": [
        "print(df['Valuation'].max())\n",
        "print(df['Valuation'].min())"
      ],
      "metadata": {
        "colab": {
          "base_uri": "https://localhost:8080/",
          "height": 0
        },
        "id": "OnJ9IzUAm4_f",
        "outputId": "225603f9-c863-455f-8d7f-c67ad9004515"
      },
      "execution_count": 486,
      "outputs": [
        {
          "output_type": "stream",
          "name": "stdout",
          "text": [
            "180\n",
            "1\n"
          ]
        }
      ]
    },
    {
      "cell_type": "code",
      "source": [
        "# Calculate 25th percentile of annual strikes\n",
        "percentile25 = df['Valuation'].quantile(0.25)\n",
        "\n",
        "# Calculate 75th percentile of annual strikes\n",
        "percentile75 = df['Valuation'].quantile(0.75)\n",
        "\n",
        "# Calculate interquartile range\n",
        "iqr = percentile75 - percentile25\n",
        "\n",
        "# Calculate upper and lower thresholds for outliers\n",
        "upper_limit = percentile75 + 1.5 * iqr\n",
        "lower_limit = percentile25 - 1.5 * iqr\n",
        "\n",
        "#Only care for the upper limit because we mentioned that the data is skewed to the right of the median\n",
        "print('Upper limit is: ', upper_limit)"
      ],
      "metadata": {
        "colab": {
          "base_uri": "https://localhost:8080/",
          "height": 0
        },
        "id": "aWI6MUWVnWa4",
        "outputId": "cd7fdba9-bf97-4757-983b-5fb370331daa"
      },
      "execution_count": 487,
      "outputs": [
        {
          "output_type": "stream",
          "name": "stdout",
          "text": [
            "Upper limit is:  6.0\n"
          ]
        }
      ]
    },
    {
      "cell_type": "code",
      "source": [
        "df_outlier=(df[df['Valuation'] > upper_limit])"
      ],
      "metadata": {
        "id": "6IhrY5aaoOxu"
      },
      "execution_count": 488,
      "outputs": []
    },
    {
      "cell_type": "code",
      "source": [
        "df_outlier.head(5)"
      ],
      "metadata": {
        "colab": {
          "base_uri": "https://localhost:8080/",
          "height": 354
        },
        "id": "54sXBpR7oag5",
        "outputId": "da3e0a4c-dd47-41a3-8f20-c99b38616036"
      },
      "execution_count": 489,
      "outputs": [
        {
          "output_type": "execute_result",
          "data": {
            "text/plain": [
              "     Company  Valuation Date Joined                         Industry  \\\n",
              "0  Bytedance        180  2017-04-07          artificial intelligence   \n",
              "1     SpaceX        100  2012-12-01                            other   \n",
              "2      SHEIN        100  2018-07-03  e-commerce & direct-to-consumer   \n",
              "3     Stripe         95  2014-01-23                          fintech   \n",
              "4     Klarna         46  2011-12-12                          fintech   \n",
              "\n",
              "            City Country/Region      Continent  Year Founded Funding  \\\n",
              "0        Beijing          China           Asia          2012     $8B   \n",
              "1      Hawthorne  United States  North America          2002     $7B   \n",
              "2       Shenzhen          China           Asia          2008     $2B   \n",
              "3  San Francisco  United States  North America          2010     $2B   \n",
              "4      Stockholm         Sweden         Europe          2005     $4B   \n",
              "\n",
              "                                    Select Investors  year_joined  \n",
              "0  Sequoia Capital China, SIG Asia Investments, S...         2017  \n",
              "1  Founders Fund, Draper Fisher Jurvetson, Rothen...         2012  \n",
              "2  Tiger Global Management, Sequoia Capital China...         2018  \n",
              "3        Khosla Ventures, LowercaseCapital, capitalG         2014  \n",
              "4  Institutional Venture Partners, Sequoia Capita...         2011  "
            ],
            "text/html": [
              "\n",
              "  <div id=\"df-31c81d5a-8c75-4688-a8cc-5171d63f95eb\">\n",
              "    <div class=\"colab-df-container\">\n",
              "      <div>\n",
              "<style scoped>\n",
              "    .dataframe tbody tr th:only-of-type {\n",
              "        vertical-align: middle;\n",
              "    }\n",
              "\n",
              "    .dataframe tbody tr th {\n",
              "        vertical-align: top;\n",
              "    }\n",
              "\n",
              "    .dataframe thead th {\n",
              "        text-align: right;\n",
              "    }\n",
              "</style>\n",
              "<table border=\"1\" class=\"dataframe\">\n",
              "  <thead>\n",
              "    <tr style=\"text-align: right;\">\n",
              "      <th></th>\n",
              "      <th>Company</th>\n",
              "      <th>Valuation</th>\n",
              "      <th>Date Joined</th>\n",
              "      <th>Industry</th>\n",
              "      <th>City</th>\n",
              "      <th>Country/Region</th>\n",
              "      <th>Continent</th>\n",
              "      <th>Year Founded</th>\n",
              "      <th>Funding</th>\n",
              "      <th>Select Investors</th>\n",
              "      <th>year_joined</th>\n",
              "    </tr>\n",
              "  </thead>\n",
              "  <tbody>\n",
              "    <tr>\n",
              "      <th>0</th>\n",
              "      <td>Bytedance</td>\n",
              "      <td>180</td>\n",
              "      <td>2017-04-07</td>\n",
              "      <td>artificial intelligence</td>\n",
              "      <td>Beijing</td>\n",
              "      <td>China</td>\n",
              "      <td>Asia</td>\n",
              "      <td>2012</td>\n",
              "      <td>$8B</td>\n",
              "      <td>Sequoia Capital China, SIG Asia Investments, S...</td>\n",
              "      <td>2017</td>\n",
              "    </tr>\n",
              "    <tr>\n",
              "      <th>1</th>\n",
              "      <td>SpaceX</td>\n",
              "      <td>100</td>\n",
              "      <td>2012-12-01</td>\n",
              "      <td>other</td>\n",
              "      <td>Hawthorne</td>\n",
              "      <td>United States</td>\n",
              "      <td>North America</td>\n",
              "      <td>2002</td>\n",
              "      <td>$7B</td>\n",
              "      <td>Founders Fund, Draper Fisher Jurvetson, Rothen...</td>\n",
              "      <td>2012</td>\n",
              "    </tr>\n",
              "    <tr>\n",
              "      <th>2</th>\n",
              "      <td>SHEIN</td>\n",
              "      <td>100</td>\n",
              "      <td>2018-07-03</td>\n",
              "      <td>e-commerce &amp; direct-to-consumer</td>\n",
              "      <td>Shenzhen</td>\n",
              "      <td>China</td>\n",
              "      <td>Asia</td>\n",
              "      <td>2008</td>\n",
              "      <td>$2B</td>\n",
              "      <td>Tiger Global Management, Sequoia Capital China...</td>\n",
              "      <td>2018</td>\n",
              "    </tr>\n",
              "    <tr>\n",
              "      <th>3</th>\n",
              "      <td>Stripe</td>\n",
              "      <td>95</td>\n",
              "      <td>2014-01-23</td>\n",
              "      <td>fintech</td>\n",
              "      <td>San Francisco</td>\n",
              "      <td>United States</td>\n",
              "      <td>North America</td>\n",
              "      <td>2010</td>\n",
              "      <td>$2B</td>\n",
              "      <td>Khosla Ventures, LowercaseCapital, capitalG</td>\n",
              "      <td>2014</td>\n",
              "    </tr>\n",
              "    <tr>\n",
              "      <th>4</th>\n",
              "      <td>Klarna</td>\n",
              "      <td>46</td>\n",
              "      <td>2011-12-12</td>\n",
              "      <td>fintech</td>\n",
              "      <td>Stockholm</td>\n",
              "      <td>Sweden</td>\n",
              "      <td>Europe</td>\n",
              "      <td>2005</td>\n",
              "      <td>$4B</td>\n",
              "      <td>Institutional Venture Partners, Sequoia Capita...</td>\n",
              "      <td>2011</td>\n",
              "    </tr>\n",
              "  </tbody>\n",
              "</table>\n",
              "</div>\n",
              "      <button class=\"colab-df-convert\" onclick=\"convertToInteractive('df-31c81d5a-8c75-4688-a8cc-5171d63f95eb')\"\n",
              "              title=\"Convert this dataframe to an interactive table.\"\n",
              "              style=\"display:none;\">\n",
              "        \n",
              "  <svg xmlns=\"http://www.w3.org/2000/svg\" height=\"24px\"viewBox=\"0 0 24 24\"\n",
              "       width=\"24px\">\n",
              "    <path d=\"M0 0h24v24H0V0z\" fill=\"none\"/>\n",
              "    <path d=\"M18.56 5.44l.94 2.06.94-2.06 2.06-.94-2.06-.94-.94-2.06-.94 2.06-2.06.94zm-11 1L8.5 8.5l.94-2.06 2.06-.94-2.06-.94L8.5 2.5l-.94 2.06-2.06.94zm10 10l.94 2.06.94-2.06 2.06-.94-2.06-.94-.94-2.06-.94 2.06-2.06.94z\"/><path d=\"M17.41 7.96l-1.37-1.37c-.4-.4-.92-.59-1.43-.59-.52 0-1.04.2-1.43.59L10.3 9.45l-7.72 7.72c-.78.78-.78 2.05 0 2.83L4 21.41c.39.39.9.59 1.41.59.51 0 1.02-.2 1.41-.59l7.78-7.78 2.81-2.81c.8-.78.8-2.07 0-2.86zM5.41 20L4 18.59l7.72-7.72 1.47 1.35L5.41 20z\"/>\n",
              "  </svg>\n",
              "      </button>\n",
              "      \n",
              "  <style>\n",
              "    .colab-df-container {\n",
              "      display:flex;\n",
              "      flex-wrap:wrap;\n",
              "      gap: 12px;\n",
              "    }\n",
              "\n",
              "    .colab-df-convert {\n",
              "      background-color: #E8F0FE;\n",
              "      border: none;\n",
              "      border-radius: 50%;\n",
              "      cursor: pointer;\n",
              "      display: none;\n",
              "      fill: #1967D2;\n",
              "      height: 32px;\n",
              "      padding: 0 0 0 0;\n",
              "      width: 32px;\n",
              "    }\n",
              "\n",
              "    .colab-df-convert:hover {\n",
              "      background-color: #E2EBFA;\n",
              "      box-shadow: 0px 1px 2px rgba(60, 64, 67, 0.3), 0px 1px 3px 1px rgba(60, 64, 67, 0.15);\n",
              "      fill: #174EA6;\n",
              "    }\n",
              "\n",
              "    [theme=dark] .colab-df-convert {\n",
              "      background-color: #3B4455;\n",
              "      fill: #D2E3FC;\n",
              "    }\n",
              "\n",
              "    [theme=dark] .colab-df-convert:hover {\n",
              "      background-color: #434B5C;\n",
              "      box-shadow: 0px 1px 3px 1px rgba(0, 0, 0, 0.15);\n",
              "      filter: drop-shadow(0px 1px 2px rgba(0, 0, 0, 0.3));\n",
              "      fill: #FFFFFF;\n",
              "    }\n",
              "  </style>\n",
              "\n",
              "      <script>\n",
              "        const buttonEl =\n",
              "          document.querySelector('#df-31c81d5a-8c75-4688-a8cc-5171d63f95eb button.colab-df-convert');\n",
              "        buttonEl.style.display =\n",
              "          google.colab.kernel.accessAllowed ? 'block' : 'none';\n",
              "\n",
              "        async function convertToInteractive(key) {\n",
              "          const element = document.querySelector('#df-31c81d5a-8c75-4688-a8cc-5171d63f95eb');\n",
              "          const dataTable =\n",
              "            await google.colab.kernel.invokeFunction('convertToInteractive',\n",
              "                                                     [key], {});\n",
              "          if (!dataTable) return;\n",
              "\n",
              "          const docLinkHtml = 'Like what you see? Visit the ' +\n",
              "            '<a target=\"_blank\" href=https://colab.research.google.com/notebooks/data_table.ipynb>data table notebook</a>'\n",
              "            + ' to learn more about interactive tables.';\n",
              "          element.innerHTML = '';\n",
              "          dataTable['output_type'] = 'display_data';\n",
              "          await google.colab.output.renderOutput(dataTable, element);\n",
              "          const docLink = document.createElement('div');\n",
              "          docLink.innerHTML = docLinkHtml;\n",
              "          element.appendChild(docLink);\n",
              "        }\n",
              "      </script>\n",
              "    </div>\n",
              "  </div>\n",
              "  "
            ]
          },
          "metadata": {},
          "execution_count": 489
        }
      ]
    },
    {
      "cell_type": "code",
      "source": [
        "print('There are ', df_outlier.shape[0],' rows with a valuation greater than ',upper_limit)"
      ],
      "metadata": {
        "colab": {
          "base_uri": "https://localhost:8080/",
          "height": 0
        },
        "id": "y5yNe74TofDG",
        "outputId": "7af524ef-0eef-4434-8eec-76090044b92a"
      },
      "execution_count": 490,
      "outputs": [
        {
          "output_type": "stream",
          "name": "stdout",
          "text": [
            "There are  101  rows with a valuation greater than  6.0\n"
          ]
        }
      ]
    },
    {
      "cell_type": "code",
      "source": [
        "#this is a way of making the dataset contain only values fall within the range of the lower and upper limits\n",
        "#mask = (df['number_of_strikes'] >= lower_limit) & (df['number_of_strikes'] <=upper_limit)\n",
        "\n",
        "#df = df[mask].copy()\n",
        "#print(df)"
      ],
      "metadata": {
        "id": "1vY0wNEzpjA1"
      },
      "execution_count": 491,
      "outputs": []
    },
    {
      "cell_type": "markdown",
      "source": [
        "--- in the case of our data, this is not considered as an outliers but we can think of it as the big comapnies with a valuation greater than the other in the dataset"
      ],
      "metadata": {
        "id": "TLQ-QgWTo6dt"
      }
    },
    {
      "cell_type": "markdown",
      "source": [
        "#### Lable encoding to convert catogrical data type to a numeric values"
      ],
      "metadata": {
        "id": "uaHbEAcm1t1-"
      }
    },
    {
      "cell_type": "code",
      "source": [
        "#what column we have in the dataset do have catogry values?\n",
        "df['Industry'].value_counts()"
      ],
      "metadata": {
        "colab": {
          "base_uri": "https://localhost:8080/",
          "height": 0
        },
        "id": "pxJjxEZLo594",
        "outputId": "a6a61532-db52-4f6d-b65f-80cb7d89bac7"
      },
      "execution_count": 492,
      "outputs": [
        {
          "output_type": "execute_result",
          "data": {
            "text/plain": [
              "fintech                                218\n",
              "internet software & services           203\n",
              "e-commerce & direct-to-consumer        107\n",
              "artificial intelligence                 82\n",
              "health                                  74\n",
              "other                                   58\n",
              "supply chain, logistics, & delivery     56\n",
              "cybersecurity                           50\n",
              "data management & analytics             41\n",
              "mobile & telecommunications             36\n",
              "hardware                                34\n",
              "auto & transportation                   31\n",
              "edtech                                  28\n",
              "consumer & retail                       25\n",
              "travel                                  14\n",
              "Name: Industry, dtype: int64"
            ]
          },
          "metadata": {},
          "execution_count": 492
        }
      ]
    },
    {
      "cell_type": "code",
      "source": [
        "industry=list(df['Industry'].value_counts().index)"
      ],
      "metadata": {
        "id": "U7YEZOgx2PVy"
      },
      "execution_count": 493,
      "outputs": []
    },
    {
      "cell_type": "code",
      "source": [
        "print(\"There are \", len(industry),' industry type in the data we have')"
      ],
      "metadata": {
        "colab": {
          "base_uri": "https://localhost:8080/",
          "height": 0
        },
        "id": "k-YKKN-V2XMm",
        "outputId": "56d1aaa6-88ee-419f-843f-94875822b2e1"
      },
      "execution_count": 494,
      "outputs": [
        {
          "output_type": "stream",
          "name": "stdout",
          "text": [
            "There are  15  industry type in the data we have\n"
          ]
        }
      ]
    },
    {
      "cell_type": "code",
      "source": [
        "dfcopy=df"
      ],
      "metadata": {
        "id": "7ivin2h62zn6"
      },
      "execution_count": 495,
      "outputs": []
    },
    {
      "cell_type": "code",
      "source": [
        "#make a new catogrical based on the valuation\n",
        "dfcopy['Valuation_level']=pd.qcut(dfcopy['Valuation'],4, labels=['low','mid','high'], duplicates='drop')"
      ],
      "metadata": {
        "id": "oLJ5bzKI25M1"
      },
      "execution_count": 496,
      "outputs": []
    },
    {
      "cell_type": "code",
      "source": [
        "dfcopy[dfcopy['Valuation_level']=='low']"
      ],
      "metadata": {
        "colab": {
          "base_uri": "https://localhost:8080/",
          "height": 850
        },
        "id": "na_1UDxq243d",
        "outputId": "b1bb4386-2af3-4cbb-9ea9-ca70f8542a8c"
      },
      "execution_count": 498,
      "outputs": [
        {
          "output_type": "execute_result",
          "data": {
            "text/plain": [
              "                          Company  Valuation Date Joined  \\\n",
              "355                    1047 Games          2  2021-09-14   \n",
              "356                       Baiwang          2  2019-03-25   \n",
              "357                          Boba          2  2022-04-05   \n",
              "358                Bought By Many          2  2021-06-01   \n",
              "359   Cambridge Mobile Telematics          2  2018-12-19   \n",
              "...                           ...        ...         ...   \n",
              "1069                     Zhaogang          1  2017-06-29   \n",
              "1070                  Zhuan Zhuan          1  2017-04-18   \n",
              "1071                     Zihaiguo          1  2021-05-06   \n",
              "1072                         Zopa          1  2021-10-19   \n",
              "1073                        Zwift          1  2020-09-16   \n",
              "\n",
              "                             Industry           City  Country/Region  \\\n",
              "355      internet software & services    Zephyr Cove   United States   \n",
              "356                           fintech        Beijing           China   \n",
              "357                           fintech  San Francisco   United States   \n",
              "358                           fintech         London  United Kingdom   \n",
              "359       mobile & telecommunications      Cambridge   United States   \n",
              "...                               ...            ...             ...   \n",
              "1069  e-commerce & direct-to-consumer       Shanghai           China   \n",
              "1070  e-commerce & direct-to-consumer        Beijing           China   \n",
              "1071                consumer & retail      Chongqing           China   \n",
              "1072                          fintech         London  United Kingdom   \n",
              "1073  e-commerce & direct-to-consumer     Long Beach   United States   \n",
              "\n",
              "          Continent  Year Founded Funding  \\\n",
              "355   North America          2017   $127M   \n",
              "356            Asia          2015   $224M   \n",
              "357   North America          2018    $45M   \n",
              "358          Europe          2012   $477M   \n",
              "359   North America          2010   $503M   \n",
              "...             ...           ...     ...   \n",
              "1069           Asia          2012   $379M   \n",
              "1070           Asia          2015   $990M   \n",
              "1071           Asia          2018    $80M   \n",
              "1072         Europe          2005   $792M   \n",
              "1073  North America          2014   $620M   \n",
              "\n",
              "                                       Select Investors  year_joined  \\\n",
              "355                VGames, Lakestar, Galaxy Interactive         2021   \n",
              "356   Guozhong Venture Capital Management, Shenzhen ...         2019   \n",
              "357        DeFi Technologies, Hypersphere Ventures, M13         2022   \n",
              "358   Octopus Ventures, Munich Re Ventures, CommerzV...         2021   \n",
              "359                                      SoftBank Group         2018   \n",
              "...                                                 ...          ...   \n",
              "1069    K2 Ventures, Matrix Partners China, IDG Capital         2017   \n",
              "1070                           58.com, Tencent Holdings         2017   \n",
              "1071  Xingwang Investment Management, China Capital ...         2021   \n",
              "1072  IAG Capital Partners, Augmentum Fintech, North...         2021   \n",
              "1073    Novator Partners, True, Causeway Media Partners         2020   \n",
              "\n",
              "     Valuation_level  \n",
              "355              low  \n",
              "356              low  \n",
              "357              low  \n",
              "358              low  \n",
              "359              low  \n",
              "...              ...  \n",
              "1069             low  \n",
              "1070             low  \n",
              "1071             low  \n",
              "1072             low  \n",
              "1073             low  \n",
              "\n",
              "[707 rows x 12 columns]"
            ],
            "text/html": [
              "\n",
              "  <div id=\"df-49c07680-2bac-4c41-bf7e-141db7aec5ed\">\n",
              "    <div class=\"colab-df-container\">\n",
              "      <div>\n",
              "<style scoped>\n",
              "    .dataframe tbody tr th:only-of-type {\n",
              "        vertical-align: middle;\n",
              "    }\n",
              "\n",
              "    .dataframe tbody tr th {\n",
              "        vertical-align: top;\n",
              "    }\n",
              "\n",
              "    .dataframe thead th {\n",
              "        text-align: right;\n",
              "    }\n",
              "</style>\n",
              "<table border=\"1\" class=\"dataframe\">\n",
              "  <thead>\n",
              "    <tr style=\"text-align: right;\">\n",
              "      <th></th>\n",
              "      <th>Company</th>\n",
              "      <th>Valuation</th>\n",
              "      <th>Date Joined</th>\n",
              "      <th>Industry</th>\n",
              "      <th>City</th>\n",
              "      <th>Country/Region</th>\n",
              "      <th>Continent</th>\n",
              "      <th>Year Founded</th>\n",
              "      <th>Funding</th>\n",
              "      <th>Select Investors</th>\n",
              "      <th>year_joined</th>\n",
              "      <th>Valuation_level</th>\n",
              "    </tr>\n",
              "  </thead>\n",
              "  <tbody>\n",
              "    <tr>\n",
              "      <th>355</th>\n",
              "      <td>1047 Games</td>\n",
              "      <td>2</td>\n",
              "      <td>2021-09-14</td>\n",
              "      <td>internet software &amp; services</td>\n",
              "      <td>Zephyr Cove</td>\n",
              "      <td>United States</td>\n",
              "      <td>North America</td>\n",
              "      <td>2017</td>\n",
              "      <td>$127M</td>\n",
              "      <td>VGames, Lakestar, Galaxy Interactive</td>\n",
              "      <td>2021</td>\n",
              "      <td>low</td>\n",
              "    </tr>\n",
              "    <tr>\n",
              "      <th>356</th>\n",
              "      <td>Baiwang</td>\n",
              "      <td>2</td>\n",
              "      <td>2019-03-25</td>\n",
              "      <td>fintech</td>\n",
              "      <td>Beijing</td>\n",
              "      <td>China</td>\n",
              "      <td>Asia</td>\n",
              "      <td>2015</td>\n",
              "      <td>$224M</td>\n",
              "      <td>Guozhong Venture Capital Management, Shenzhen ...</td>\n",
              "      <td>2019</td>\n",
              "      <td>low</td>\n",
              "    </tr>\n",
              "    <tr>\n",
              "      <th>357</th>\n",
              "      <td>Boba</td>\n",
              "      <td>2</td>\n",
              "      <td>2022-04-05</td>\n",
              "      <td>fintech</td>\n",
              "      <td>San Francisco</td>\n",
              "      <td>United States</td>\n",
              "      <td>North America</td>\n",
              "      <td>2018</td>\n",
              "      <td>$45M</td>\n",
              "      <td>DeFi Technologies, Hypersphere Ventures, M13</td>\n",
              "      <td>2022</td>\n",
              "      <td>low</td>\n",
              "    </tr>\n",
              "    <tr>\n",
              "      <th>358</th>\n",
              "      <td>Bought By Many</td>\n",
              "      <td>2</td>\n",
              "      <td>2021-06-01</td>\n",
              "      <td>fintech</td>\n",
              "      <td>London</td>\n",
              "      <td>United Kingdom</td>\n",
              "      <td>Europe</td>\n",
              "      <td>2012</td>\n",
              "      <td>$477M</td>\n",
              "      <td>Octopus Ventures, Munich Re Ventures, CommerzV...</td>\n",
              "      <td>2021</td>\n",
              "      <td>low</td>\n",
              "    </tr>\n",
              "    <tr>\n",
              "      <th>359</th>\n",
              "      <td>Cambridge Mobile Telematics</td>\n",
              "      <td>2</td>\n",
              "      <td>2018-12-19</td>\n",
              "      <td>mobile &amp; telecommunications</td>\n",
              "      <td>Cambridge</td>\n",
              "      <td>United States</td>\n",
              "      <td>North America</td>\n",
              "      <td>2010</td>\n",
              "      <td>$503M</td>\n",
              "      <td>SoftBank Group</td>\n",
              "      <td>2018</td>\n",
              "      <td>low</td>\n",
              "    </tr>\n",
              "    <tr>\n",
              "      <th>...</th>\n",
              "      <td>...</td>\n",
              "      <td>...</td>\n",
              "      <td>...</td>\n",
              "      <td>...</td>\n",
              "      <td>...</td>\n",
              "      <td>...</td>\n",
              "      <td>...</td>\n",
              "      <td>...</td>\n",
              "      <td>...</td>\n",
              "      <td>...</td>\n",
              "      <td>...</td>\n",
              "      <td>...</td>\n",
              "    </tr>\n",
              "    <tr>\n",
              "      <th>1069</th>\n",
              "      <td>Zhaogang</td>\n",
              "      <td>1</td>\n",
              "      <td>2017-06-29</td>\n",
              "      <td>e-commerce &amp; direct-to-consumer</td>\n",
              "      <td>Shanghai</td>\n",
              "      <td>China</td>\n",
              "      <td>Asia</td>\n",
              "      <td>2012</td>\n",
              "      <td>$379M</td>\n",
              "      <td>K2 Ventures, Matrix Partners China, IDG Capital</td>\n",
              "      <td>2017</td>\n",
              "      <td>low</td>\n",
              "    </tr>\n",
              "    <tr>\n",
              "      <th>1070</th>\n",
              "      <td>Zhuan Zhuan</td>\n",
              "      <td>1</td>\n",
              "      <td>2017-04-18</td>\n",
              "      <td>e-commerce &amp; direct-to-consumer</td>\n",
              "      <td>Beijing</td>\n",
              "      <td>China</td>\n",
              "      <td>Asia</td>\n",
              "      <td>2015</td>\n",
              "      <td>$990M</td>\n",
              "      <td>58.com, Tencent Holdings</td>\n",
              "      <td>2017</td>\n",
              "      <td>low</td>\n",
              "    </tr>\n",
              "    <tr>\n",
              "      <th>1071</th>\n",
              "      <td>Zihaiguo</td>\n",
              "      <td>1</td>\n",
              "      <td>2021-05-06</td>\n",
              "      <td>consumer &amp; retail</td>\n",
              "      <td>Chongqing</td>\n",
              "      <td>China</td>\n",
              "      <td>Asia</td>\n",
              "      <td>2018</td>\n",
              "      <td>$80M</td>\n",
              "      <td>Xingwang Investment Management, China Capital ...</td>\n",
              "      <td>2021</td>\n",
              "      <td>low</td>\n",
              "    </tr>\n",
              "    <tr>\n",
              "      <th>1072</th>\n",
              "      <td>Zopa</td>\n",
              "      <td>1</td>\n",
              "      <td>2021-10-19</td>\n",
              "      <td>fintech</td>\n",
              "      <td>London</td>\n",
              "      <td>United Kingdom</td>\n",
              "      <td>Europe</td>\n",
              "      <td>2005</td>\n",
              "      <td>$792M</td>\n",
              "      <td>IAG Capital Partners, Augmentum Fintech, North...</td>\n",
              "      <td>2021</td>\n",
              "      <td>low</td>\n",
              "    </tr>\n",
              "    <tr>\n",
              "      <th>1073</th>\n",
              "      <td>Zwift</td>\n",
              "      <td>1</td>\n",
              "      <td>2020-09-16</td>\n",
              "      <td>e-commerce &amp; direct-to-consumer</td>\n",
              "      <td>Long Beach</td>\n",
              "      <td>United States</td>\n",
              "      <td>North America</td>\n",
              "      <td>2014</td>\n",
              "      <td>$620M</td>\n",
              "      <td>Novator Partners, True, Causeway Media Partners</td>\n",
              "      <td>2020</td>\n",
              "      <td>low</td>\n",
              "    </tr>\n",
              "  </tbody>\n",
              "</table>\n",
              "<p>707 rows × 12 columns</p>\n",
              "</div>\n",
              "      <button class=\"colab-df-convert\" onclick=\"convertToInteractive('df-49c07680-2bac-4c41-bf7e-141db7aec5ed')\"\n",
              "              title=\"Convert this dataframe to an interactive table.\"\n",
              "              style=\"display:none;\">\n",
              "        \n",
              "  <svg xmlns=\"http://www.w3.org/2000/svg\" height=\"24px\"viewBox=\"0 0 24 24\"\n",
              "       width=\"24px\">\n",
              "    <path d=\"M0 0h24v24H0V0z\" fill=\"none\"/>\n",
              "    <path d=\"M18.56 5.44l.94 2.06.94-2.06 2.06-.94-2.06-.94-.94-2.06-.94 2.06-2.06.94zm-11 1L8.5 8.5l.94-2.06 2.06-.94-2.06-.94L8.5 2.5l-.94 2.06-2.06.94zm10 10l.94 2.06.94-2.06 2.06-.94-2.06-.94-.94-2.06-.94 2.06-2.06.94z\"/><path d=\"M17.41 7.96l-1.37-1.37c-.4-.4-.92-.59-1.43-.59-.52 0-1.04.2-1.43.59L10.3 9.45l-7.72 7.72c-.78.78-.78 2.05 0 2.83L4 21.41c.39.39.9.59 1.41.59.51 0 1.02-.2 1.41-.59l7.78-7.78 2.81-2.81c.8-.78.8-2.07 0-2.86zM5.41 20L4 18.59l7.72-7.72 1.47 1.35L5.41 20z\"/>\n",
              "  </svg>\n",
              "      </button>\n",
              "      \n",
              "  <style>\n",
              "    .colab-df-container {\n",
              "      display:flex;\n",
              "      flex-wrap:wrap;\n",
              "      gap: 12px;\n",
              "    }\n",
              "\n",
              "    .colab-df-convert {\n",
              "      background-color: #E8F0FE;\n",
              "      border: none;\n",
              "      border-radius: 50%;\n",
              "      cursor: pointer;\n",
              "      display: none;\n",
              "      fill: #1967D2;\n",
              "      height: 32px;\n",
              "      padding: 0 0 0 0;\n",
              "      width: 32px;\n",
              "    }\n",
              "\n",
              "    .colab-df-convert:hover {\n",
              "      background-color: #E2EBFA;\n",
              "      box-shadow: 0px 1px 2px rgba(60, 64, 67, 0.3), 0px 1px 3px 1px rgba(60, 64, 67, 0.15);\n",
              "      fill: #174EA6;\n",
              "    }\n",
              "\n",
              "    [theme=dark] .colab-df-convert {\n",
              "      background-color: #3B4455;\n",
              "      fill: #D2E3FC;\n",
              "    }\n",
              "\n",
              "    [theme=dark] .colab-df-convert:hover {\n",
              "      background-color: #434B5C;\n",
              "      box-shadow: 0px 1px 3px 1px rgba(0, 0, 0, 0.15);\n",
              "      filter: drop-shadow(0px 1px 2px rgba(0, 0, 0, 0.3));\n",
              "      fill: #FFFFFF;\n",
              "    }\n",
              "  </style>\n",
              "\n",
              "      <script>\n",
              "        const buttonEl =\n",
              "          document.querySelector('#df-49c07680-2bac-4c41-bf7e-141db7aec5ed button.colab-df-convert');\n",
              "        buttonEl.style.display =\n",
              "          google.colab.kernel.accessAllowed ? 'block' : 'none';\n",
              "\n",
              "        async function convertToInteractive(key) {\n",
              "          const element = document.querySelector('#df-49c07680-2bac-4c41-bf7e-141db7aec5ed');\n",
              "          const dataTable =\n",
              "            await google.colab.kernel.invokeFunction('convertToInteractive',\n",
              "                                                     [key], {});\n",
              "          if (!dataTable) return;\n",
              "\n",
              "          const docLinkHtml = 'Like what you see? Visit the ' +\n",
              "            '<a target=\"_blank\" href=https://colab.research.google.com/notebooks/data_table.ipynb>data table notebook</a>'\n",
              "            + ' to learn more about interactive tables.';\n",
              "          element.innerHTML = '';\n",
              "          dataTable['output_type'] = 'display_data';\n",
              "          await google.colab.output.renderOutput(dataTable, element);\n",
              "          const docLink = document.createElement('div');\n",
              "          docLink.innerHTML = docLinkHtml;\n",
              "          element.appendChild(docLink);\n",
              "        }\n",
              "      </script>\n",
              "    </div>\n",
              "  </div>\n",
              "  "
            ]
          },
          "metadata": {},
          "execution_count": 498
        }
      ]
    },
    {
      "cell_type": "code",
      "source": [
        "dfcopy[dfcopy['Valuation_level']=='mid']"
      ],
      "metadata": {
        "colab": {
          "base_uri": "https://localhost:8080/",
          "height": 763
        },
        "id": "qOD_eFYr4fY1",
        "outputId": "150d3719-6b66-483f-da5b-d209e249371f"
      },
      "execution_count": 499,
      "outputs": [
        {
          "output_type": "execute_result",
          "data": {
            "text/plain": [
              "              Company  Valuation Date Joined  \\\n",
              "240       Dadi Cinema          3  2016-05-11   \n",
              "241             Kurly          3  2021-07-09   \n",
              "243            OpenAI          3  2019-07-22   \n",
              "244            Upstox          3  2021-11-29   \n",
              "245      Vista Global          3  2017-08-23   \n",
              "..                ...        ...         ...   \n",
              "350   SouChe Holdings          3  2017-11-01   \n",
              "351       TradingView          3  2021-10-14   \n",
              "352         Traveloka          3  2017-01-01   \n",
              "353             wefox          3  2019-03-05   \n",
              "354  Wildlife Studios          3  2019-12-05   \n",
              "\n",
              "                                Industry           City        Country/Region  \\\n",
              "240                                other       Shenzhen                 China   \n",
              "241  supply chain, logistics, & delivery          Seoul           South Korea   \n",
              "243              artificial intelligence  San Francisco         United States   \n",
              "244                              fintech         Mumbai                 India   \n",
              "245                                other          Dubai  United Arab Emirates   \n",
              "..                                   ...            ...                   ...   \n",
              "350      e-commerce & direct-to-consumer       Hangzhou                 China   \n",
              "351                              fintech    Westerville         United States   \n",
              "352                               travel        Jakarta             Indonesia   \n",
              "353                              fintech         Berlin               Germany   \n",
              "354                                other      Sao Paulo                Brazil   \n",
              "\n",
              "         Continent  Year Founded Funding  \\\n",
              "240           Asia          2006   $154M   \n",
              "241           Asia          2014   $770M   \n",
              "243  North America          2015     $1B   \n",
              "244           Asia          2010    $54M   \n",
              "245           Asia          2004   $418M   \n",
              "..             ...           ...     ...   \n",
              "350           Asia          2012     $1B   \n",
              "351  North America          2011   $339M   \n",
              "352           Asia          2012     $1B   \n",
              "353         Europe          2014   $919M   \n",
              "354  South America          2011   $180M   \n",
              "\n",
              "                                      Select Investors  year_joined  \\\n",
              "240                             Alibaba Pictures Group         2016   \n",
              "241      Sequoia Capital China, DST Global, DST Global         2021   \n",
              "243                                    Khosla Ventures         2019   \n",
              "244           Tiger Global Management, Kalaari Capital         2021   \n",
              "245                                      Rhone Capital         2017   \n",
              "..                                                 ...          ...   \n",
              "350  Morningside Ventures, Warburg Pincus, CreditEa...         2017   \n",
              "351  Tiger Global Management, Insight Partners, Jum...         2021   \n",
              "352  Global Founders Capital, East Ventures, Expedi...         2017   \n",
              "353      Salesforce Ventures, Seedcamp, OMERS Ventures         2019   \n",
              "354               Benchmark, Bessemer Venture Partners         2019   \n",
              "\n",
              "    Valuation_level  \n",
              "240             mid  \n",
              "241             mid  \n",
              "243             mid  \n",
              "244             mid  \n",
              "245             mid  \n",
              "..              ...  \n",
              "350             mid  \n",
              "351             mid  \n",
              "352             mid  \n",
              "353             mid  \n",
              "354             mid  \n",
              "\n",
              "[112 rows x 12 columns]"
            ],
            "text/html": [
              "\n",
              "  <div id=\"df-8dd67544-3f48-4cf8-a864-53f0308a1b9c\">\n",
              "    <div class=\"colab-df-container\">\n",
              "      <div>\n",
              "<style scoped>\n",
              "    .dataframe tbody tr th:only-of-type {\n",
              "        vertical-align: middle;\n",
              "    }\n",
              "\n",
              "    .dataframe tbody tr th {\n",
              "        vertical-align: top;\n",
              "    }\n",
              "\n",
              "    .dataframe thead th {\n",
              "        text-align: right;\n",
              "    }\n",
              "</style>\n",
              "<table border=\"1\" class=\"dataframe\">\n",
              "  <thead>\n",
              "    <tr style=\"text-align: right;\">\n",
              "      <th></th>\n",
              "      <th>Company</th>\n",
              "      <th>Valuation</th>\n",
              "      <th>Date Joined</th>\n",
              "      <th>Industry</th>\n",
              "      <th>City</th>\n",
              "      <th>Country/Region</th>\n",
              "      <th>Continent</th>\n",
              "      <th>Year Founded</th>\n",
              "      <th>Funding</th>\n",
              "      <th>Select Investors</th>\n",
              "      <th>year_joined</th>\n",
              "      <th>Valuation_level</th>\n",
              "    </tr>\n",
              "  </thead>\n",
              "  <tbody>\n",
              "    <tr>\n",
              "      <th>240</th>\n",
              "      <td>Dadi Cinema</td>\n",
              "      <td>3</td>\n",
              "      <td>2016-05-11</td>\n",
              "      <td>other</td>\n",
              "      <td>Shenzhen</td>\n",
              "      <td>China</td>\n",
              "      <td>Asia</td>\n",
              "      <td>2006</td>\n",
              "      <td>$154M</td>\n",
              "      <td>Alibaba Pictures Group</td>\n",
              "      <td>2016</td>\n",
              "      <td>mid</td>\n",
              "    </tr>\n",
              "    <tr>\n",
              "      <th>241</th>\n",
              "      <td>Kurly</td>\n",
              "      <td>3</td>\n",
              "      <td>2021-07-09</td>\n",
              "      <td>supply chain, logistics, &amp; delivery</td>\n",
              "      <td>Seoul</td>\n",
              "      <td>South Korea</td>\n",
              "      <td>Asia</td>\n",
              "      <td>2014</td>\n",
              "      <td>$770M</td>\n",
              "      <td>Sequoia Capital China, DST Global, DST Global</td>\n",
              "      <td>2021</td>\n",
              "      <td>mid</td>\n",
              "    </tr>\n",
              "    <tr>\n",
              "      <th>243</th>\n",
              "      <td>OpenAI</td>\n",
              "      <td>3</td>\n",
              "      <td>2019-07-22</td>\n",
              "      <td>artificial intelligence</td>\n",
              "      <td>San Francisco</td>\n",
              "      <td>United States</td>\n",
              "      <td>North America</td>\n",
              "      <td>2015</td>\n",
              "      <td>$1B</td>\n",
              "      <td>Khosla Ventures</td>\n",
              "      <td>2019</td>\n",
              "      <td>mid</td>\n",
              "    </tr>\n",
              "    <tr>\n",
              "      <th>244</th>\n",
              "      <td>Upstox</td>\n",
              "      <td>3</td>\n",
              "      <td>2021-11-29</td>\n",
              "      <td>fintech</td>\n",
              "      <td>Mumbai</td>\n",
              "      <td>India</td>\n",
              "      <td>Asia</td>\n",
              "      <td>2010</td>\n",
              "      <td>$54M</td>\n",
              "      <td>Tiger Global Management, Kalaari Capital</td>\n",
              "      <td>2021</td>\n",
              "      <td>mid</td>\n",
              "    </tr>\n",
              "    <tr>\n",
              "      <th>245</th>\n",
              "      <td>Vista Global</td>\n",
              "      <td>3</td>\n",
              "      <td>2017-08-23</td>\n",
              "      <td>other</td>\n",
              "      <td>Dubai</td>\n",
              "      <td>United Arab Emirates</td>\n",
              "      <td>Asia</td>\n",
              "      <td>2004</td>\n",
              "      <td>$418M</td>\n",
              "      <td>Rhone Capital</td>\n",
              "      <td>2017</td>\n",
              "      <td>mid</td>\n",
              "    </tr>\n",
              "    <tr>\n",
              "      <th>...</th>\n",
              "      <td>...</td>\n",
              "      <td>...</td>\n",
              "      <td>...</td>\n",
              "      <td>...</td>\n",
              "      <td>...</td>\n",
              "      <td>...</td>\n",
              "      <td>...</td>\n",
              "      <td>...</td>\n",
              "      <td>...</td>\n",
              "      <td>...</td>\n",
              "      <td>...</td>\n",
              "      <td>...</td>\n",
              "    </tr>\n",
              "    <tr>\n",
              "      <th>350</th>\n",
              "      <td>SouChe Holdings</td>\n",
              "      <td>3</td>\n",
              "      <td>2017-11-01</td>\n",
              "      <td>e-commerce &amp; direct-to-consumer</td>\n",
              "      <td>Hangzhou</td>\n",
              "      <td>China</td>\n",
              "      <td>Asia</td>\n",
              "      <td>2012</td>\n",
              "      <td>$1B</td>\n",
              "      <td>Morningside Ventures, Warburg Pincus, CreditEa...</td>\n",
              "      <td>2017</td>\n",
              "      <td>mid</td>\n",
              "    </tr>\n",
              "    <tr>\n",
              "      <th>351</th>\n",
              "      <td>TradingView</td>\n",
              "      <td>3</td>\n",
              "      <td>2021-10-14</td>\n",
              "      <td>fintech</td>\n",
              "      <td>Westerville</td>\n",
              "      <td>United States</td>\n",
              "      <td>North America</td>\n",
              "      <td>2011</td>\n",
              "      <td>$339M</td>\n",
              "      <td>Tiger Global Management, Insight Partners, Jum...</td>\n",
              "      <td>2021</td>\n",
              "      <td>mid</td>\n",
              "    </tr>\n",
              "    <tr>\n",
              "      <th>352</th>\n",
              "      <td>Traveloka</td>\n",
              "      <td>3</td>\n",
              "      <td>2017-01-01</td>\n",
              "      <td>travel</td>\n",
              "      <td>Jakarta</td>\n",
              "      <td>Indonesia</td>\n",
              "      <td>Asia</td>\n",
              "      <td>2012</td>\n",
              "      <td>$1B</td>\n",
              "      <td>Global Founders Capital, East Ventures, Expedi...</td>\n",
              "      <td>2017</td>\n",
              "      <td>mid</td>\n",
              "    </tr>\n",
              "    <tr>\n",
              "      <th>353</th>\n",
              "      <td>wefox</td>\n",
              "      <td>3</td>\n",
              "      <td>2019-03-05</td>\n",
              "      <td>fintech</td>\n",
              "      <td>Berlin</td>\n",
              "      <td>Germany</td>\n",
              "      <td>Europe</td>\n",
              "      <td>2014</td>\n",
              "      <td>$919M</td>\n",
              "      <td>Salesforce Ventures, Seedcamp, OMERS Ventures</td>\n",
              "      <td>2019</td>\n",
              "      <td>mid</td>\n",
              "    </tr>\n",
              "    <tr>\n",
              "      <th>354</th>\n",
              "      <td>Wildlife Studios</td>\n",
              "      <td>3</td>\n",
              "      <td>2019-12-05</td>\n",
              "      <td>other</td>\n",
              "      <td>Sao Paulo</td>\n",
              "      <td>Brazil</td>\n",
              "      <td>South America</td>\n",
              "      <td>2011</td>\n",
              "      <td>$180M</td>\n",
              "      <td>Benchmark, Bessemer Venture Partners</td>\n",
              "      <td>2019</td>\n",
              "      <td>mid</td>\n",
              "    </tr>\n",
              "  </tbody>\n",
              "</table>\n",
              "<p>112 rows × 12 columns</p>\n",
              "</div>\n",
              "      <button class=\"colab-df-convert\" onclick=\"convertToInteractive('df-8dd67544-3f48-4cf8-a864-53f0308a1b9c')\"\n",
              "              title=\"Convert this dataframe to an interactive table.\"\n",
              "              style=\"display:none;\">\n",
              "        \n",
              "  <svg xmlns=\"http://www.w3.org/2000/svg\" height=\"24px\"viewBox=\"0 0 24 24\"\n",
              "       width=\"24px\">\n",
              "    <path d=\"M0 0h24v24H0V0z\" fill=\"none\"/>\n",
              "    <path d=\"M18.56 5.44l.94 2.06.94-2.06 2.06-.94-2.06-.94-.94-2.06-.94 2.06-2.06.94zm-11 1L8.5 8.5l.94-2.06 2.06-.94-2.06-.94L8.5 2.5l-.94 2.06-2.06.94zm10 10l.94 2.06.94-2.06 2.06-.94-2.06-.94-.94-2.06-.94 2.06-2.06.94z\"/><path d=\"M17.41 7.96l-1.37-1.37c-.4-.4-.92-.59-1.43-.59-.52 0-1.04.2-1.43.59L10.3 9.45l-7.72 7.72c-.78.78-.78 2.05 0 2.83L4 21.41c.39.39.9.59 1.41.59.51 0 1.02-.2 1.41-.59l7.78-7.78 2.81-2.81c.8-.78.8-2.07 0-2.86zM5.41 20L4 18.59l7.72-7.72 1.47 1.35L5.41 20z\"/>\n",
              "  </svg>\n",
              "      </button>\n",
              "      \n",
              "  <style>\n",
              "    .colab-df-container {\n",
              "      display:flex;\n",
              "      flex-wrap:wrap;\n",
              "      gap: 12px;\n",
              "    }\n",
              "\n",
              "    .colab-df-convert {\n",
              "      background-color: #E8F0FE;\n",
              "      border: none;\n",
              "      border-radius: 50%;\n",
              "      cursor: pointer;\n",
              "      display: none;\n",
              "      fill: #1967D2;\n",
              "      height: 32px;\n",
              "      padding: 0 0 0 0;\n",
              "      width: 32px;\n",
              "    }\n",
              "\n",
              "    .colab-df-convert:hover {\n",
              "      background-color: #E2EBFA;\n",
              "      box-shadow: 0px 1px 2px rgba(60, 64, 67, 0.3), 0px 1px 3px 1px rgba(60, 64, 67, 0.15);\n",
              "      fill: #174EA6;\n",
              "    }\n",
              "\n",
              "    [theme=dark] .colab-df-convert {\n",
              "      background-color: #3B4455;\n",
              "      fill: #D2E3FC;\n",
              "    }\n",
              "\n",
              "    [theme=dark] .colab-df-convert:hover {\n",
              "      background-color: #434B5C;\n",
              "      box-shadow: 0px 1px 3px 1px rgba(0, 0, 0, 0.15);\n",
              "      filter: drop-shadow(0px 1px 2px rgba(0, 0, 0, 0.3));\n",
              "      fill: #FFFFFF;\n",
              "    }\n",
              "  </style>\n",
              "\n",
              "      <script>\n",
              "        const buttonEl =\n",
              "          document.querySelector('#df-8dd67544-3f48-4cf8-a864-53f0308a1b9c button.colab-df-convert');\n",
              "        buttonEl.style.display =\n",
              "          google.colab.kernel.accessAllowed ? 'block' : 'none';\n",
              "\n",
              "        async function convertToInteractive(key) {\n",
              "          const element = document.querySelector('#df-8dd67544-3f48-4cf8-a864-53f0308a1b9c');\n",
              "          const dataTable =\n",
              "            await google.colab.kernel.invokeFunction('convertToInteractive',\n",
              "                                                     [key], {});\n",
              "          if (!dataTable) return;\n",
              "\n",
              "          const docLinkHtml = 'Like what you see? Visit the ' +\n",
              "            '<a target=\"_blank\" href=https://colab.research.google.com/notebooks/data_table.ipynb>data table notebook</a>'\n",
              "            + ' to learn more about interactive tables.';\n",
              "          element.innerHTML = '';\n",
              "          dataTable['output_type'] = 'display_data';\n",
              "          await google.colab.output.renderOutput(dataTable, element);\n",
              "          const docLink = document.createElement('div');\n",
              "          docLink.innerHTML = docLinkHtml;\n",
              "          element.appendChild(docLink);\n",
              "        }\n",
              "      </script>\n",
              "    </div>\n",
              "  </div>\n",
              "  "
            ]
          },
          "metadata": {},
          "execution_count": 499
        }
      ]
    },
    {
      "cell_type": "code",
      "source": [
        "dfcopy['Valuation_level'].value_counts()"
      ],
      "metadata": {
        "colab": {
          "base_uri": "https://localhost:8080/",
          "height": 0
        },
        "id": "0fQJNTxg4fWz",
        "outputId": "e0721044-d074-46fa-e634-70fcc9b0d514"
      },
      "execution_count": 500,
      "outputs": [
        {
          "output_type": "execute_result",
          "data": {
            "text/plain": [
              "low     707\n",
              "high    238\n",
              "mid     112\n",
              "Name: Valuation_level, dtype: int64"
            ]
          },
          "metadata": {},
          "execution_count": 500
        }
      ]
    },
    {
      "cell_type": "code",
      "source": [
        "dfcopy['Valuation_level'].value_counts().values.sum()"
      ],
      "metadata": {
        "colab": {
          "base_uri": "https://localhost:8080/",
          "height": 0
        },
        "id": "YJdnd736445U",
        "outputId": "e9dae5c0-d64e-4bc9-b11a-5e95b57707a3"
      },
      "execution_count": 501,
      "outputs": [
        {
          "output_type": "execute_result",
          "data": {
            "text/plain": [
              "1057"
            ]
          },
          "metadata": {},
          "execution_count": 501
        }
      ]
    },
    {
      "cell_type": "code",
      "source": [
        "#convert the level to a code:\n",
        "dfcopy['Valuation_level_code']=dfcopy['Valuation_level'].cat.codes\n"
      ],
      "metadata": {
        "colab": {
          "base_uri": "https://localhost:8080/",
          "height": 430
        },
        "id": "-g4vsnqL240q",
        "outputId": "9697e83d-484a-45af-c0ac-a899dfe7a881"
      },
      "execution_count": 502,
      "outputs": [
        {
          "output_type": "execute_result",
          "data": {
            "text/plain": [
              "     Company  Valuation Date Joined                         Industry  \\\n",
              "0  Bytedance        180  2017-04-07          artificial intelligence   \n",
              "1     SpaceX        100  2012-12-01                            other   \n",
              "2      SHEIN        100  2018-07-03  e-commerce & direct-to-consumer   \n",
              "3     Stripe         95  2014-01-23                          fintech   \n",
              "\n",
              "            City Country/Region      Continent  Year Founded Funding  \\\n",
              "0        Beijing          China           Asia          2012     $8B   \n",
              "1      Hawthorne  United States  North America          2002     $7B   \n",
              "2       Shenzhen          China           Asia          2008     $2B   \n",
              "3  San Francisco  United States  North America          2010     $2B   \n",
              "\n",
              "                                    Select Investors  year_joined  \\\n",
              "0  Sequoia Capital China, SIG Asia Investments, S...         2017   \n",
              "1  Founders Fund, Draper Fisher Jurvetson, Rothen...         2012   \n",
              "2  Tiger Global Management, Sequoia Capital China...         2018   \n",
              "3        Khosla Ventures, LowercaseCapital, capitalG         2014   \n",
              "\n",
              "  Valuation_level  Valuation_level_code  \n",
              "0            high                     2  \n",
              "1            high                     2  \n",
              "2            high                     2  \n",
              "3            high                     2  "
            ],
            "text/html": [
              "\n",
              "  <div id=\"df-68567f66-bbc7-4899-89b9-32050b739ecf\">\n",
              "    <div class=\"colab-df-container\">\n",
              "      <div>\n",
              "<style scoped>\n",
              "    .dataframe tbody tr th:only-of-type {\n",
              "        vertical-align: middle;\n",
              "    }\n",
              "\n",
              "    .dataframe tbody tr th {\n",
              "        vertical-align: top;\n",
              "    }\n",
              "\n",
              "    .dataframe thead th {\n",
              "        text-align: right;\n",
              "    }\n",
              "</style>\n",
              "<table border=\"1\" class=\"dataframe\">\n",
              "  <thead>\n",
              "    <tr style=\"text-align: right;\">\n",
              "      <th></th>\n",
              "      <th>Company</th>\n",
              "      <th>Valuation</th>\n",
              "      <th>Date Joined</th>\n",
              "      <th>Industry</th>\n",
              "      <th>City</th>\n",
              "      <th>Country/Region</th>\n",
              "      <th>Continent</th>\n",
              "      <th>Year Founded</th>\n",
              "      <th>Funding</th>\n",
              "      <th>Select Investors</th>\n",
              "      <th>year_joined</th>\n",
              "      <th>Valuation_level</th>\n",
              "      <th>Valuation_level_code</th>\n",
              "    </tr>\n",
              "  </thead>\n",
              "  <tbody>\n",
              "    <tr>\n",
              "      <th>0</th>\n",
              "      <td>Bytedance</td>\n",
              "      <td>180</td>\n",
              "      <td>2017-04-07</td>\n",
              "      <td>artificial intelligence</td>\n",
              "      <td>Beijing</td>\n",
              "      <td>China</td>\n",
              "      <td>Asia</td>\n",
              "      <td>2012</td>\n",
              "      <td>$8B</td>\n",
              "      <td>Sequoia Capital China, SIG Asia Investments, S...</td>\n",
              "      <td>2017</td>\n",
              "      <td>high</td>\n",
              "      <td>2</td>\n",
              "    </tr>\n",
              "    <tr>\n",
              "      <th>1</th>\n",
              "      <td>SpaceX</td>\n",
              "      <td>100</td>\n",
              "      <td>2012-12-01</td>\n",
              "      <td>other</td>\n",
              "      <td>Hawthorne</td>\n",
              "      <td>United States</td>\n",
              "      <td>North America</td>\n",
              "      <td>2002</td>\n",
              "      <td>$7B</td>\n",
              "      <td>Founders Fund, Draper Fisher Jurvetson, Rothen...</td>\n",
              "      <td>2012</td>\n",
              "      <td>high</td>\n",
              "      <td>2</td>\n",
              "    </tr>\n",
              "    <tr>\n",
              "      <th>2</th>\n",
              "      <td>SHEIN</td>\n",
              "      <td>100</td>\n",
              "      <td>2018-07-03</td>\n",
              "      <td>e-commerce &amp; direct-to-consumer</td>\n",
              "      <td>Shenzhen</td>\n",
              "      <td>China</td>\n",
              "      <td>Asia</td>\n",
              "      <td>2008</td>\n",
              "      <td>$2B</td>\n",
              "      <td>Tiger Global Management, Sequoia Capital China...</td>\n",
              "      <td>2018</td>\n",
              "      <td>high</td>\n",
              "      <td>2</td>\n",
              "    </tr>\n",
              "    <tr>\n",
              "      <th>3</th>\n",
              "      <td>Stripe</td>\n",
              "      <td>95</td>\n",
              "      <td>2014-01-23</td>\n",
              "      <td>fintech</td>\n",
              "      <td>San Francisco</td>\n",
              "      <td>United States</td>\n",
              "      <td>North America</td>\n",
              "      <td>2010</td>\n",
              "      <td>$2B</td>\n",
              "      <td>Khosla Ventures, LowercaseCapital, capitalG</td>\n",
              "      <td>2014</td>\n",
              "      <td>high</td>\n",
              "      <td>2</td>\n",
              "    </tr>\n",
              "  </tbody>\n",
              "</table>\n",
              "</div>\n",
              "      <button class=\"colab-df-convert\" onclick=\"convertToInteractive('df-68567f66-bbc7-4899-89b9-32050b739ecf')\"\n",
              "              title=\"Convert this dataframe to an interactive table.\"\n",
              "              style=\"display:none;\">\n",
              "        \n",
              "  <svg xmlns=\"http://www.w3.org/2000/svg\" height=\"24px\"viewBox=\"0 0 24 24\"\n",
              "       width=\"24px\">\n",
              "    <path d=\"M0 0h24v24H0V0z\" fill=\"none\"/>\n",
              "    <path d=\"M18.56 5.44l.94 2.06.94-2.06 2.06-.94-2.06-.94-.94-2.06-.94 2.06-2.06.94zm-11 1L8.5 8.5l.94-2.06 2.06-.94-2.06-.94L8.5 2.5l-.94 2.06-2.06.94zm10 10l.94 2.06.94-2.06 2.06-.94-2.06-.94-.94-2.06-.94 2.06-2.06.94z\"/><path d=\"M17.41 7.96l-1.37-1.37c-.4-.4-.92-.59-1.43-.59-.52 0-1.04.2-1.43.59L10.3 9.45l-7.72 7.72c-.78.78-.78 2.05 0 2.83L4 21.41c.39.39.9.59 1.41.59.51 0 1.02-.2 1.41-.59l7.78-7.78 2.81-2.81c.8-.78.8-2.07 0-2.86zM5.41 20L4 18.59l7.72-7.72 1.47 1.35L5.41 20z\"/>\n",
              "  </svg>\n",
              "      </button>\n",
              "      \n",
              "  <style>\n",
              "    .colab-df-container {\n",
              "      display:flex;\n",
              "      flex-wrap:wrap;\n",
              "      gap: 12px;\n",
              "    }\n",
              "\n",
              "    .colab-df-convert {\n",
              "      background-color: #E8F0FE;\n",
              "      border: none;\n",
              "      border-radius: 50%;\n",
              "      cursor: pointer;\n",
              "      display: none;\n",
              "      fill: #1967D2;\n",
              "      height: 32px;\n",
              "      padding: 0 0 0 0;\n",
              "      width: 32px;\n",
              "    }\n",
              "\n",
              "    .colab-df-convert:hover {\n",
              "      background-color: #E2EBFA;\n",
              "      box-shadow: 0px 1px 2px rgba(60, 64, 67, 0.3), 0px 1px 3px 1px rgba(60, 64, 67, 0.15);\n",
              "      fill: #174EA6;\n",
              "    }\n",
              "\n",
              "    [theme=dark] .colab-df-convert {\n",
              "      background-color: #3B4455;\n",
              "      fill: #D2E3FC;\n",
              "    }\n",
              "\n",
              "    [theme=dark] .colab-df-convert:hover {\n",
              "      background-color: #434B5C;\n",
              "      box-shadow: 0px 1px 3px 1px rgba(0, 0, 0, 0.15);\n",
              "      filter: drop-shadow(0px 1px 2px rgba(0, 0, 0, 0.3));\n",
              "      fill: #FFFFFF;\n",
              "    }\n",
              "  </style>\n",
              "\n",
              "      <script>\n",
              "        const buttonEl =\n",
              "          document.querySelector('#df-68567f66-bbc7-4899-89b9-32050b739ecf button.colab-df-convert');\n",
              "        buttonEl.style.display =\n",
              "          google.colab.kernel.accessAllowed ? 'block' : 'none';\n",
              "\n",
              "        async function convertToInteractive(key) {\n",
              "          const element = document.querySelector('#df-68567f66-bbc7-4899-89b9-32050b739ecf');\n",
              "          const dataTable =\n",
              "            await google.colab.kernel.invokeFunction('convertToInteractive',\n",
              "                                                     [key], {});\n",
              "          if (!dataTable) return;\n",
              "\n",
              "          const docLinkHtml = 'Like what you see? Visit the ' +\n",
              "            '<a target=\"_blank\" href=https://colab.research.google.com/notebooks/data_table.ipynb>data table notebook</a>'\n",
              "            + ' to learn more about interactive tables.';\n",
              "          element.innerHTML = '';\n",
              "          dataTable['output_type'] = 'display_data';\n",
              "          await google.colab.output.renderOutput(dataTable, element);\n",
              "          const docLink = document.createElement('div');\n",
              "          docLink.innerHTML = docLinkHtml;\n",
              "          element.appendChild(docLink);\n",
              "        }\n",
              "      </script>\n",
              "    </div>\n",
              "  </div>\n",
              "  "
            ]
          },
          "metadata": {},
          "execution_count": 502
        }
      ]
    },
    {
      "cell_type": "code",
      "source": [
        "dfcopy['Valuation_level_code'].value_counts()"
      ],
      "metadata": {
        "colab": {
          "base_uri": "https://localhost:8080/",
          "height": 0
        },
        "id": "9V2HmVZI5YeH",
        "outputId": "5990c5d5-2af2-4d6a-b265-98e0bdfa3748"
      },
      "execution_count": 503,
      "outputs": [
        {
          "output_type": "execute_result",
          "data": {
            "text/plain": [
              "0    707\n",
              "2    238\n",
              "1    112\n",
              "Name: Valuation_level_code, dtype: int64"
            ]
          },
          "metadata": {},
          "execution_count": 503
        }
      ]
    },
    {
      "cell_type": "code",
      "source": [
        "sp.barplot(x=dfcopy['Valuation_level_code'].value_counts().index, y=dfcopy['Valuation_level_code'].value_counts().values)\n",
        "pt.show()"
      ],
      "metadata": {
        "colab": {
          "base_uri": "https://localhost:8080/",
          "height": 430
        },
        "id": "x6j9zlCO5z_8",
        "outputId": "bc0cbaaa-54d3-41f9-8c65-952d5c808e74"
      },
      "execution_count": 504,
      "outputs": [
        {
          "output_type": "display_data",
          "data": {
            "text/plain": [
              "<Figure size 640x480 with 1 Axes>"
            ],
            "image/png": "[encoded data removed]"
          },
          "metadata": {}
        }
      ]
    },
    {
      "cell_type": "code",
      "source": [
        "#Another catogories:\n",
        "\n",
        "# Use qcut to divide Valuation into 'high' and 'low' Valuation groups\n",
        "dfcopy['High Valuation'] = pd.qcut(df['Valuation'], 2, labels = ['No','Yes'])\n",
        "\n",
        "# Convert High Valuation to numeric\n",
        "dfcopy['High Valuation'] = dfcopy['High Valuation'].cat.codes"
      ],
      "metadata": {
        "id": "96V1SZc25z9c"
      },
      "execution_count": 505,
      "outputs": []
    },
    {
      "cell_type": "code",
      "source": [
        "sp.barplot(x=dfcopy['High Valuation'].value_counts().index, y=dfcopy['High Valuation'].value_counts().values)\n",
        "pt.show()"
      ],
      "metadata": {
        "colab": {
          "base_uri": "https://localhost:8080/",
          "height": 430
        },
        "id": "eT0JhP_1tTKu",
        "outputId": "6fc54fdb-f7ed-4655-de64-fe572e80b4e2"
      },
      "execution_count": 507,
      "outputs": [
        {
          "output_type": "display_data",
          "data": {
            "text/plain": [
              "<Figure size 640x480 with 1 Axes>"
            ],
            "image/png": "[encoded data removed]"
          },
          "metadata": {}
        }
      ]
    },
    {
      "cell_type": "code",
      "source": [
        "df.duplicated().sum()"
      ],
      "metadata": {
        "colab": {
          "base_uri": "https://localhost:8080/",
          "height": 0
        },
        "id": "smOezA9yiMWw",
        "outputId": "c6d4bcf0-6d50-4286-ef48-096110e7b4a7"
      },
      "execution_count": 508,
      "outputs": [
        {
          "output_type": "execute_result",
          "data": {
            "text/plain": [
              "0"
            ]
          },
          "metadata": {},
          "execution_count": 508
        }
      ]
    },
    {
      "cell_type": "code",
      "source": [
        "df.isnull().sum()"
      ],
      "metadata": {
        "colab": {
          "base_uri": "https://localhost:8080/",
          "height": 0
        },
        "id": "i4cHAZtg-C6D",
        "outputId": "7183d46a-e009-4036-d62a-b0eef04be2a5"
      },
      "execution_count": 509,
      "outputs": [
        {
          "output_type": "execute_result",
          "data": {
            "text/plain": [
              "Company                 0\n",
              "Valuation               0\n",
              "Date Joined             0\n",
              "Industry                0\n",
              "City                    0\n",
              "Country/Region          0\n",
              "Continent               0\n",
              "Year Founded            0\n",
              "Funding                 0\n",
              "Select Investors        0\n",
              "year_joined             0\n",
              "Valuation_level         0\n",
              "Valuation_level_code    0\n",
              "High Valuation          0\n",
              "dtype: int64"
            ]
          },
          "metadata": {},
          "execution_count": 509
        }
      ]
    },
    {
      "cell_type": "markdown",
      "source": [
        "-- Convert Catogrical to Numerical data type\n",
        "* `Valuation` - Label encoding was used because the labels are ordered.\n",
        "* `Continent` - One hot encoding was used because there are few labels and they are not ordered.\n",
        "* `Country/Region` - Label encoding was used because there are many labels, although they are not ordered.\n",
        "* `Industry` - One hot encoding was used because there are few labels and they are not ordered."
      ],
      "metadata": {
        "id": "CHu-Lx9tiywE"
      }
    },
    {
      "cell_type": "code",
      "source": [
        "df_onehot = pd.get_dummies(df['Continent'])\n",
        "\n",
        "# add the one hot encoded columns to the original dataframe\n",
        "df = pd.concat([df, df_onehot], axis=1)"
      ],
      "metadata": {
        "id": "qCsm4FCuiyD8"
      },
      "execution_count": 511,
      "outputs": []
    },
    {
      "cell_type": "code",
      "source": [
        "df_onehot1 = pd.get_dummies(df['Industry'])\n",
        "\n",
        "# add the one hot encoded columns to the original dataframe\n",
        "df = pd.concat([df, df_onehot1], axis=1)"
      ],
      "metadata": {
        "id": "fKAAaveaix-G"
      },
      "execution_count": 512,
      "outputs": []
    },
    {
      "cell_type": "code",
      "source": [
        "# Create numeric categoriews for Country/Region\n",
        "#df['Country/Region'] = df['Country/Region'].astype('category').cat.codes"
      ],
      "metadata": {
        "id": "bmd3pLEsixcg"
      },
      "execution_count": 513,
      "outputs": []
    },
    {
      "cell_type": "markdown",
      "source": [
        "###  Results and evaluation and Insights"
      ],
      "metadata": {
        "id": "OjNhS4Kay6q6"
      }
    },
    {
      "cell_type": "markdown",
      "source": [
        "-\n",
        "  The investor has asked you to provide them with the following data:\n",
        "\n",
        "  - Companies in the hardware industry based in either Beijing, San Francisco, or London\n",
        "  - Companies in the artificial intelligence industry based in London\n",
        "  - A list of the top 20 countries sorted by sum of company valuations in each country, excluding United States, China, India, and United Kingdom\n",
        "  - A global valuation map of all countries with companies that joined the list after 2020\n",
        "  - A global valuation map of all countries except United States, China, India, and United Kingdom (a separate map for Europe is also required)\n",
        "  Your dataset includes a list of businesses and data points, such as the year they were founded; their industry; and their city, country, and continent."
      ],
      "metadata": {
        "id": "uEUHATx5zO7G"
      }
    },
    {
      "cell_type": "markdown",
      "source": [
        "-- Companies in the hardware industry in either: Beijing, San Francisco, Londin"
      ],
      "metadata": {
        "id": "KyFuRZ7I-q4_"
      }
    },
    {
      "cell_type": "code",
      "source": [
        "options = ['Beijing', 'London','San Francisco']\n",
        "\n",
        "# selecting rows based on condition\n",
        "hardware_df = df[(df['City'].isin(options)) & (df['hardware']==1)]"
      ],
      "metadata": {
        "id": "Hu8bekTRAEFu"
      },
      "execution_count": 515,
      "outputs": []
    },
    {
      "cell_type": "code",
      "source": [
        "hardware_df.shape"
      ],
      "metadata": {
        "colab": {
          "base_uri": "https://localhost:8080/",
          "height": 0
        },
        "id": "stdLcmWFAxn5",
        "outputId": "bfbff6ba-6dff-486f-9a93-b1f7cd41c55a"
      },
      "execution_count": 517,
      "outputs": [
        {
          "output_type": "execute_result",
          "data": {
            "text/plain": [
              "(6, 35)"
            ]
          },
          "metadata": {},
          "execution_count": 517
        }
      ]
    },
    {
      "cell_type": "markdown",
      "source": [
        "- Companies in the artificial intelligence industry based in London"
      ],
      "metadata": {
        "id": "ATRe0xNkDgAD"
      }
    },
    {
      "cell_type": "code",
      "source": [
        "ai_df = df[(df['City']=='London') & (df['artificial intelligence']==1)]"
      ],
      "metadata": {
        "id": "2WmkazOQDTJS"
      },
      "execution_count": 518,
      "outputs": []
    },
    {
      "cell_type": "code",
      "source": [
        "ai_df.head()"
      ],
      "metadata": {
        "colab": {
          "base_uri": "https://localhost:8080/",
          "height": 396
        },
        "id": "ePRQRWW5D19o",
        "outputId": "4656c457-6697-4858-976f-66f98cd4a237"
      },
      "execution_count": 519,
      "outputs": [
        {
          "output_type": "execute_result",
          "data": {
            "text/plain": [
              "           Company  Valuation Date Joined                 Industry    City  \\\n",
              "873   BenevolentAI          1  2015-06-02  artificial intelligence  London   \n",
              "1046     Tractable          1  2021-06-16  artificial intelligence  London   \n",
              "\n",
              "      Country/Region Continent  Year Founded Funding  \\\n",
              "873   United Kingdom    Europe          2013   $292M   \n",
              "1046  United Kingdom    Europe          2014   $120M   \n",
              "\n",
              "                                       Select Investors  ...  \\\n",
              "873                      Woodford Investment Management  ...   \n",
              "1046  Insight Partners, Ignition Partners, Georgian ...  ...   \n",
              "\n",
              "      e-commerce & direct-to-consumer edtech  fintech  hardware  health  \\\n",
              "873                                 0      0        0         0       0   \n",
              "1046                                0      0        0         0       0   \n",
              "\n",
              "      internet software & services  mobile & telecommunications  other  \\\n",
              "873                              0                            0      0   \n",
              "1046                             0                            0      0   \n",
              "\n",
              "      supply chain, logistics, & delivery  travel  \n",
              "873                                     0       0  \n",
              "1046                                    0       0  \n",
              "\n",
              "[2 rows x 35 columns]"
            ],
            "text/html": [
              "\n",
              "  <div id=\"df-a272e7a0-cb17-4b11-b211-a3ef53b88645\">\n",
              "    <div class=\"colab-df-container\">\n",
              "      <div>\n",
              "<style scoped>\n",
              "    .dataframe tbody tr th:only-of-type {\n",
              "        vertical-align: middle;\n",
              "    }\n",
              "\n",
              "    .dataframe tbody tr th {\n",
              "        vertical-align: top;\n",
              "    }\n",
              "\n",
              "    .dataframe thead th {\n",
              "        text-align: right;\n",
              "    }\n",
              "</style>\n",
              "<table border=\"1\" class=\"dataframe\">\n",
              "  <thead>\n",
              "    <tr style=\"text-align: right;\">\n",
              "      <th></th>\n",
              "      <th>Company</th>\n",
              "      <th>Valuation</th>\n",
              "      <th>Date Joined</th>\n",
              "      <th>Industry</th>\n",
              "      <th>City</th>\n",
              "      <th>Country/Region</th>\n",
              "      <th>Continent</th>\n",
              "      <th>Year Founded</th>\n",
              "      <th>Funding</th>\n",
              "      <th>Select Investors</th>\n",
              "      <th>...</th>\n",
              "      <th>e-commerce &amp; direct-to-consumer</th>\n",
              "      <th>edtech</th>\n",
              "      <th>fintech</th>\n",
              "      <th>hardware</th>\n",
              "      <th>health</th>\n",
              "      <th>internet software &amp; services</th>\n",
              "      <th>mobile &amp; telecommunications</th>\n",
              "      <th>other</th>\n",
              "      <th>supply chain, logistics, &amp; delivery</th>\n",
              "      <th>travel</th>\n",
              "    </tr>\n",
              "  </thead>\n",
              "  <tbody>\n",
              "    <tr>\n",
              "      <th>873</th>\n",
              "      <td>BenevolentAI</td>\n",
              "      <td>1</td>\n",
              "      <td>2015-06-02</td>\n",
              "      <td>artificial intelligence</td>\n",
              "      <td>London</td>\n",
              "      <td>United Kingdom</td>\n",
              "      <td>Europe</td>\n",
              "      <td>2013</td>\n",
              "      <td>$292M</td>\n",
              "      <td>Woodford Investment Management</td>\n",
              "      <td>...</td>\n",
              "      <td>0</td>\n",
              "      <td>0</td>\n",
              "      <td>0</td>\n",
              "      <td>0</td>\n",
              "      <td>0</td>\n",
              "      <td>0</td>\n",
              "      <td>0</td>\n",
              "      <td>0</td>\n",
              "      <td>0</td>\n",
              "      <td>0</td>\n",
              "    </tr>\n",
              "    <tr>\n",
              "      <th>1046</th>\n",
              "      <td>Tractable</td>\n",
              "      <td>1</td>\n",
              "      <td>2021-06-16</td>\n",
              "      <td>artificial intelligence</td>\n",
              "      <td>London</td>\n",
              "      <td>United Kingdom</td>\n",
              "      <td>Europe</td>\n",
              "      <td>2014</td>\n",
              "      <td>$120M</td>\n",
              "      <td>Insight Partners, Ignition Partners, Georgian ...</td>\n",
              "      <td>...</td>\n",
              "      <td>0</td>\n",
              "      <td>0</td>\n",
              "      <td>0</td>\n",
              "      <td>0</td>\n",
              "      <td>0</td>\n",
              "      <td>0</td>\n",
              "      <td>0</td>\n",
              "      <td>0</td>\n",
              "      <td>0</td>\n",
              "      <td>0</td>\n",
              "    </tr>\n",
              "  </tbody>\n",
              "</table>\n",
              "<p>2 rows × 35 columns</p>\n",
              "</div>\n",
              "      <button class=\"colab-df-convert\" onclick=\"convertToInteractive('df-a272e7a0-cb17-4b11-b211-a3ef53b88645')\"\n",
              "              title=\"Convert this dataframe to an interactive table.\"\n",
              "              style=\"display:none;\">\n",
              "        \n",
              "  <svg xmlns=\"http://www.w3.org/2000/svg\" height=\"24px\"viewBox=\"0 0 24 24\"\n",
              "       width=\"24px\">\n",
              "    <path d=\"M0 0h24v24H0V0z\" fill=\"none\"/>\n",
              "    <path d=\"M18.56 5.44l.94 2.06.94-2.06 2.06-.94-2.06-.94-.94-2.06-.94 2.06-2.06.94zm-11 1L8.5 8.5l.94-2.06 2.06-.94-2.06-.94L8.5 2.5l-.94 2.06-2.06.94zm10 10l.94 2.06.94-2.06 2.06-.94-2.06-.94-.94-2.06-.94 2.06-2.06.94z\"/><path d=\"M17.41 7.96l-1.37-1.37c-.4-.4-.92-.59-1.43-.59-.52 0-1.04.2-1.43.59L10.3 9.45l-7.72 7.72c-.78.78-.78 2.05 0 2.83L4 21.41c.39.39.9.59 1.41.59.51 0 1.02-.2 1.41-.59l7.78-7.78 2.81-2.81c.8-.78.8-2.07 0-2.86zM5.41 20L4 18.59l7.72-7.72 1.47 1.35L5.41 20z\"/>\n",
              "  </svg>\n",
              "      </button>\n",
              "      \n",
              "  <style>\n",
              "    .colab-df-container {\n",
              "      display:flex;\n",
              "      flex-wrap:wrap;\n",
              "      gap: 12px;\n",
              "    }\n",
              "\n",
              "    .colab-df-convert {\n",
              "      background-color: #E8F0FE;\n",
              "      border: none;\n",
              "      border-radius: 50%;\n",
              "      cursor: pointer;\n",
              "      display: none;\n",
              "      fill: #1967D2;\n",
              "      height: 32px;\n",
              "      padding: 0 0 0 0;\n",
              "      width: 32px;\n",
              "    }\n",
              "\n",
              "    .colab-df-convert:hover {\n",
              "      background-color: #E2EBFA;\n",
              "      box-shadow: 0px 1px 2px rgba(60, 64, 67, 0.3), 0px 1px 3px 1px rgba(60, 64, 67, 0.15);\n",
              "      fill: #174EA6;\n",
              "    }\n",
              "\n",
              "    [theme=dark] .colab-df-convert {\n",
              "      background-color: #3B4455;\n",
              "      fill: #D2E3FC;\n",
              "    }\n",
              "\n",
              "    [theme=dark] .colab-df-convert:hover {\n",
              "      background-color: #434B5C;\n",
              "      box-shadow: 0px 1px 3px 1px rgba(0, 0, 0, 0.15);\n",
              "      filter: drop-shadow(0px 1px 2px rgba(0, 0, 0, 0.3));\n",
              "      fill: #FFFFFF;\n",
              "    }\n",
              "  </style>\n",
              "\n",
              "      <script>\n",
              "        const buttonEl =\n",
              "          document.querySelector('#df-a272e7a0-cb17-4b11-b211-a3ef53b88645 button.colab-df-convert');\n",
              "        buttonEl.style.display =\n",
              "          google.colab.kernel.accessAllowed ? 'block' : 'none';\n",
              "\n",
              "        async function convertToInteractive(key) {\n",
              "          const element = document.querySelector('#df-a272e7a0-cb17-4b11-b211-a3ef53b88645');\n",
              "          const dataTable =\n",
              "            await google.colab.kernel.invokeFunction('convertToInteractive',\n",
              "                                                     [key], {});\n",
              "          if (!dataTable) return;\n",
              "\n",
              "          const docLinkHtml = 'Like what you see? Visit the ' +\n",
              "            '<a target=\"_blank\" href=https://colab.research.google.com/notebooks/data_table.ipynb>data table notebook</a>'\n",
              "            + ' to learn more about interactive tables.';\n",
              "          element.innerHTML = '';\n",
              "          dataTable['output_type'] = 'display_data';\n",
              "          await google.colab.output.renderOutput(dataTable, element);\n",
              "          const docLink = document.createElement('div');\n",
              "          docLink.innerHTML = docLinkHtml;\n",
              "          element.appendChild(docLink);\n",
              "        }\n",
              "      </script>\n",
              "    </div>\n",
              "  </div>\n",
              "  "
            ]
          },
          "metadata": {},
          "execution_count": 519
        }
      ]
    },
    {
      "cell_type": "markdown",
      "source": [
        "- A list of the top 20 countries sorted by sum of company valuations in each country, excluding United States, China, India, and United Kingdom"
      ],
      "metadata": {
        "id": "pRSiSeoVGDvz"
      }
    },
    {
      "cell_type": "code",
      "source": [
        "df_grouped.head()"
      ],
      "metadata": {
        "colab": {
          "base_uri": "https://localhost:8080/",
          "height": 206
        },
        "id": "YlR8kuL4E-uY",
        "outputId": "add9760b-cd3f-4b83-9e54-93764d91e7cd"
      },
      "execution_count": 520,
      "outputs": [
        {
          "output_type": "execute_result",
          "data": {
            "text/plain": [
              "    Country/Region  Total Valuation\n",
              "44   United States             1933\n",
              "9            China              696\n",
              "19           India              196\n",
              "43  United Kingdom              195\n",
              "17         Germany               72"
            ],
            "text/html": [
              "\n",
              "  <div id=\"df-b0c9df13-47c1-4091-ae22-83b10532d141\">\n",
              "    <div class=\"colab-df-container\">\n",
              "      <div>\n",
              "<style scoped>\n",
              "    .dataframe tbody tr th:only-of-type {\n",
              "        vertical-align: middle;\n",
              "    }\n",
              "\n",
              "    .dataframe tbody tr th {\n",
              "        vertical-align: top;\n",
              "    }\n",
              "\n",
              "    .dataframe thead th {\n",
              "        text-align: right;\n",
              "    }\n",
              "</style>\n",
              "<table border=\"1\" class=\"dataframe\">\n",
              "  <thead>\n",
              "    <tr style=\"text-align: right;\">\n",
              "      <th></th>\n",
              "      <th>Country/Region</th>\n",
              "      <th>Total Valuation</th>\n",
              "    </tr>\n",
              "  </thead>\n",
              "  <tbody>\n",
              "    <tr>\n",
              "      <th>44</th>\n",
              "      <td>United States</td>\n",
              "      <td>1933</td>\n",
              "    </tr>\n",
              "    <tr>\n",
              "      <th>9</th>\n",
              "      <td>China</td>\n",
              "      <td>696</td>\n",
              "    </tr>\n",
              "    <tr>\n",
              "      <th>19</th>\n",
              "      <td>India</td>\n",
              "      <td>196</td>\n",
              "    </tr>\n",
              "    <tr>\n",
              "      <th>43</th>\n",
              "      <td>United Kingdom</td>\n",
              "      <td>195</td>\n",
              "    </tr>\n",
              "    <tr>\n",
              "      <th>17</th>\n",
              "      <td>Germany</td>\n",
              "      <td>72</td>\n",
              "    </tr>\n",
              "  </tbody>\n",
              "</table>\n",
              "</div>\n",
              "      <button class=\"colab-df-convert\" onclick=\"convertToInteractive('df-b0c9df13-47c1-4091-ae22-83b10532d141')\"\n",
              "              title=\"Convert this dataframe to an interactive table.\"\n",
              "              style=\"display:none;\">\n",
              "        \n",
              "  <svg xmlns=\"http://www.w3.org/2000/svg\" height=\"24px\"viewBox=\"0 0 24 24\"\n",
              "       width=\"24px\">\n",
              "    <path d=\"M0 0h24v24H0V0z\" fill=\"none\"/>\n",
              "    <path d=\"M18.56 5.44l.94 2.06.94-2.06 2.06-.94-2.06-.94-.94-2.06-.94 2.06-2.06.94zm-11 1L8.5 8.5l.94-2.06 2.06-.94-2.06-.94L8.5 2.5l-.94 2.06-2.06.94zm10 10l.94 2.06.94-2.06 2.06-.94-2.06-.94-.94-2.06-.94 2.06-2.06.94z\"/><path d=\"M17.41 7.96l-1.37-1.37c-.4-.4-.92-.59-1.43-.59-.52 0-1.04.2-1.43.59L10.3 9.45l-7.72 7.72c-.78.78-.78 2.05 0 2.83L4 21.41c.39.39.9.59 1.41.59.51 0 1.02-.2 1.41-.59l7.78-7.78 2.81-2.81c.8-.78.8-2.07 0-2.86zM5.41 20L4 18.59l7.72-7.72 1.47 1.35L5.41 20z\"/>\n",
              "  </svg>\n",
              "      </button>\n",
              "      \n",
              "  <style>\n",
              "    .colab-df-container {\n",
              "      display:flex;\n",
              "      flex-wrap:wrap;\n",
              "      gap: 12px;\n",
              "    }\n",
              "\n",
              "    .colab-df-convert {\n",
              "      background-color: #E8F0FE;\n",
              "      border: none;\n",
              "      border-radius: 50%;\n",
              "      cursor: pointer;\n",
              "      display: none;\n",
              "      fill: #1967D2;\n",
              "      height: 32px;\n",
              "      padding: 0 0 0 0;\n",
              "      width: 32px;\n",
              "    }\n",
              "\n",
              "    .colab-df-convert:hover {\n",
              "      background-color: #E2EBFA;\n",
              "      box-shadow: 0px 1px 2px rgba(60, 64, 67, 0.3), 0px 1px 3px 1px rgba(60, 64, 67, 0.15);\n",
              "      fill: #174EA6;\n",
              "    }\n",
              "\n",
              "    [theme=dark] .colab-df-convert {\n",
              "      background-color: #3B4455;\n",
              "      fill: #D2E3FC;\n",
              "    }\n",
              "\n",
              "    [theme=dark] .colab-df-convert:hover {\n",
              "      background-color: #434B5C;\n",
              "      box-shadow: 0px 1px 3px 1px rgba(0, 0, 0, 0.15);\n",
              "      filter: drop-shadow(0px 1px 2px rgba(0, 0, 0, 0.3));\n",
              "      fill: #FFFFFF;\n",
              "    }\n",
              "  </style>\n",
              "\n",
              "      <script>\n",
              "        const buttonEl =\n",
              "          document.querySelector('#df-b0c9df13-47c1-4091-ae22-83b10532d141 button.colab-df-convert');\n",
              "        buttonEl.style.display =\n",
              "          google.colab.kernel.accessAllowed ? 'block' : 'none';\n",
              "\n",
              "        async function convertToInteractive(key) {\n",
              "          const element = document.querySelector('#df-b0c9df13-47c1-4091-ae22-83b10532d141');\n",
              "          const dataTable =\n",
              "            await google.colab.kernel.invokeFunction('convertToInteractive',\n",
              "                                                     [key], {});\n",
              "          if (!dataTable) return;\n",
              "\n",
              "          const docLinkHtml = 'Like what you see? Visit the ' +\n",
              "            '<a target=\"_blank\" href=https://colab.research.google.com/notebooks/data_table.ipynb>data table notebook</a>'\n",
              "            + ' to learn more about interactive tables.';\n",
              "          element.innerHTML = '';\n",
              "          dataTable['output_type'] = 'display_data';\n",
              "          await google.colab.output.renderOutput(dataTable, element);\n",
              "          const docLink = document.createElement('div');\n",
              "          docLink.innerHTML = docLinkHtml;\n",
              "          element.appendChild(docLink);\n",
              "        }\n",
              "      </script>\n",
              "    </div>\n",
              "  </div>\n",
              "  "
            ]
          },
          "metadata": {},
          "execution_count": 520
        }
      ]
    },
    {
      "cell_type": "markdown",
      "source": [
        "- A global valuation map of all countries with companies that joined the list after 2020"
      ],
      "metadata": {
        "id": "yy3wlldbIPeV"
      }
    },
    {
      "cell_type": "code",
      "source": [
        "a=df"
      ],
      "metadata": {
        "id": "_aYaYoZ8GrtN"
      },
      "execution_count": 541,
      "outputs": []
    },
    {
      "cell_type": "code",
      "source": [
        "df.columns"
      ],
      "metadata": {
        "colab": {
          "base_uri": "https://localhost:8080/",
          "height": 0
        },
        "id": "FLuIL3HuZyVZ",
        "outputId": "158b010a-348f-4d19-e8bc-d77d3f6c1d0c"
      },
      "execution_count": 542,
      "outputs": [
        {
          "output_type": "execute_result",
          "data": {
            "text/plain": [
              "Index(['Company', 'Valuation', 'Date Joined', 'Industry', 'City',\n",
              "       'Country/Region', 'Continent', 'Year Founded', 'Funding',\n",
              "       'Select Investors', 'year_joined', 'Valuation_level',\n",
              "       'Valuation_level_code', 'High Valuation', 'Africa', 'Asia', 'Europe',\n",
              "       'North America', 'Oceania', 'South America', 'artificial intelligence',\n",
              "       'auto & transportation', 'consumer & retail', 'cybersecurity',\n",
              "       'data management & analytics', 'e-commerce & direct-to-consumer',\n",
              "       'edtech', 'fintech', 'hardware', 'health',\n",
              "       'internet software & services', 'mobile & telecommunications', 'other',\n",
              "       'supply chain, logistics, & delivery', 'travel'],\n",
              "      dtype='object')"
            ]
          },
          "metadata": {},
          "execution_count": 542
        }
      ]
    },
    {
      "cell_type": "code",
      "source": [
        "a.columns"
      ],
      "metadata": {
        "colab": {
          "base_uri": "https://localhost:8080/",
          "height": 0
        },
        "id": "i4RgVMYKZiN6",
        "outputId": "15713336-56dd-4765-8021-85dc8e30b7f5"
      },
      "execution_count": 543,
      "outputs": [
        {
          "output_type": "execute_result",
          "data": {
            "text/plain": [
              "Index(['Company', 'Valuation', 'Date Joined', 'Industry', 'City',\n",
              "       'Country/Region', 'Continent', 'Year Founded', 'Funding',\n",
              "       'Select Investors', 'year_joined', 'Valuation_level',\n",
              "       'Valuation_level_code', 'High Valuation', 'Africa', 'Asia', 'Europe',\n",
              "       'North America', 'Oceania', 'South America', 'artificial intelligence',\n",
              "       'auto & transportation', 'consumer & retail', 'cybersecurity',\n",
              "       'data management & analytics', 'e-commerce & direct-to-consumer',\n",
              "       'edtech', 'fintech', 'hardware', 'health',\n",
              "       'internet software & services', 'mobile & telecommunications', 'other',\n",
              "       'supply chain, logistics, & delivery', 'travel'],\n",
              "      dtype='object')"
            ]
          },
          "metadata": {},
          "execution_count": 543
        }
      ]
    },
    {
      "cell_type": "code",
      "source": [
        "a=a[a['year_joined']>2020]"
      ],
      "metadata": {
        "id": "kIDHdZuMZ8TV"
      },
      "execution_count": 544,
      "outputs": []
    },
    {
      "cell_type": "code",
      "source": [
        "a['year_joined'].value_counts()"
      ],
      "metadata": {
        "colab": {
          "base_uri": "https://localhost:8080/",
          "height": 0
        },
        "id": "hm8vblNpaBrr",
        "outputId": "2a6ca28f-938b-4f66-ac86-34ca007e3657"
      },
      "execution_count": 547,
      "outputs": [
        {
          "output_type": "execute_result",
          "data": {
            "text/plain": [
              "2021    507\n",
              "2022    116\n",
              "Name: year_joined, dtype: int64"
            ]
          },
          "metadata": {},
          "execution_count": 547
        }
      ]
    },
    {
      "cell_type": "code",
      "source": [
        "a= a[[\"Company\", \"Valuation\",'Country/Region']]"
      ],
      "metadata": {
        "id": "jmP9bbPUKv-q"
      },
      "execution_count": 556,
      "outputs": []
    },
    {
      "cell_type": "code",
      "source": [
        "a.head()"
      ],
      "metadata": {
        "colab": {
          "base_uri": "https://localhost:8080/",
          "height": 206
        },
        "id": "-_F0_x_5Ya_s",
        "outputId": "1960faab-aa55-4932-827a-e3f1b7a8bff2"
      },
      "execution_count": 557,
      "outputs": [
        {
          "output_type": "execute_result",
          "data": {
            "text/plain": [
              "           Company  Valuation  Country/Region\n",
              "16     J&T Express         20       Indonesia\n",
              "18            Miro         18   United States\n",
              "24  Blockchain.com         14  United Kingdom\n",
              "27         OpenSea         13   United States\n",
              "34           Getir         12          Turkey"
            ],
            "text/html": [
              "\n",
              "  <div id=\"df-be58a99f-b08c-4dad-8dd7-6c358898bfa2\">\n",
              "    <div class=\"colab-df-container\">\n",
              "      <div>\n",
              "<style scoped>\n",
              "    .dataframe tbody tr th:only-of-type {\n",
              "        vertical-align: middle;\n",
              "    }\n",
              "\n",
              "    .dataframe tbody tr th {\n",
              "        vertical-align: top;\n",
              "    }\n",
              "\n",
              "    .dataframe thead th {\n",
              "        text-align: right;\n",
              "    }\n",
              "</style>\n",
              "<table border=\"1\" class=\"dataframe\">\n",
              "  <thead>\n",
              "    <tr style=\"text-align: right;\">\n",
              "      <th></th>\n",
              "      <th>Company</th>\n",
              "      <th>Valuation</th>\n",
              "      <th>Country/Region</th>\n",
              "    </tr>\n",
              "  </thead>\n",
              "  <tbody>\n",
              "    <tr>\n",
              "      <th>16</th>\n",
              "      <td>J&amp;T Express</td>\n",
              "      <td>20</td>\n",
              "      <td>Indonesia</td>\n",
              "    </tr>\n",
              "    <tr>\n",
              "      <th>18</th>\n",
              "      <td>Miro</td>\n",
              "      <td>18</td>\n",
              "      <td>United States</td>\n",
              "    </tr>\n",
              "    <tr>\n",
              "      <th>24</th>\n",
              "      <td>Blockchain.com</td>\n",
              "      <td>14</td>\n",
              "      <td>United Kingdom</td>\n",
              "    </tr>\n",
              "    <tr>\n",
              "      <th>27</th>\n",
              "      <td>OpenSea</td>\n",
              "      <td>13</td>\n",
              "      <td>United States</td>\n",
              "    </tr>\n",
              "    <tr>\n",
              "      <th>34</th>\n",
              "      <td>Getir</td>\n",
              "      <td>12</td>\n",
              "      <td>Turkey</td>\n",
              "    </tr>\n",
              "  </tbody>\n",
              "</table>\n",
              "</div>\n",
              "      <button class=\"colab-df-convert\" onclick=\"convertToInteractive('df-be58a99f-b08c-4dad-8dd7-6c358898bfa2')\"\n",
              "              title=\"Convert this dataframe to an interactive table.\"\n",
              "              style=\"display:none;\">\n",
              "        \n",
              "  <svg xmlns=\"http://www.w3.org/2000/svg\" height=\"24px\"viewBox=\"0 0 24 24\"\n",
              "       width=\"24px\">\n",
              "    <path d=\"M0 0h24v24H0V0z\" fill=\"none\"/>\n",
              "    <path d=\"M18.56 5.44l.94 2.06.94-2.06 2.06-.94-2.06-.94-.94-2.06-.94 2.06-2.06.94zm-11 1L8.5 8.5l.94-2.06 2.06-.94-2.06-.94L8.5 2.5l-.94 2.06-2.06.94zm10 10l.94 2.06.94-2.06 2.06-.94-2.06-.94-.94-2.06-.94 2.06-2.06.94z\"/><path d=\"M17.41 7.96l-1.37-1.37c-.4-.4-.92-.59-1.43-.59-.52 0-1.04.2-1.43.59L10.3 9.45l-7.72 7.72c-.78.78-.78 2.05 0 2.83L4 21.41c.39.39.9.59 1.41.59.51 0 1.02-.2 1.41-.59l7.78-7.78 2.81-2.81c.8-.78.8-2.07 0-2.86zM5.41 20L4 18.59l7.72-7.72 1.47 1.35L5.41 20z\"/>\n",
              "  </svg>\n",
              "      </button>\n",
              "      \n",
              "  <style>\n",
              "    .colab-df-container {\n",
              "      display:flex;\n",
              "      flex-wrap:wrap;\n",
              "      gap: 12px;\n",
              "    }\n",
              "\n",
              "    .colab-df-convert {\n",
              "      background-color: #E8F0FE;\n",
              "      border: none;\n",
              "      border-radius: 50%;\n",
              "      cursor: pointer;\n",
              "      display: none;\n",
              "      fill: #1967D2;\n",
              "      height: 32px;\n",
              "      padding: 0 0 0 0;\n",
              "      width: 32px;\n",
              "    }\n",
              "\n",
              "    .colab-df-convert:hover {\n",
              "      background-color: #E2EBFA;\n",
              "      box-shadow: 0px 1px 2px rgba(60, 64, 67, 0.3), 0px 1px 3px 1px rgba(60, 64, 67, 0.15);\n",
              "      fill: #174EA6;\n",
              "    }\n",
              "\n",
              "    [theme=dark] .colab-df-convert {\n",
              "      background-color: #3B4455;\n",
              "      fill: #D2E3FC;\n",
              "    }\n",
              "\n",
              "    [theme=dark] .colab-df-convert:hover {\n",
              "      background-color: #434B5C;\n",
              "      box-shadow: 0px 1px 3px 1px rgba(0, 0, 0, 0.15);\n",
              "      filter: drop-shadow(0px 1px 2px rgba(0, 0, 0, 0.3));\n",
              "      fill: #FFFFFF;\n",
              "    }\n",
              "  </style>\n",
              "\n",
              "      <script>\n",
              "        const buttonEl =\n",
              "          document.querySelector('#df-be58a99f-b08c-4dad-8dd7-6c358898bfa2 button.colab-df-convert');\n",
              "        buttonEl.style.display =\n",
              "          google.colab.kernel.accessAllowed ? 'block' : 'none';\n",
              "\n",
              "        async function convertToInteractive(key) {\n",
              "          const element = document.querySelector('#df-be58a99f-b08c-4dad-8dd7-6c358898bfa2');\n",
              "          const dataTable =\n",
              "            await google.colab.kernel.invokeFunction('convertToInteractive',\n",
              "                                                     [key], {});\n",
              "          if (!dataTable) return;\n",
              "\n",
              "          const docLinkHtml = 'Like what you see? Visit the ' +\n",
              "            '<a target=\"_blank\" href=https://colab.research.google.com/notebooks/data_table.ipynb>data table notebook</a>'\n",
              "            + ' to learn more about interactive tables.';\n",
              "          element.innerHTML = '';\n",
              "          dataTable['output_type'] = 'display_data';\n",
              "          await google.colab.output.renderOutput(dataTable, element);\n",
              "          const docLink = document.createElement('div');\n",
              "          docLink.innerHTML = docLinkHtml;\n",
              "          element.appendChild(docLink);\n",
              "        }\n",
              "      </script>\n",
              "    </div>\n",
              "  </div>\n",
              "  "
            ]
          },
          "metadata": {},
          "execution_count": 557
        }
      ]
    },
    {
      "cell_type": "code",
      "source": [
        "glopal_val=a.groupby('Country/Region',as_index=False).sum('Valuation')"
      ],
      "metadata": {
        "id": "P2R1_WONaRaB"
      },
      "execution_count": 558,
      "outputs": []
    },
    {
      "cell_type": "code",
      "source": [
        "\n",
        "px.scatter_geo(glopal_val, locations='Country/Region', size='Valuation', locationmode='country names', color='Country/Region')\n"
      ],
      "metadata": {
        "colab": {
          "base_uri": "https://localhost:8080/",
          "height": 542
        },
        "id": "xOQu90HjdXW1",
        "outputId": "6cee3a6a-e492-42d4-d7b1-517e9d77f7bf"
      },
      "execution_count": 561,
      "outputs": [
        {
          "output_type": "display_data",
          "data": {
            "text/html": [
              "<html>\n",
              "<head><meta charset=\"utf-8\" /></head>\n",
              "<body>\n",
              "    <div>            <script src=\"https://cdnjs.cloudflare.com/ajax/libs/mathjax/2.7.5/MathJax.js?config=TeX-AMS-MML_SVG\"></script><script type=\"text/javascript\">if (window.MathJax && window.MathJax.Hub && window.MathJax.Hub.Config) {window.MathJax.Hub.Config({SVG: {font: \"STIX-Web\"}});}</script>                <script type=\"text/javascript\">window.PlotlyConfig = {MathJaxConfig: 'local'};</script>\n",
              "        <script src=\"https://cdn.plot.ly/plotly-2.18.2.min.js\"></script>                <div id=\"e625070d-ae69-4a5f-9708-f6cdbe492fec\" class=\"plotly-graph-div\" style=\"height:525px; width:100%;\"></div>            <script type=\"text/javascript\">                                    window.PLOTLYENV=window.PLOTLYENV || {};                                    if (document.getElementById(\"e625070d-ae69-4a5f-9708-f6cdbe492fec\")) {                    Plotly.newPlot(                        \"e625070d-ae69-4a5f-9708-f6cdbe492fec\",                        [{\"geo\":\"geo\",\"hovertemplate\":\"Country/Region=%{location}<br>Valuation=%{marker.size}<extra></extra>\",\"legendgroup\":\"Argentina\",\"locationmode\":\"country names\",\"locations\":[\"Argentina\"],\"marker\":{\"color\":\"#636efa\",\"size\":[2],\"sizemode\":\"area\",\"sizeref\":2.0125,\"symbol\":\"circle\"},\"mode\":\"markers\",\"name\":\"Argentina\",\"showlegend\":true,\"type\":\"scattergeo\"},{\"geo\":\"geo\",\"hovertemplate\":\"Country/Region=%{location}<br>Valuation=%{marker.size}<extra></extra>\",\"legendgroup\":\"Australia\",\"locationmode\":\"country names\",\"locations\":[\"Australia\"],\"marker\":{\"color\":\"#EF553B\",\"size\":[10],\"sizemode\":\"area\",\"sizeref\":2.0125,\"symbol\":\"circle\"},\"mode\":\"markers\",\"name\":\"Australia\",\"showlegend\":true,\"type\":\"scattergeo\"},{\"geo\":\"geo\",\"hovertemplate\":\"Country/Region=%{location}<br>Valuation=%{marker.size}<extra></extra>\",\"legendgroup\":\"Austria\",\"locationmode\":\"country names\",\"locations\":[\"Austria\"],\"marker\":{\"color\":\"#00cc96\",\"size\":[7],\"sizemode\":\"area\",\"sizeref\":2.0125,\"symbol\":\"circle\"},\"mode\":\"markers\",\"name\":\"Austria\",\"showlegend\":true,\"type\":\"scattergeo\"},{\"geo\":\"geo\",\"hovertemplate\":\"Country/Region=%{location}<br>Valuation=%{marker.size}<extra></extra>\",\"legendgroup\":\"Belgium\",\"locationmode\":\"country names\",\"locations\":[\"Belgium\"],\"marker\":{\"color\":\"#ab63fa\",\"size\":[3],\"sizemode\":\"area\",\"sizeref\":2.0125,\"symbol\":\"circle\"},\"mode\":\"markers\",\"name\":\"Belgium\",\"showlegend\":true,\"type\":\"scattergeo\"},{\"geo\":\"geo\",\"hovertemplate\":\"Country/Region=%{location}<br>Valuation=%{marker.size}<extra></extra>\",\"legendgroup\":\"Brazil\",\"locationmode\":\"country names\",\"locations\":[\"Brazil\"],\"marker\":{\"color\":\"#FFA15A\",\"size\":[11],\"sizemode\":\"area\",\"sizeref\":2.0125,\"symbol\":\"circle\"},\"mode\":\"markers\",\"name\":\"Brazil\",\"showlegend\":true,\"type\":\"scattergeo\"},{\"geo\":\"geo\",\"hovertemplate\":\"Country/Region=%{location}<br>Valuation=%{marker.size}<extra></extra>\",\"legendgroup\":\"Canada\",\"locationmode\":\"country names\",\"locations\":[\"Canada\"],\"marker\":{\"color\":\"#19d3f3\",\"size\":[46],\"sizemode\":\"area\",\"sizeref\":2.0125,\"symbol\":\"circle\"},\"mode\":\"markers\",\"name\":\"Canada\",\"showlegend\":true,\"type\":\"scattergeo\"},{\"geo\":\"geo\",\"hovertemplate\":\"Country/Region=%{location}<br>Valuation=%{marker.size}<extra></extra>\",\"legendgroup\":\"Chile\",\"locationmode\":\"country names\",\"locations\":[\"Chile\"],\"marker\":{\"color\":\"#FF6692\",\"size\":[3],\"sizemode\":\"area\",\"sizeref\":2.0125,\"symbol\":\"circle\"},\"mode\":\"markers\",\"name\":\"Chile\",\"showlegend\":true,\"type\":\"scattergeo\"},{\"geo\":\"geo\",\"hovertemplate\":\"Country/Region=%{location}<br>Valuation=%{marker.size}<extra></extra>\",\"legendgroup\":\"China\",\"locationmode\":\"country names\",\"locations\":[\"China\"],\"marker\":{\"color\":\"#B6E880\",\"size\":[85],\"sizemode\":\"area\",\"sizeref\":2.0125,\"symbol\":\"circle\"},\"mode\":\"markers\",\"name\":\"China\",\"showlegend\":true,\"type\":\"scattergeo\"},{\"geo\":\"geo\",\"hovertemplate\":\"Country/Region=%{location}<br>Valuation=%{marker.size}<extra></extra>\",\"legendgroup\":\"Czech Republic\",\"locationmode\":\"country names\",\"locations\":[\"Czech Republic\"],\"marker\":{\"color\":\"#FF97FF\",\"size\":[1],\"sizemode\":\"area\",\"sizeref\":2.0125,\"symbol\":\"circle\"},\"mode\":\"markers\",\"name\":\"Czech Republic\",\"showlegend\":true,\"type\":\"scattergeo\"},{\"geo\":\"geo\",\"hovertemplate\":\"Country/Region=%{location}<br>Valuation=%{marker.size}<extra></extra>\",\"legendgroup\":\"Denmark\",\"locationmode\":\"country names\",\"locations\":[\"Denmark\"],\"marker\":{\"color\":\"#FECB52\",\"size\":[7],\"sizemode\":\"area\",\"sizeref\":2.0125,\"symbol\":\"circle\"},\"mode\":\"markers\",\"name\":\"Denmark\",\"showlegend\":true,\"type\":\"scattergeo\"},{\"geo\":\"geo\",\"hovertemplate\":\"Country/Region=%{location}<br>Valuation=%{marker.size}<extra></extra>\",\"legendgroup\":\"Estonia\",\"locationmode\":\"country names\",\"locations\":[\"Estonia\"],\"marker\":{\"color\":\"#636efa\",\"size\":[2],\"sizemode\":\"area\",\"sizeref\":2.0125,\"symbol\":\"circle\"},\"mode\":\"markers\",\"name\":\"Estonia\",\"showlegend\":true,\"type\":\"scattergeo\"},{\"geo\":\"geo\",\"hovertemplate\":\"Country/Region=%{location}<br>Valuation=%{marker.size}<extra></extra>\",\"legendgroup\":\"Finland\",\"locationmode\":\"country names\",\"locations\":[\"Finland\"],\"marker\":{\"color\":\"#EF553B\",\"size\":[11],\"sizemode\":\"area\",\"sizeref\":2.0125,\"symbol\":\"circle\"},\"mode\":\"markers\",\"name\":\"Finland\",\"showlegend\":true,\"type\":\"scattergeo\"},{\"geo\":\"geo\",\"hovertemplate\":\"Country/Region=%{location}<br>Valuation=%{marker.size}<extra></extra>\",\"legendgroup\":\"France\",\"locationmode\":\"country names\",\"locations\":[\"France\"],\"marker\":{\"color\":\"#00cc96\",\"size\":[36],\"sizemode\":\"area\",\"sizeref\":2.0125,\"symbol\":\"circle\"},\"mode\":\"markers\",\"name\":\"France\",\"showlegend\":true,\"type\":\"scattergeo\"},{\"geo\":\"geo\",\"hovertemplate\":\"Country/Region=%{location}<br>Valuation=%{marker.size}<extra></extra>\",\"legendgroup\":\"Germany\",\"locationmode\":\"country names\",\"locations\":[\"Germany\"],\"marker\":{\"color\":\"#ab63fa\",\"size\":[38],\"sizemode\":\"area\",\"sizeref\":2.0125,\"symbol\":\"circle\"},\"mode\":\"markers\",\"name\":\"Germany\",\"showlegend\":true,\"type\":\"scattergeo\"},{\"geo\":\"geo\",\"hovertemplate\":\"Country/Region=%{location}<br>Valuation=%{marker.size}<extra></extra>\",\"legendgroup\":\"India\",\"locationmode\":\"country names\",\"locations\":[\"India\"],\"marker\":{\"color\":\"#FFA15A\",\"size\":[84],\"sizemode\":\"area\",\"sizeref\":2.0125,\"symbol\":\"circle\"},\"mode\":\"markers\",\"name\":\"India\",\"showlegend\":true,\"type\":\"scattergeo\"},{\"geo\":\"geo\",\"hovertemplate\":\"Country/Region=%{location}<br>Valuation=%{marker.size}<extra></extra>\",\"legendgroup\":\"Indonesia\",\"locationmode\":\"country names\",\"locations\":[\"Indonesia\"],\"marker\":{\"color\":\"#19d3f3\",\"size\":[25],\"sizemode\":\"area\",\"sizeref\":2.0125,\"symbol\":\"circle\"},\"mode\":\"markers\",\"name\":\"Indonesia\",\"showlegend\":true,\"type\":\"scattergeo\"},{\"geo\":\"geo\",\"hovertemplate\":\"Country/Region=%{location}<br>Valuation=%{marker.size}<extra></extra>\",\"legendgroup\":\"Ireland\",\"locationmode\":\"country names\",\"locations\":[\"Ireland\"],\"marker\":{\"color\":\"#FF6692\",\"size\":[8],\"sizemode\":\"area\",\"sizeref\":2.0125,\"symbol\":\"circle\"},\"mode\":\"markers\",\"name\":\"Ireland\",\"showlegend\":true,\"type\":\"scattergeo\"},{\"geo\":\"geo\",\"hovertemplate\":\"Country/Region=%{location}<br>Valuation=%{marker.size}<extra></extra>\",\"legendgroup\":\"Israel\",\"locationmode\":\"country names\",\"locations\":[\"Israel\"],\"marker\":{\"color\":\"#B6E880\",\"size\":[25],\"sizemode\":\"area\",\"sizeref\":2.0125,\"symbol\":\"circle\"},\"mode\":\"markers\",\"name\":\"Israel\",\"showlegend\":true,\"type\":\"scattergeo\"},{\"geo\":\"geo\",\"hovertemplate\":\"Country/Region=%{location}<br>Valuation=%{marker.size}<extra></extra>\",\"legendgroup\":\"Italy\",\"locationmode\":\"country names\",\"locations\":[\"Italy\"],\"marker\":{\"color\":\"#FF97FF\",\"size\":[1],\"sizemode\":\"area\",\"sizeref\":2.0125,\"symbol\":\"circle\"},\"mode\":\"markers\",\"name\":\"Italy\",\"showlegend\":true,\"type\":\"scattergeo\"},{\"geo\":\"geo\",\"hovertemplate\":\"Country/Region=%{location}<br>Valuation=%{marker.size}<extra></extra>\",\"legendgroup\":\"Japan\",\"locationmode\":\"country names\",\"locations\":[\"Japan\"],\"marker\":{\"color\":\"#FECB52\",\"size\":[3],\"sizemode\":\"area\",\"sizeref\":2.0125,\"symbol\":\"circle\"},\"mode\":\"markers\",\"name\":\"Japan\",\"showlegend\":true,\"type\":\"scattergeo\"},{\"geo\":\"geo\",\"hovertemplate\":\"Country/Region=%{location}<br>Valuation=%{marker.size}<extra></extra>\",\"legendgroup\":\"Malaysia\",\"locationmode\":\"country names\",\"locations\":[\"Malaysia\"],\"marker\":{\"color\":\"#636efa\",\"size\":[2],\"sizemode\":\"area\",\"sizeref\":2.0125,\"symbol\":\"circle\"},\"mode\":\"markers\",\"name\":\"Malaysia\",\"showlegend\":true,\"type\":\"scattergeo\"},{\"geo\":\"geo\",\"hovertemplate\":\"Country/Region=%{location}<br>Valuation=%{marker.size}<extra></extra>\",\"legendgroup\":\"Mexico\",\"locationmode\":\"country names\",\"locations\":[\"Mexico\"],\"marker\":{\"color\":\"#EF553B\",\"size\":[7],\"sizemode\":\"area\",\"sizeref\":2.0125,\"symbol\":\"circle\"},\"mode\":\"markers\",\"name\":\"Mexico\",\"showlegend\":true,\"type\":\"scattergeo\"},{\"geo\":\"geo\",\"hovertemplate\":\"Country/Region=%{location}<br>Valuation=%{marker.size}<extra></extra>\",\"legendgroup\":\"Netherlands\",\"locationmode\":\"country names\",\"locations\":[\"Netherlands\"],\"marker\":{\"color\":\"#00cc96\",\"size\":[8],\"sizemode\":\"area\",\"sizeref\":2.0125,\"symbol\":\"circle\"},\"mode\":\"markers\",\"name\":\"Netherlands\",\"showlegend\":true,\"type\":\"scattergeo\"},{\"geo\":\"geo\",\"hovertemplate\":\"Country/Region=%{location}<br>Valuation=%{marker.size}<extra></extra>\",\"legendgroup\":\"Nigeria\",\"locationmode\":\"country names\",\"locations\":[\"Nigeria\"],\"marker\":{\"color\":\"#ab63fa\",\"size\":[2],\"sizemode\":\"area\",\"sizeref\":2.0125,\"symbol\":\"circle\"},\"mode\":\"markers\",\"name\":\"Nigeria\",\"showlegend\":true,\"type\":\"scattergeo\"},{\"geo\":\"geo\",\"hovertemplate\":\"Country/Region=%{location}<br>Valuation=%{marker.size}<extra></extra>\",\"legendgroup\":\"Norway\",\"locationmode\":\"country names\",\"locations\":[\"Norway\"],\"marker\":{\"color\":\"#FFA15A\",\"size\":[5],\"sizemode\":\"area\",\"sizeref\":2.0125,\"symbol\":\"circle\"},\"mode\":\"markers\",\"name\":\"Norway\",\"showlegend\":true,\"type\":\"scattergeo\"},{\"geo\":\"geo\",\"hovertemplate\":\"Country/Region=%{location}<br>Valuation=%{marker.size}<extra></extra>\",\"legendgroup\":\"Philippines\",\"locationmode\":\"country names\",\"locations\":[\"Philippines\"],\"marker\":{\"color\":\"#19d3f3\",\"size\":[2],\"sizemode\":\"area\",\"sizeref\":2.0125,\"symbol\":\"circle\"},\"mode\":\"markers\",\"name\":\"Philippines\",\"showlegend\":true,\"type\":\"scattergeo\"},{\"geo\":\"geo\",\"hovertemplate\":\"Country/Region=%{location}<br>Valuation=%{marker.size}<extra></extra>\",\"legendgroup\":\"Senegal\",\"locationmode\":\"country names\",\"locations\":[\"Senegal\"],\"marker\":{\"color\":\"#FF6692\",\"size\":[2],\"sizemode\":\"area\",\"sizeref\":2.0125,\"symbol\":\"circle\"},\"mode\":\"markers\",\"name\":\"Senegal\",\"showlegend\":true,\"type\":\"scattergeo\"},{\"geo\":\"geo\",\"hovertemplate\":\"Country/Region=%{location}<br>Valuation=%{marker.size}<extra></extra>\",\"legendgroup\":\"South Korea\",\"locationmode\":\"country names\",\"locations\":[\"South Korea\"],\"marker\":{\"color\":\"#B6E880\",\"size\":[13],\"sizemode\":\"area\",\"sizeref\":2.0125,\"symbol\":\"circle\"},\"mode\":\"markers\",\"name\":\"South Korea\",\"showlegend\":true,\"type\":\"scattergeo\"},{\"geo\":\"geo\",\"hovertemplate\":\"Country/Region=%{location}<br>Valuation=%{marker.size}<extra></extra>\",\"legendgroup\":\"Spain\",\"locationmode\":\"country names\",\"locations\":[\"Spain\"],\"marker\":{\"color\":\"#FF97FF\",\"size\":[3],\"sizemode\":\"area\",\"sizeref\":2.0125,\"symbol\":\"circle\"},\"mode\":\"markers\",\"name\":\"Spain\",\"showlegend\":true,\"type\":\"scattergeo\"},{\"geo\":\"geo\",\"hovertemplate\":\"Country/Region=%{location}<br>Valuation=%{marker.size}<extra></extra>\",\"legendgroup\":\"Sweden\",\"locationmode\":\"country names\",\"locations\":[\"Sweden\"],\"marker\":{\"color\":\"#FECB52\",\"size\":[5],\"sizemode\":\"area\",\"sizeref\":2.0125,\"symbol\":\"circle\"},\"mode\":\"markers\",\"name\":\"Sweden\",\"showlegend\":true,\"type\":\"scattergeo\"},{\"geo\":\"geo\",\"hovertemplate\":\"Country/Region=%{location}<br>Valuation=%{marker.size}<extra></extra>\",\"legendgroup\":\"Switzerland\",\"locationmode\":\"country names\",\"locations\":[\"Switzerland\"],\"marker\":{\"color\":\"#636efa\",\"size\":[2],\"sizemode\":\"area\",\"sizeref\":2.0125,\"symbol\":\"circle\"},\"mode\":\"markers\",\"name\":\"Switzerland\",\"showlegend\":true,\"type\":\"scattergeo\"},{\"geo\":\"geo\",\"hovertemplate\":\"Country/Region=%{location}<br>Valuation=%{marker.size}<extra></extra>\",\"legendgroup\":\"Thailand\",\"locationmode\":\"country names\",\"locations\":[\"Thailand\"],\"marker\":{\"color\":\"#EF553B\",\"size\":[3],\"sizemode\":\"area\",\"sizeref\":2.0125,\"symbol\":\"circle\"},\"mode\":\"markers\",\"name\":\"Thailand\",\"showlegend\":true,\"type\":\"scattergeo\"},{\"geo\":\"geo\",\"hovertemplate\":\"Country/Region=%{location}<br>Valuation=%{marker.size}<extra></extra>\",\"legendgroup\":\"Turkey\",\"locationmode\":\"country names\",\"locations\":[\"Turkey\"],\"marker\":{\"color\":\"#00cc96\",\"size\":[16],\"sizemode\":\"area\",\"sizeref\":2.0125,\"symbol\":\"circle\"},\"mode\":\"markers\",\"name\":\"Turkey\",\"showlegend\":true,\"type\":\"scattergeo\"},{\"geo\":\"geo\",\"hovertemplate\":\"Country/Region=%{location}<br>Valuation=%{marker.size}<extra></extra>\",\"legendgroup\":\"United Arab Emirates\",\"locationmode\":\"country names\",\"locations\":[\"United Arab Emirates\"],\"marker\":{\"color\":\"#ab63fa\",\"size\":[1],\"sizemode\":\"area\",\"sizeref\":2.0125,\"symbol\":\"circle\"},\"mode\":\"markers\",\"name\":\"United Arab Emirates\",\"showlegend\":true,\"type\":\"scattergeo\"},{\"geo\":\"geo\",\"hovertemplate\":\"Country/Region=%{location}<br>Valuation=%{marker.size}<extra></extra>\",\"legendgroup\":\"United Kingdom\",\"locationmode\":\"country names\",\"locations\":[\"United Kingdom\"],\"marker\":{\"color\":\"#FFA15A\",\"size\":[50],\"sizemode\":\"area\",\"sizeref\":2.0125,\"symbol\":\"circle\"},\"mode\":\"markers\",\"name\":\"United Kingdom\",\"showlegend\":true,\"type\":\"scattergeo\"},{\"geo\":\"geo\",\"hovertemplate\":\"Country/Region=%{location}<br>Valuation=%{marker.size}<extra></extra>\",\"legendgroup\":\"United States\",\"locationmode\":\"country names\",\"locations\":[\"United States\"],\"marker\":{\"color\":\"#19d3f3\",\"size\":[805],\"sizemode\":\"area\",\"sizeref\":2.0125,\"symbol\":\"circle\"},\"mode\":\"markers\",\"name\":\"United States\",\"showlegend\":true,\"type\":\"scattergeo\"},{\"geo\":\"geo\",\"hovertemplate\":\"Country/Region=%{location}<br>Valuation=%{marker.size}<extra></extra>\",\"legendgroup\":\"Vietnam\",\"locationmode\":\"country names\",\"locations\":[\"Vietnam\"],\"marker\":{\"color\":\"#FF6692\",\"size\":[5],\"sizemode\":\"area\",\"sizeref\":2.0125,\"symbol\":\"circle\"},\"mode\":\"markers\",\"name\":\"Vietnam\",\"showlegend\":true,\"type\":\"scattergeo\"}],                        {\"template\":{\"data\":{\"histogram2dcontour\":[{\"type\":\"histogram2dcontour\",\"colorbar\":{\"outlinewidth\":0,\"ticks\":\"\"},\"colorscale\":[[0.0,\"#0d0887\"],[0.1111111111111111,\"#46039f\"],[0.2222222222222222,\"#7201a8\"],[0.3333333333333333,\"#9c179e\"],[0.4444444444444444,\"#bd3786\"],[0.5555555555555556,\"#d8576b\"],[0.6666666666666666,\"#ed7953\"],[0.7777777777777778,\"#fb9f3a\"],[0.8888888888888888,\"#fdca26\"],[1.0,\"#f0f921\"]]}],\"choropleth\":[{\"type\":\"choropleth\",\"colorbar\":{\"outlinewidth\":0,\"ticks\":\"\"}}],\"histogram2d\":[{\"type\":\"histogram2d\",\"colorbar\":{\"outlinewidth\":0,\"ticks\":\"\"},\"colorscale\":[[0.0,\"#0d0887\"],[0.1111111111111111,\"#46039f\"],[0.2222222222222222,\"#7201a8\"],[0.3333333333333333,\"#9c179e\"],[0.4444444444444444,\"#bd3786\"],[0.5555555555555556,\"#d8576b\"],[0.6666666666666666,\"#ed7953\"],[0.7777777777777778,\"#fb9f3a\"],[0.8888888888888888,\"#fdca26\"],[1.0,\"#f0f921\"]]}],\"heatmap\":[{\"type\":\"heatmap\",\"colorbar\":{\"outlinewidth\":0,\"ticks\":\"\"},\"colorscale\":[[0.0,\"#0d0887\"],[0.1111111111111111,\"#46039f\"],[0.2222222222222222,\"#7201a8\"],[0.3333333333333333,\"#9c179e\"],[0.4444444444444444,\"#bd3786\"],[0.5555555555555556,\"#d8576b\"],[0.6666666666666666,\"#ed7953\"],[0.7777777777777778,\"#fb9f3a\"],[0.8888888888888888,\"#fdca26\"],[1.0,\"#f0f921\"]]}],\"heatmapgl\":[{\"type\":\"heatmapgl\",\"colorbar\":{\"outlinewidth\":0,\"ticks\":\"\"},\"colorscale\":[[0.0,\"#0d0887\"],[0.1111111111111111,\"#46039f\"],[0.2222222222222222,\"#7201a8\"],[0.3333333333333333,\"#9c179e\"],[0.4444444444444444,\"#bd3786\"],[0.5555555555555556,\"#d8576b\"],[0.6666666666666666,\"#ed7953\"],[0.7777777777777778,\"#fb9f3a\"],[0.8888888888888888,\"#fdca26\"],[1.0,\"#f0f921\"]]}],\"contourcarpet\":[{\"type\":\"contourcarpet\",\"colorbar\":{\"outlinewidth\":0,\"ticks\":\"\"}}],\"contour\":[{\"type\":\"contour\",\"colorbar\":{\"outlinewidth\":0,\"ticks\":\"\"},\"colorscale\":[[0.0,\"#0d0887\"],[0.1111111111111111,\"#46039f\"],[0.2222222222222222,\"#7201a8\"],[0.3333333333333333,\"#9c179e\"],[0.4444444444444444,\"#bd3786\"],[0.5555555555555556,\"#d8576b\"],[0.6666666666666666,\"#ed7953\"],[0.7777777777777778,\"#fb9f3a\"],[0.8888888888888888,\"#fdca26\"],[1.0,\"#f0f921\"]]}],\"surface\":[{\"type\":\"surface\",\"colorbar\":{\"outlinewidth\":0,\"ticks\":\"\"},\"colorscale\":[[0.0,\"#0d0887\"],[0.1111111111111111,\"#46039f\"],[0.2222222222222222,\"#7201a8\"],[0.3333333333333333,\"#9c179e\"],[0.4444444444444444,\"#bd3786\"],[0.5555555555555556,\"#d8576b\"],[0.6666666666666666,\"#ed7953\"],[0.7777777777777778,\"#fb9f3a\"],[0.8888888888888888,\"#fdca26\"],[1.0,\"#f0f921\"]]}],\"mesh3d\":[{\"type\":\"mesh3d\",\"colorbar\":{\"outlinewidth\":0,\"ticks\":\"\"}}],\"scatter\":[{\"fillpattern\":{\"fillmode\":\"overlay\",\"size\":10,\"solidity\":0.2},\"type\":\"scatter\"}],\"parcoords\":[{\"type\":\"parcoords\",\"line\":{\"colorbar\":{\"outlinewidth\":0,\"ticks\":\"\"}}}],\"scatterpolargl\":[{\"type\":\"scatterpolargl\",\"marker\":{\"colorbar\":{\"outlinewidth\":0,\"ticks\":\"\"}}}],\"bar\":[{\"error_x\":{\"color\":\"#2a3f5f\"},\"error_y\":{\"color\":\"#2a3f5f\"},\"marker\":{\"line\":{\"color\":\"#E5ECF6\",\"width\":0.5},\"pattern\":{\"fillmode\":\"overlay\",\"size\":10,\"solidity\":0.2}},\"type\":\"bar\"}],\"scattergeo\":[{\"type\":\"scattergeo\",\"marker\":{\"colorbar\":{\"outlinewidth\":0,\"ticks\":\"\"}}}],\"scatterpolar\":[{\"type\":\"scatterpolar\",\"marker\":{\"colorbar\":{\"outlinewidth\":0,\"ticks\":\"\"}}}],\"histogram\":[{\"marker\":{\"pattern\":{\"fillmode\":\"overlay\",\"size\":10,\"solidity\":0.2}},\"type\":\"histogram\"}],\"scattergl\":[{\"type\":\"scattergl\",\"marker\":{\"colorbar\":{\"outlinewidth\":0,\"ticks\":\"\"}}}],\"scatter3d\":[{\"type\":\"scatter3d\",\"line\":{\"colorbar\":{\"outlinewidth\":0,\"ticks\":\"\"}},\"marker\":{\"colorbar\":{\"outlinewidth\":0,\"ticks\":\"\"}}}],\"scattermapbox\":[{\"type\":\"scattermapbox\",\"marker\":{\"colorbar\":{\"outlinewidth\":0,\"ticks\":\"\"}}}],\"scatterternary\":[{\"type\":\"scatterternary\",\"marker\":{\"colorbar\":{\"outlinewidth\":0,\"ticks\":\"\"}}}],\"scattercarpet\":[{\"type\":\"scattercarpet\",\"marker\":{\"colorbar\":{\"outlinewidth\":0,\"ticks\":\"\"}}}],\"carpet\":[{\"aaxis\":{\"endlinecolor\":\"#2a3f5f\",\"gridcolor\":\"white\",\"linecolor\":\"white\",\"minorgridcolor\":\"white\",\"startlinecolor\":\"#2a3f5f\"},\"baxis\":{\"endlinecolor\":\"#2a3f5f\",\"gridcolor\":\"white\",\"linecolor\":\"white\",\"minorgridcolor\":\"white\",\"startlinecolor\":\"#2a3f5f\"},\"type\":\"carpet\"}],\"table\":[{\"cells\":{\"fill\":{\"color\":\"#EBF0F8\"},\"line\":{\"color\":\"white\"}},\"header\":{\"fill\":{\"color\":\"#C8D4E3\"},\"line\":{\"color\":\"white\"}},\"type\":\"table\"}],\"barpolar\":[{\"marker\":{\"line\":{\"color\":\"#E5ECF6\",\"width\":0.5},\"pattern\":{\"fillmode\":\"overlay\",\"size\":10,\"solidity\":0.2}},\"type\":\"barpolar\"}],\"pie\":[{\"automargin\":true,\"type\":\"pie\"}]},\"layout\":{\"autotypenumbers\":\"strict\",\"colorway\":[\"#636efa\",\"#EF553B\",\"#00cc96\",\"#ab63fa\",\"#FFA15A\",\"#19d3f3\",\"#FF6692\",\"#B6E880\",\"#FF97FF\",\"#FECB52\"],\"font\":{\"color\":\"#2a3f5f\"},\"hovermode\":\"closest\",\"hoverlabel\":{\"align\":\"left\"},\"paper_bgcolor\":\"white\",\"plot_bgcolor\":\"#E5ECF6\",\"polar\":{\"bgcolor\":\"#E5ECF6\",\"angularaxis\":{\"gridcolor\":\"white\",\"linecolor\":\"white\",\"ticks\":\"\"},\"radialaxis\":{\"gridcolor\":\"white\",\"linecolor\":\"white\",\"ticks\":\"\"}},\"ternary\":{\"bgcolor\":\"#E5ECF6\",\"aaxis\":{\"gridcolor\":\"white\",\"linecolor\":\"white\",\"ticks\":\"\"},\"baxis\":{\"gridcolor\":\"white\",\"linecolor\":\"white\",\"ticks\":\"\"},\"caxis\":{\"gridcolor\":\"white\",\"linecolor\":\"white\",\"ticks\":\"\"}},\"coloraxis\":{\"colorbar\":{\"outlinewidth\":0,\"ticks\":\"\"}},\"colorscale\":{\"sequential\":[[0.0,\"#0d0887\"],[0.1111111111111111,\"#46039f\"],[0.2222222222222222,\"#7201a8\"],[0.3333333333333333,\"#9c179e\"],[0.4444444444444444,\"#bd3786\"],[0.5555555555555556,\"#d8576b\"],[0.6666666666666666,\"#ed7953\"],[0.7777777777777778,\"#fb9f3a\"],[0.8888888888888888,\"#fdca26\"],[1.0,\"#f0f921\"]],\"sequentialminus\":[[0.0,\"#0d0887\"],[0.1111111111111111,\"#46039f\"],[0.2222222222222222,\"#7201a8\"],[0.3333333333333333,\"#9c179e\"],[0.4444444444444444,\"#bd3786\"],[0.5555555555555556,\"#d8576b\"],[0.6666666666666666,\"#ed7953\"],[0.7777777777777778,\"#fb9f3a\"],[0.8888888888888888,\"#fdca26\"],[1.0,\"#f0f921\"]],\"diverging\":[[0,\"#8e0152\"],[0.1,\"#c51b7d\"],[0.2,\"#de77ae\"],[0.3,\"#f1b6da\"],[0.4,\"#fde0ef\"],[0.5,\"#f7f7f7\"],[0.6,\"#e6f5d0\"],[0.7,\"#b8e186\"],[0.8,\"#7fbc41\"],[0.9,\"#4d9221\"],[1,\"#276419\"]]},\"xaxis\":{\"gridcolor\":\"white\",\"linecolor\":\"white\",\"ticks\":\"\",\"title\":{\"standoff\":15},\"zerolinecolor\":\"white\",\"automargin\":true,\"zerolinewidth\":2},\"yaxis\":{\"gridcolor\":\"white\",\"linecolor\":\"white\",\"ticks\":\"\",\"title\":{\"standoff\":15},\"zerolinecolor\":\"white\",\"automargin\":true,\"zerolinewidth\":2},\"scene\":{\"xaxis\":{\"backgroundcolor\":\"#E5ECF6\",\"gridcolor\":\"white\",\"linecolor\":\"white\",\"showbackground\":true,\"ticks\":\"\",\"zerolinecolor\":\"white\",\"gridwidth\":2},\"yaxis\":{\"backgroundcolor\":\"#E5ECF6\",\"gridcolor\":\"white\",\"linecolor\":\"white\",\"showbackground\":true,\"ticks\":\"\",\"zerolinecolor\":\"white\",\"gridwidth\":2},\"zaxis\":{\"backgroundcolor\":\"#E5ECF6\",\"gridcolor\":\"white\",\"linecolor\":\"white\",\"showbackground\":true,\"ticks\":\"\",\"zerolinecolor\":\"white\",\"gridwidth\":2}},\"shapedefaults\":{\"line\":{\"color\":\"#2a3f5f\"}},\"annotationdefaults\":{\"arrowcolor\":\"#2a3f5f\",\"arrowhead\":0,\"arrowwidth\":1},\"geo\":{\"bgcolor\":\"white\",\"landcolor\":\"#E5ECF6\",\"subunitcolor\":\"white\",\"showland\":true,\"showlakes\":true,\"lakecolor\":\"white\"},\"title\":{\"x\":0.05},\"mapbox\":{\"style\":\"light\"}}},\"geo\":{\"domain\":{\"x\":[0.0,1.0],\"y\":[0.0,1.0]},\"center\":{}},\"legend\":{\"title\":{\"text\":\"Country/Region\"},\"tracegroupgap\":0,\"itemsizing\":\"constant\"},\"margin\":{\"t\":60}},                        {\"responsive\": true}                    ).then(function(){\n",
              "                            \n",
              "var gd = document.getElementById('e625070d-ae69-4a5f-9708-f6cdbe492fec');\n",
              "var x = new MutationObserver(function (mutations, observer) {{\n",
              "        var display = window.getComputedStyle(gd).display;\n",
              "        if (!display || display === 'none') {{\n",
              "            console.log([gd, 'removed!']);\n",
              "            Plotly.purge(gd);\n",
              "            observer.disconnect();\n",
              "        }}\n",
              "}});\n",
              "\n",
              "// Listen for the removal of the full notebook cells\n",
              "var notebookContainer = gd.closest('#notebook-container');\n",
              "if (notebookContainer) {{\n",
              "    x.observe(notebookContainer, {childList: true});\n",
              "}}\n",
              "\n",
              "// Listen for the clearing of the current output cell\n",
              "var outputEl = gd.closest('.output');\n",
              "if (outputEl) {{\n",
              "    x.observe(outputEl, {childList: true});\n",
              "}}\n",
              "\n",
              "                        })                };                            </script>        </div>\n",
              "</body>\n",
              "</html>"
            ]
          },
          "metadata": {}
        }
      ]
    },
    {
      "cell_type": "markdown",
      "source": [
        "- A global valuation map of all countries except United States, China, India, and United Kingdom (a separate map for Europe is also required)\n",
        ""
      ],
      "metadata": {
        "id": "WmmE0szZbXBk"
      }
    },
    {
      "cell_type": "code",
      "source": [
        "df_companies_sum_outliers_removed=df[~df['Country/Region'].isin(\n",
        "    ['China', 'United States','India','United Kingdom'])]"
      ],
      "metadata": {
        "id": "95wrzqh3eqBl"
      },
      "execution_count": 567,
      "outputs": []
    },
    {
      "cell_type": "code",
      "source": [
        "# Plot the sum of valuations per country.\n",
        "\n",
        "### YOUR CODE HERE ###\n",
        "\n",
        "fig = px.scatter_geo(df_companies_sum_outliers_removed,\n",
        "                     locations='Country/Region',\n",
        "                     size='Valuation',\n",
        "                     locationmode='country names',\n",
        "                     color='Country/Region',\n",
        "                     title='Global Unicorn Company Values')\n",
        "\n",
        "# Show the plot.\n",
        "\n",
        "### YOUR CODE HERE ###\n",
        "\n",
        "fig.show()"
      ],
      "metadata": {
        "colab": {
          "base_uri": "https://localhost:8080/",
          "height": 542
        },
        "id": "u8Y5jEcreZIF",
        "outputId": "cf179551-88e4-402e-9c9e-efdee34d3728"
      },
      "execution_count": 568,
      "outputs": [
        {
          "output_type": "display_data",
          "data": {
            "text/html": [
              "<html>\n",
              "<head><meta charset=\"utf-8\" /></head>\n",
              "<body>\n",
              "    <div>            <script src=\"https://cdnjs.cloudflare.com/ajax/libs/mathjax/2.7.5/MathJax.js?config=TeX-AMS-MML_SVG\"></script><script type=\"text/javascript\">if (window.MathJax && window.MathJax.Hub && window.MathJax.Hub.Config) {window.MathJax.Hub.Config({SVG: {font: \"STIX-Web\"}});}</script>                <script type=\"text/javascript\">window.PlotlyConfig = {MathJaxConfig: 'local'};</script>\n",
              "        <script src=\"https://cdn.plot.ly/plotly-2.18.2.min.js\"></script>                <div id=\"e358f435-d4f5-401b-b2fb-109f4527f064\" class=\"plotly-graph-div\" style=\"height:525px; width:100%;\"></div>            <script type=\"text/javascript\">                                    window.PLOTLYENV=window.PLOTLYENV || {};                                    if (document.getElementById(\"e358f435-d4f5-401b-b2fb-109f4527f064\")) {                    Plotly.newPlot(                        \"e358f435-d4f5-401b-b2fb-109f4527f064\",                        [{\"geo\":\"geo\",\"hovertemplate\":\"Country/Region=%{location}<br>Valuation=%{marker.size}<extra></extra>\",\"legendgroup\":\"Sweden\",\"locationmode\":\"country names\",\"locations\":[\"Sweden\",\"Sweden\",\"Sweden\",\"Sweden\",\"Sweden\",\"Sweden\"],\"marker\":{\"color\":\"#636efa\",\"size\":[46,12,2,1,1,1],\"sizemode\":\"area\",\"sizeref\":0.115,\"symbol\":\"circle\"},\"mode\":\"markers\",\"name\":\"Sweden\",\"showlegend\":true,\"type\":\"scattergeo\"},{\"geo\":\"geo\",\"hovertemplate\":\"Country/Region=%{location}<br>Valuation=%{marker.size}<extra></extra>\",\"legendgroup\":\"Australia\",\"locationmode\":\"country names\",\"locations\":[\"Australia\",\"Australia\",\"Australia\",\"Australia\",\"Australia\",\"Australia\",\"Australia\",\"Australia\"],\"marker\":{\"color\":\"#EF553B\",\"size\":[40,6,3,2,2,1,1,1],\"sizemode\":\"area\",\"sizeref\":0.115,\"symbol\":\"circle\"},\"mode\":\"markers\",\"name\":\"Australia\",\"showlegend\":true,\"type\":\"scattergeo\"},{\"geo\":\"geo\",\"hovertemplate\":\"Country/Region=%{location}<br>Valuation=%{marker.size}<extra></extra>\",\"legendgroup\":\"Indonesia\",\"locationmode\":\"country names\",\"locations\":[\"Indonesia\",\"Indonesia\",\"Indonesia\",\"Indonesia\",\"Indonesia\",\"Indonesia\"],\"marker\":{\"color\":\"#00cc96\",\"size\":[20,3,2,1,1,1],\"sizemode\":\"area\",\"sizeref\":0.115,\"symbol\":\"circle\"},\"mode\":\"markers\",\"name\":\"Indonesia\",\"showlegend\":true,\"type\":\"scattergeo\"},{\"geo\":\"geo\",\"hovertemplate\":\"Country/Region=%{location}<br>Valuation=%{marker.size}<extra></extra>\",\"legendgroup\":\"Turkey\",\"locationmode\":\"country names\",\"locations\":[\"Turkey\",\"Turkey\",\"Turkey\"],\"marker\":{\"color\":\"#ab63fa\",\"size\":[12,3,1],\"sizemode\":\"area\",\"sizeref\":0.115,\"symbol\":\"circle\"},\"mode\":\"markers\",\"name\":\"Turkey\",\"showlegend\":true,\"type\":\"scattergeo\"},{\"geo\":\"geo\",\"hovertemplate\":\"Country/Region=%{location}<br>Valuation=%{marker.size}<extra></extra>\",\"legendgroup\":\"Estonia\",\"locationmode\":\"country names\",\"locations\":[\"Estonia\",\"Estonia\"],\"marker\":{\"color\":\"#FFA15A\",\"size\":[11,2],\"sizemode\":\"area\",\"sizeref\":0.115,\"symbol\":\"circle\"},\"mode\":\"markers\",\"name\":\"Estonia\",\"showlegend\":true,\"type\":\"scattergeo\"},{\"geo\":\"geo\",\"hovertemplate\":\"Country/Region=%{location}<br>Valuation=%{marker.size}<extra></extra>\",\"legendgroup\":\"Germany\",\"locationmode\":\"country names\",\"locations\":[\"Germany\",\"Germany\",\"Germany\",\"Germany\",\"Germany\",\"Germany\",\"Germany\",\"Germany\",\"Germany\",\"Germany\",\"Germany\",\"Germany\",\"Germany\",\"Germany\",\"Germany\",\"Germany\",\"Germany\",\"Germany\",\"Germany\",\"Germany\",\"Germany\",\"Germany\",\"Germany\",\"Germany\",\"Germany\",\"Germany\"],\"marker\":{\"color\":\"#19d3f3\",\"size\":[11,9,6,5,4,3,3,3,3,3,2,2,2,2,2,2,1,1,1,1,1,1,1,1,1,1],\"sizemode\":\"area\",\"sizeref\":0.115,\"symbol\":\"circle\"},\"mode\":\"markers\",\"name\":\"Germany\",\"showlegend\":true,\"type\":\"scattergeo\"},{\"geo\":\"geo\",\"hovertemplate\":\"Country/Region=%{location}<br>Valuation=%{marker.size}<extra></extra>\",\"legendgroup\":\"Hong Kong\",\"locationmode\":\"country names\",\"locations\":[\"Hong Kong\",\"Hong Kong\",\"Hong Kong\"],\"marker\":{\"color\":\"#FF6692\",\"size\":[10,2,1],\"sizemode\":\"area\",\"sizeref\":0.115,\"symbol\":\"circle\"},\"mode\":\"markers\",\"name\":\"Hong Kong\",\"showlegend\":true,\"type\":\"scattergeo\"},{\"geo\":\"geo\",\"hovertemplate\":\"Country/Region=%{location}<br>Valuation=%{marker.size}<extra></extra>\",\"legendgroup\":\"South Korea\",\"locationmode\":\"country names\",\"locations\":[\"South Korea\",\"South Korea\",\"South Korea\",\"South Korea\",\"South Korea\",\"South Korea\",\"South Korea\",\"South Korea\",\"South Korea\",\"South Korea\",\"South Korea\",\"South Korea\"],\"marker\":{\"color\":\"#B6E880\",\"size\":[9,9,7,4,3,2,2,1,1,1,1,1],\"sizemode\":\"area\",\"sizeref\":0.115,\"symbol\":\"circle\"},\"mode\":\"markers\",\"name\":\"South Korea\",\"showlegend\":true,\"type\":\"scattergeo\"},{\"geo\":\"geo\",\"hovertemplate\":\"Country/Region=%{location}<br>Valuation=%{marker.size}<extra></extra>\",\"legendgroup\":\"Mexico\",\"locationmode\":\"country names\",\"locations\":[\"Mexico\",\"Mexico\",\"Mexico\",\"Mexico\",\"Mexico\",\"Mexico\"],\"marker\":{\"color\":\"#FF97FF\",\"size\":[9,2,2,1,1,1],\"sizemode\":\"area\",\"sizeref\":0.115,\"symbol\":\"circle\"},\"mode\":\"markers\",\"name\":\"Mexico\",\"showlegend\":true,\"type\":\"scattergeo\"},{\"geo\":\"geo\",\"hovertemplate\":\"Country/Region=%{location}<br>Valuation=%{marker.size}<extra></extra>\",\"legendgroup\":\"Canada\",\"locationmode\":\"country names\",\"locations\":[\"Canada\",\"Canada\",\"Canada\",\"Canada\",\"Canada\",\"Canada\",\"Canada\",\"Canada\",\"Canada\",\"Canada\",\"Canada\",\"Canada\",\"Canada\",\"Canada\",\"Canada\",\"Canada\",\"Canada\",\"Canada\",\"Canada\"],\"marker\":{\"color\":\"#FECB52\",\"size\":[8,7,5,4,4,3,3,2,2,2,1,1,1,1,1,1,1,1,1],\"sizemode\":\"area\",\"sizeref\":0.115,\"symbol\":\"circle\"},\"mode\":\"markers\",\"name\":\"Canada\",\"showlegend\":true,\"type\":\"scattergeo\"},{\"geo\":\"geo\",\"hovertemplate\":\"Country/Region=%{location}<br>Valuation=%{marker.size}<extra></extra>\",\"legendgroup\":\"Netherlands\",\"locationmode\":\"country names\",\"locations\":[\"Netherlands\",\"Netherlands\",\"Netherlands\",\"Netherlands\",\"Netherlands\",\"Netherlands\"],\"marker\":{\"color\":\"#636efa\",\"size\":[6,6,3,2,1,1],\"sizemode\":\"area\",\"sizeref\":0.115,\"symbol\":\"circle\"},\"mode\":\"markers\",\"name\":\"Netherlands\",\"showlegend\":true,\"type\":\"scattergeo\"},{\"geo\":\"geo\",\"hovertemplate\":\"Country/Region=%{location}<br>Valuation=%{marker.size}<extra></extra>\",\"legendgroup\":\"France\",\"locationmode\":\"country names\",\"locations\":[\"France\",\"France\",\"France\",\"France\",\"France\",\"France\",\"France\",\"France\",\"France\",\"France\",\"France\",\"France\",\"France\",\"France\",\"France\",\"France\",\"France\",\"France\",\"France\",\"France\",\"France\",\"France\",\"France\",\"France\"],\"marker\":{\"color\":\"#EF553B\",\"size\":[6,6,5,4,4,3,3,2,2,2,2,2,2,2,1,1,1,1,1,1,1,1,1,1],\"sizemode\":\"area\",\"sizeref\":0.115,\"symbol\":\"circle\"},\"mode\":\"markers\",\"name\":\"France\",\"showlegend\":true,\"type\":\"scattergeo\"},{\"geo\":\"geo\",\"hovertemplate\":\"Country/Region=%{location}<br>Valuation=%{marker.size}<extra></extra>\",\"legendgroup\":\"Finland\",\"locationmode\":\"country names\",\"locations\":[\"Finland\",\"Finland\",\"Finland\",\"Finland\"],\"marker\":{\"color\":\"#00cc96\",\"size\":[6,3,2,1],\"sizemode\":\"area\",\"sizeref\":0.115,\"symbol\":\"circle\"},\"mode\":\"markers\",\"name\":\"Finland\",\"showlegend\":true,\"type\":\"scattergeo\"},{\"geo\":\"geo\",\"hovertemplate\":\"Country/Region=%{location}<br>Valuation=%{marker.size}<extra></extra>\",\"legendgroup\":\"Israel\",\"locationmode\":\"country names\",\"locations\":[\"Israel\",\"Israel\",\"Israel\",\"Israel\",\"Israel\",\"Israel\",\"Israel\",\"Israel\",\"Israel\",\"Israel\",\"Israel\",\"Israel\",\"Israel\",\"Israel\",\"Israel\",\"Israel\",\"Israel\",\"Israel\",\"Israel\",\"Israel\"],\"marker\":{\"color\":\"#ab63fa\",\"size\":[6,5,3,3,2,2,2,2,2,2,1,1,1,1,1,1,1,1,1,1],\"sizemode\":\"area\",\"sizeref\":0.115,\"symbol\":\"circle\"},\"mode\":\"markers\",\"name\":\"Israel\",\"showlegend\":true,\"type\":\"scattergeo\"},{\"geo\":\"geo\",\"hovertemplate\":\"Country/Region=%{location}<br>Valuation=%{marker.size}<extra></extra>\",\"legendgroup\":\"Lithuania\",\"locationmode\":\"country names\",\"locations\":[\"Lithuania\"],\"marker\":{\"color\":\"#FFA15A\",\"size\":[5],\"sizemode\":\"area\",\"sizeref\":0.115,\"symbol\":\"circle\"},\"mode\":\"markers\",\"name\":\"Lithuania\",\"showlegend\":true,\"type\":\"scattergeo\"},{\"geo\":\"geo\",\"hovertemplate\":\"Country/Region=%{location}<br>Valuation=%{marker.size}<extra></extra>\",\"legendgroup\":\"Denmark\",\"locationmode\":\"country names\",\"locations\":[\"Denmark\",\"Denmark\"],\"marker\":{\"color\":\"#19d3f3\",\"size\":[5,2],\"sizemode\":\"area\",\"sizeref\":0.115,\"symbol\":\"circle\"},\"mode\":\"markers\",\"name\":\"Denmark\",\"showlegend\":true,\"type\":\"scattergeo\"},{\"geo\":\"geo\",\"hovertemplate\":\"Country/Region=%{location}<br>Valuation=%{marker.size}<extra></extra>\",\"legendgroup\":\"Belgium\",\"locationmode\":\"country names\",\"locations\":[\"Belgium\",\"Belgium\",\"Belgium\"],\"marker\":{\"color\":\"#FF6692\",\"size\":[5,2,1],\"sizemode\":\"area\",\"sizeref\":0.115,\"symbol\":\"circle\"},\"mode\":\"markers\",\"name\":\"Belgium\",\"showlegend\":true,\"type\":\"scattergeo\"},{\"geo\":\"geo\",\"hovertemplate\":\"Country/Region=%{location}<br>Valuation=%{marker.size}<extra></extra>\",\"legendgroup\":\"Colombia\",\"locationmode\":\"country names\",\"locations\":[\"Colombia\",\"Colombia\"],\"marker\":{\"color\":\"#B6E880\",\"size\":[5,1],\"sizemode\":\"area\",\"sizeref\":0.115,\"symbol\":\"circle\"},\"mode\":\"markers\",\"name\":\"Colombia\",\"showlegend\":true,\"type\":\"scattergeo\"},{\"geo\":\"geo\",\"hovertemplate\":\"Country/Region=%{location}<br>Valuation=%{marker.size}<extra></extra>\",\"legendgroup\":\"Brazil\",\"locationmode\":\"country names\",\"locations\":[\"Brazil\",\"Brazil\",\"Brazil\",\"Brazil\",\"Brazil\",\"Brazil\",\"Brazil\",\"Brazil\",\"Brazil\",\"Brazil\",\"Brazil\",\"Brazil\",\"Brazil\",\"Brazil\",\"Brazil\",\"Brazil\"],\"marker\":{\"color\":\"#FF97FF\",\"size\":[5,5,5,3,3,3,2,2,2,1,1,1,1,1,1,1],\"sizemode\":\"area\",\"sizeref\":0.115,\"symbol\":\"circle\"},\"mode\":\"markers\",\"name\":\"Brazil\",\"showlegend\":true,\"type\":\"scattergeo\"},{\"geo\":\"geo\",\"hovertemplate\":\"Country/Region=%{location}<br>Valuation=%{marker.size}<extra></extra>\",\"legendgroup\":\"Austria\",\"locationmode\":\"country names\",\"locations\":[\"Austria\",\"Austria\"],\"marker\":{\"color\":\"#FECB52\",\"size\":[4,3],\"sizemode\":\"area\",\"sizeref\":0.115,\"symbol\":\"circle\"},\"mode\":\"markers\",\"name\":\"Austria\",\"showlegend\":true,\"type\":\"scattergeo\"},{\"geo\":\"geo\",\"hovertemplate\":\"Country/Region=%{location}<br>Valuation=%{marker.size}<extra></extra>\",\"legendgroup\":\"Ireland\",\"locationmode\":\"country names\",\"locations\":[\"Ireland\",\"Ireland\",\"Ireland\",\"Ireland\",\"Ireland\"],\"marker\":{\"color\":\"#636efa\",\"size\":[4,2,1,1,1],\"sizemode\":\"area\",\"sizeref\":0.115,\"symbol\":\"circle\"},\"mode\":\"markers\",\"name\":\"Ireland\",\"showlegend\":true,\"type\":\"scattergeo\"},{\"geo\":\"geo\",\"hovertemplate\":\"Country/Region=%{location}<br>Valuation=%{marker.size}<extra></extra>\",\"legendgroup\":\"United Arab Emirates\",\"locationmode\":\"country names\",\"locations\":[\"United Arab Emirates\",\"United Arab Emirates\",\"United Arab Emirates\"],\"marker\":{\"color\":\"#EF553B\",\"size\":[3,1,1],\"sizemode\":\"area\",\"sizeref\":0.115,\"symbol\":\"circle\"},\"mode\":\"markers\",\"name\":\"United Arab Emirates\",\"showlegend\":true,\"type\":\"scattergeo\"},{\"geo\":\"geo\",\"hovertemplate\":\"Country/Region=%{location}<br>Valuation=%{marker.size}<extra></extra>\",\"legendgroup\":\"Switzerland\",\"locationmode\":\"country names\",\"locations\":[\"Switzerland\",\"Switzerland\",\"Switzerland\",\"Switzerland\",\"Switzerland\"],\"marker\":{\"color\":\"#00cc96\",\"size\":[3,2,1,1,1],\"sizemode\":\"area\",\"sizeref\":0.115,\"symbol\":\"circle\"},\"mode\":\"markers\",\"name\":\"Switzerland\",\"showlegend\":true,\"type\":\"scattergeo\"},{\"geo\":\"geo\",\"hovertemplate\":\"Country/Region=%{location}<br>Valuation=%{marker.size}<extra></extra>\",\"legendgroup\":\"Vietnam\",\"locationmode\":\"country names\",\"locations\":[\"Vietnam\",\"Vietnam\"],\"marker\":{\"color\":\"#ab63fa\",\"size\":[3,2],\"sizemode\":\"area\",\"sizeref\":0.115,\"symbol\":\"circle\"},\"mode\":\"markers\",\"name\":\"Vietnam\",\"showlegend\":true,\"type\":\"scattergeo\"},{\"geo\":\"geo\",\"hovertemplate\":\"Country/Region=%{location}<br>Valuation=%{marker.size}<extra></extra>\",\"legendgroup\":\"South Africa\",\"locationmode\":\"country names\",\"locations\":[\"South Africa\",\"South Africa\"],\"marker\":{\"color\":\"#FFA15A\",\"size\":[2,1],\"sizemode\":\"area\",\"sizeref\":0.115,\"symbol\":\"circle\"},\"mode\":\"markers\",\"name\":\"South Africa\",\"showlegend\":true,\"type\":\"scattergeo\"},{\"geo\":\"geo\",\"hovertemplate\":\"Country/Region=%{location}<br>Valuation=%{marker.size}<extra></extra>\",\"legendgroup\":\"Thailand\",\"locationmode\":\"country names\",\"locations\":[\"Thailand\",\"Thailand\"],\"marker\":{\"color\":\"#19d3f3\",\"size\":[2,1],\"sizemode\":\"area\",\"sizeref\":0.115,\"symbol\":\"circle\"},\"mode\":\"markers\",\"name\":\"Thailand\",\"showlegend\":true,\"type\":\"scattergeo\"},{\"geo\":\"geo\",\"hovertemplate\":\"Country/Region=%{location}<br>Valuation=%{marker.size}<extra></extra>\",\"legendgroup\":\"Norway\",\"locationmode\":\"country names\",\"locations\":[\"Norway\",\"Norway\",\"Norway\",\"Norway\"],\"marker\":{\"color\":\"#FF6692\",\"size\":[2,1,1,1],\"sizemode\":\"area\",\"sizeref\":0.115,\"symbol\":\"circle\"},\"mode\":\"markers\",\"name\":\"Norway\",\"showlegend\":true,\"type\":\"scattergeo\"},{\"geo\":\"geo\",\"hovertemplate\":\"Country/Region=%{location}<br>Valuation=%{marker.size}<extra></extra>\",\"legendgroup\":\"Chile\",\"locationmode\":\"country names\",\"locations\":[\"Chile\",\"Chile\"],\"marker\":{\"color\":\"#B6E880\",\"size\":[2,1],\"sizemode\":\"area\",\"sizeref\":0.115,\"symbol\":\"circle\"},\"mode\":\"markers\",\"name\":\"Chile\",\"showlegend\":true,\"type\":\"scattergeo\"},{\"geo\":\"geo\",\"hovertemplate\":\"Country/Region=%{location}<br>Valuation=%{marker.size}<extra></extra>\",\"legendgroup\":\"Argentina\",\"locationmode\":\"country names\",\"locations\":[\"Argentina\"],\"marker\":{\"color\":\"#FF97FF\",\"size\":[2],\"sizemode\":\"area\",\"sizeref\":0.115,\"symbol\":\"circle\"},\"mode\":\"markers\",\"name\":\"Argentina\",\"showlegend\":true,\"type\":\"scattergeo\"},{\"geo\":\"geo\",\"hovertemplate\":\"Country/Region=%{location}<br>Valuation=%{marker.size}<extra></extra>\",\"legendgroup\":\"Bermuda\",\"locationmode\":\"country names\",\"locations\":[\"Bermuda\"],\"marker\":{\"color\":\"#FECB52\",\"size\":[2],\"sizemode\":\"area\",\"sizeref\":0.115,\"symbol\":\"circle\"},\"mode\":\"markers\",\"name\":\"Bermuda\",\"showlegend\":true,\"type\":\"scattergeo\"},{\"geo\":\"geo\",\"hovertemplate\":\"Country/Region=%{location}<br>Valuation=%{marker.size}<extra></extra>\",\"legendgroup\":\"Japan\",\"locationmode\":\"country names\",\"locations\":[\"Japan\",\"Japan\",\"Japan\",\"Japan\",\"Japan\"],\"marker\":{\"color\":\"#636efa\",\"size\":[2,2,2,1,1],\"sizemode\":\"area\",\"sizeref\":0.115,\"symbol\":\"circle\"},\"mode\":\"markers\",\"name\":\"Japan\",\"showlegend\":true,\"type\":\"scattergeo\"},{\"geo\":\"geo\",\"hovertemplate\":\"Country/Region=%{location}<br>Valuation=%{marker.size}<extra></extra>\",\"legendgroup\":\"Spain\",\"locationmode\":\"country names\",\"locations\":[\"Spain\",\"Spain\",\"Spain\"],\"marker\":{\"color\":\"#EF553B\",\"size\":[2,1,1],\"sizemode\":\"area\",\"sizeref\":0.115,\"symbol\":\"circle\"},\"mode\":\"markers\",\"name\":\"Spain\",\"showlegend\":true,\"type\":\"scattergeo\"},{\"geo\":\"geo\",\"hovertemplate\":\"Country/Region=%{location}<br>Valuation=%{marker.size}<extra></extra>\",\"legendgroup\":\"Malaysia\",\"locationmode\":\"country names\",\"locations\":[\"Malaysia\"],\"marker\":{\"color\":\"#00cc96\",\"size\":[2],\"sizemode\":\"area\",\"sizeref\":0.115,\"symbol\":\"circle\"},\"mode\":\"markers\",\"name\":\"Malaysia\",\"showlegend\":true,\"type\":\"scattergeo\"},{\"geo\":\"geo\",\"hovertemplate\":\"Country/Region=%{location}<br>Valuation=%{marker.size}<extra></extra>\",\"legendgroup\":\"Senegal\",\"locationmode\":\"country names\",\"locations\":[\"Senegal\"],\"marker\":{\"color\":\"#ab63fa\",\"size\":[2],\"sizemode\":\"area\",\"sizeref\":0.115,\"symbol\":\"circle\"},\"mode\":\"markers\",\"name\":\"Senegal\",\"showlegend\":true,\"type\":\"scattergeo\"},{\"geo\":\"geo\",\"hovertemplate\":\"Country/Region=%{location}<br>Valuation=%{marker.size}<extra></extra>\",\"legendgroup\":\"Philippines\",\"locationmode\":\"country names\",\"locations\":[\"Philippines\",\"Philippines\"],\"marker\":{\"color\":\"#FFA15A\",\"size\":[2,1],\"sizemode\":\"area\",\"sizeref\":0.115,\"symbol\":\"circle\"},\"mode\":\"markers\",\"name\":\"Philippines\",\"showlegend\":true,\"type\":\"scattergeo\"},{\"geo\":\"geo\",\"hovertemplate\":\"Country/Region=%{location}<br>Valuation=%{marker.size}<extra></extra>\",\"legendgroup\":\"Luxembourg\",\"locationmode\":\"country names\",\"locations\":[\"Luxembourg\"],\"marker\":{\"color\":\"#19d3f3\",\"size\":[2],\"sizemode\":\"area\",\"sizeref\":0.115,\"symbol\":\"circle\"},\"mode\":\"markers\",\"name\":\"Luxembourg\",\"showlegend\":true,\"type\":\"scattergeo\"},{\"geo\":\"geo\",\"hovertemplate\":\"Country/Region=%{location}<br>Valuation=%{marker.size}<extra></extra>\",\"legendgroup\":\"Nigeria\",\"locationmode\":\"country names\",\"locations\":[\"Nigeria\"],\"marker\":{\"color\":\"#FF6692\",\"size\":[2],\"sizemode\":\"area\",\"sizeref\":0.115,\"symbol\":\"circle\"},\"mode\":\"markers\",\"name\":\"Nigeria\",\"showlegend\":true,\"type\":\"scattergeo\"},{\"geo\":\"geo\",\"hovertemplate\":\"Country/Region=%{location}<br>Valuation=%{marker.size}<extra></extra>\",\"legendgroup\":\"Czech Republic\",\"locationmode\":\"country names\",\"locations\":[\"Czech Republic\"],\"marker\":{\"color\":\"#B6E880\",\"size\":[1],\"sizemode\":\"area\",\"sizeref\":0.115,\"symbol\":\"circle\"},\"mode\":\"markers\",\"name\":\"Czech Republic\",\"showlegend\":true,\"type\":\"scattergeo\"},{\"geo\":\"geo\",\"hovertemplate\":\"Country/Region=%{location}<br>Valuation=%{marker.size}<extra></extra>\",\"legendgroup\":\"Croatia\",\"locationmode\":\"country names\",\"locations\":[\"Croatia\"],\"marker\":{\"color\":\"#FF97FF\",\"size\":[1],\"sizemode\":\"area\",\"sizeref\":0.115,\"symbol\":\"circle\"},\"mode\":\"markers\",\"name\":\"Croatia\",\"showlegend\":true,\"type\":\"scattergeo\"},{\"geo\":\"geo\",\"hovertemplate\":\"Country/Region=%{location}<br>Valuation=%{marker.size}<extra></extra>\",\"legendgroup\":\"Italy\",\"locationmode\":\"country names\",\"locations\":[\"Italy\"],\"marker\":{\"color\":\"#FECB52\",\"size\":[1],\"sizemode\":\"area\",\"sizeref\":0.115,\"symbol\":\"circle\"},\"mode\":\"markers\",\"name\":\"Italy\",\"showlegend\":true,\"type\":\"scattergeo\"}],                        {\"template\":{\"data\":{\"histogram2dcontour\":[{\"type\":\"histogram2dcontour\",\"colorbar\":{\"outlinewidth\":0,\"ticks\":\"\"},\"colorscale\":[[0.0,\"#0d0887\"],[0.1111111111111111,\"#46039f\"],[0.2222222222222222,\"#7201a8\"],[0.3333333333333333,\"#9c179e\"],[0.4444444444444444,\"#bd3786\"],[0.5555555555555556,\"#d8576b\"],[0.6666666666666666,\"#ed7953\"],[0.7777777777777778,\"#fb9f3a\"],[0.8888888888888888,\"#fdca26\"],[1.0,\"#f0f921\"]]}],\"choropleth\":[{\"type\":\"choropleth\",\"colorbar\":{\"outlinewidth\":0,\"ticks\":\"\"}}],\"histogram2d\":[{\"type\":\"histogram2d\",\"colorbar\":{\"outlinewidth\":0,\"ticks\":\"\"},\"colorscale\":[[0.0,\"#0d0887\"],[0.1111111111111111,\"#46039f\"],[0.2222222222222222,\"#7201a8\"],[0.3333333333333333,\"#9c179e\"],[0.4444444444444444,\"#bd3786\"],[0.5555555555555556,\"#d8576b\"],[0.6666666666666666,\"#ed7953\"],[0.7777777777777778,\"#fb9f3a\"],[0.8888888888888888,\"#fdca26\"],[1.0,\"#f0f921\"]]}],\"heatmap\":[{\"type\":\"heatmap\",\"colorbar\":{\"outlinewidth\":0,\"ticks\":\"\"},\"colorscale\":[[0.0,\"#0d0887\"],[0.1111111111111111,\"#46039f\"],[0.2222222222222222,\"#7201a8\"],[0.3333333333333333,\"#9c179e\"],[0.4444444444444444,\"#bd3786\"],[0.5555555555555556,\"#d8576b\"],[0.6666666666666666,\"#ed7953\"],[0.7777777777777778,\"#fb9f3a\"],[0.8888888888888888,\"#fdca26\"],[1.0,\"#f0f921\"]]}],\"heatmapgl\":[{\"type\":\"heatmapgl\",\"colorbar\":{\"outlinewidth\":0,\"ticks\":\"\"},\"colorscale\":[[0.0,\"#0d0887\"],[0.1111111111111111,\"#46039f\"],[0.2222222222222222,\"#7201a8\"],[0.3333333333333333,\"#9c179e\"],[0.4444444444444444,\"#bd3786\"],[0.5555555555555556,\"#d8576b\"],[0.6666666666666666,\"#ed7953\"],[0.7777777777777778,\"#fb9f3a\"],[0.8888888888888888,\"#fdca26\"],[1.0,\"#f0f921\"]]}],\"contourcarpet\":[{\"type\":\"contourcarpet\",\"colorbar\":{\"outlinewidth\":0,\"ticks\":\"\"}}],\"contour\":[{\"type\":\"contour\",\"colorbar\":{\"outlinewidth\":0,\"ticks\":\"\"},\"colorscale\":[[0.0,\"#0d0887\"],[0.1111111111111111,\"#46039f\"],[0.2222222222222222,\"#7201a8\"],[0.3333333333333333,\"#9c179e\"],[0.4444444444444444,\"#bd3786\"],[0.5555555555555556,\"#d8576b\"],[0.6666666666666666,\"#ed7953\"],[0.7777777777777778,\"#fb9f3a\"],[0.8888888888888888,\"#fdca26\"],[1.0,\"#f0f921\"]]}],\"surface\":[{\"type\":\"surface\",\"colorbar\":{\"outlinewidth\":0,\"ticks\":\"\"},\"colorscale\":[[0.0,\"#0d0887\"],[0.1111111111111111,\"#46039f\"],[0.2222222222222222,\"#7201a8\"],[0.3333333333333333,\"#9c179e\"],[0.4444444444444444,\"#bd3786\"],[0.5555555555555556,\"#d8576b\"],[0.6666666666666666,\"#ed7953\"],[0.7777777777777778,\"#fb9f3a\"],[0.8888888888888888,\"#fdca26\"],[1.0,\"#f0f921\"]]}],\"mesh3d\":[{\"type\":\"mesh3d\",\"colorbar\":{\"outlinewidth\":0,\"ticks\":\"\"}}],\"scatter\":[{\"fillpattern\":{\"fillmode\":\"overlay\",\"size\":10,\"solidity\":0.2},\"type\":\"scatter\"}],\"parcoords\":[{\"type\":\"parcoords\",\"line\":{\"colorbar\":{\"outlinewidth\":0,\"ticks\":\"\"}}}],\"scatterpolargl\":[{\"type\":\"scatterpolargl\",\"marker\":{\"colorbar\":{\"outlinewidth\":0,\"ticks\":\"\"}}}],\"bar\":[{\"error_x\":{\"color\":\"#2a3f5f\"},\"error_y\":{\"color\":\"#2a3f5f\"},\"marker\":{\"line\":{\"color\":\"#E5ECF6\",\"width\":0.5},\"pattern\":{\"fillmode\":\"overlay\",\"size\":10,\"solidity\":0.2}},\"type\":\"bar\"}],\"scattergeo\":[{\"type\":\"scattergeo\",\"marker\":{\"colorbar\":{\"outlinewidth\":0,\"ticks\":\"\"}}}],\"scatterpolar\":[{\"type\":\"scatterpolar\",\"marker\":{\"colorbar\":{\"outlinewidth\":0,\"ticks\":\"\"}}}],\"histogram\":[{\"marker\":{\"pattern\":{\"fillmode\":\"overlay\",\"size\":10,\"solidity\":0.2}},\"type\":\"histogram\"}],\"scattergl\":[{\"type\":\"scattergl\",\"marker\":{\"colorbar\":{\"outlinewidth\":0,\"ticks\":\"\"}}}],\"scatter3d\":[{\"type\":\"scatter3d\",\"line\":{\"colorbar\":{\"outlinewidth\":0,\"ticks\":\"\"}},\"marker\":{\"colorbar\":{\"outlinewidth\":0,\"ticks\":\"\"}}}],\"scattermapbox\":[{\"type\":\"scattermapbox\",\"marker\":{\"colorbar\":{\"outlinewidth\":0,\"ticks\":\"\"}}}],\"scatterternary\":[{\"type\":\"scatterternary\",\"marker\":{\"colorbar\":{\"outlinewidth\":0,\"ticks\":\"\"}}}],\"scattercarpet\":[{\"type\":\"scattercarpet\",\"marker\":{\"colorbar\":{\"outlinewidth\":0,\"ticks\":\"\"}}}],\"carpet\":[{\"aaxis\":{\"endlinecolor\":\"#2a3f5f\",\"gridcolor\":\"white\",\"linecolor\":\"white\",\"minorgridcolor\":\"white\",\"startlinecolor\":\"#2a3f5f\"},\"baxis\":{\"endlinecolor\":\"#2a3f5f\",\"gridcolor\":\"white\",\"linecolor\":\"white\",\"minorgridcolor\":\"white\",\"startlinecolor\":\"#2a3f5f\"},\"type\":\"carpet\"}],\"table\":[{\"cells\":{\"fill\":{\"color\":\"#EBF0F8\"},\"line\":{\"color\":\"white\"}},\"header\":{\"fill\":{\"color\":\"#C8D4E3\"},\"line\":{\"color\":\"white\"}},\"type\":\"table\"}],\"barpolar\":[{\"marker\":{\"line\":{\"color\":\"#E5ECF6\",\"width\":0.5},\"pattern\":{\"fillmode\":\"overlay\",\"size\":10,\"solidity\":0.2}},\"type\":\"barpolar\"}],\"pie\":[{\"automargin\":true,\"type\":\"pie\"}]},\"layout\":{\"autotypenumbers\":\"strict\",\"colorway\":[\"#636efa\",\"#EF553B\",\"#00cc96\",\"#ab63fa\",\"#FFA15A\",\"#19d3f3\",\"#FF6692\",\"#B6E880\",\"#FF97FF\",\"#FECB52\"],\"font\":{\"color\":\"#2a3f5f\"},\"hovermode\":\"closest\",\"hoverlabel\":{\"align\":\"left\"},\"paper_bgcolor\":\"white\",\"plot_bgcolor\":\"#E5ECF6\",\"polar\":{\"bgcolor\":\"#E5ECF6\",\"angularaxis\":{\"gridcolor\":\"white\",\"linecolor\":\"white\",\"ticks\":\"\"},\"radialaxis\":{\"gridcolor\":\"white\",\"linecolor\":\"white\",\"ticks\":\"\"}},\"ternary\":{\"bgcolor\":\"#E5ECF6\",\"aaxis\":{\"gridcolor\":\"white\",\"linecolor\":\"white\",\"ticks\":\"\"},\"baxis\":{\"gridcolor\":\"white\",\"linecolor\":\"white\",\"ticks\":\"\"},\"caxis\":{\"gridcolor\":\"white\",\"linecolor\":\"white\",\"ticks\":\"\"}},\"coloraxis\":{\"colorbar\":{\"outlinewidth\":0,\"ticks\":\"\"}},\"colorscale\":{\"sequential\":[[0.0,\"#0d0887\"],[0.1111111111111111,\"#46039f\"],[0.2222222222222222,\"#7201a8\"],[0.3333333333333333,\"#9c179e\"],[0.4444444444444444,\"#bd3786\"],[0.5555555555555556,\"#d8576b\"],[0.6666666666666666,\"#ed7953\"],[0.7777777777777778,\"#fb9f3a\"],[0.8888888888888888,\"#fdca26\"],[1.0,\"#f0f921\"]],\"sequentialminus\":[[0.0,\"#0d0887\"],[0.1111111111111111,\"#46039f\"],[0.2222222222222222,\"#7201a8\"],[0.3333333333333333,\"#9c179e\"],[0.4444444444444444,\"#bd3786\"],[0.5555555555555556,\"#d8576b\"],[0.6666666666666666,\"#ed7953\"],[0.7777777777777778,\"#fb9f3a\"],[0.8888888888888888,\"#fdca26\"],[1.0,\"#f0f921\"]],\"diverging\":[[0,\"#8e0152\"],[0.1,\"#c51b7d\"],[0.2,\"#de77ae\"],[0.3,\"#f1b6da\"],[0.4,\"#fde0ef\"],[0.5,\"#f7f7f7\"],[0.6,\"#e6f5d0\"],[0.7,\"#b8e186\"],[0.8,\"#7fbc41\"],[0.9,\"#4d9221\"],[1,\"#276419\"]]},\"xaxis\":{\"gridcolor\":\"white\",\"linecolor\":\"white\",\"ticks\":\"\",\"title\":{\"standoff\":15},\"zerolinecolor\":\"white\",\"automargin\":true,\"zerolinewidth\":2},\"yaxis\":{\"gridcolor\":\"white\",\"linecolor\":\"white\",\"ticks\":\"\",\"title\":{\"standoff\":15},\"zerolinecolor\":\"white\",\"automargin\":true,\"zerolinewidth\":2},\"scene\":{\"xaxis\":{\"backgroundcolor\":\"#E5ECF6\",\"gridcolor\":\"white\",\"linecolor\":\"white\",\"showbackground\":true,\"ticks\":\"\",\"zerolinecolor\":\"white\",\"gridwidth\":2},\"yaxis\":{\"backgroundcolor\":\"#E5ECF6\",\"gridcolor\":\"white\",\"linecolor\":\"white\",\"showbackground\":true,\"ticks\":\"\",\"zerolinecolor\":\"white\",\"gridwidth\":2},\"zaxis\":{\"backgroundcolor\":\"#E5ECF6\",\"gridcolor\":\"white\",\"linecolor\":\"white\",\"showbackground\":true,\"ticks\":\"\",\"zerolinecolor\":\"white\",\"gridwidth\":2}},\"shapedefaults\":{\"line\":{\"color\":\"#2a3f5f\"}},\"annotationdefaults\":{\"arrowcolor\":\"#2a3f5f\",\"arrowhead\":0,\"arrowwidth\":1},\"geo\":{\"bgcolor\":\"white\",\"landcolor\":\"#E5ECF6\",\"subunitcolor\":\"white\",\"showland\":true,\"showlakes\":true,\"lakecolor\":\"white\"},\"title\":{\"x\":0.05},\"mapbox\":{\"style\":\"light\"}}},\"geo\":{\"domain\":{\"x\":[0.0,1.0],\"y\":[0.0,1.0]},\"center\":{}},\"legend\":{\"title\":{\"text\":\"Country/Region\"},\"tracegroupgap\":0,\"itemsizing\":\"constant\"},\"title\":{\"text\":\"Global Unicorn Company Values\"}},                        {\"responsive\": true}                    ).then(function(){\n",
              "                            \n",
              "var gd = document.getElementById('e358f435-d4f5-401b-b2fb-109f4527f064');\n",
              "var x = new MutationObserver(function (mutations, observer) {{\n",
              "        var display = window.getComputedStyle(gd).display;\n",
              "        if (!display || display === 'none') {{\n",
              "            console.log([gd, 'removed!']);\n",
              "            Plotly.purge(gd);\n",
              "            observer.disconnect();\n",
              "        }}\n",
              "}});\n",
              "\n",
              "// Listen for the removal of the full notebook cells\n",
              "var notebookContainer = gd.closest('#notebook-container');\n",
              "if (notebookContainer) {{\n",
              "    x.observe(notebookContainer, {childList: true});\n",
              "}}\n",
              "\n",
              "// Listen for the clearing of the current output cell\n",
              "var outputEl = gd.closest('.output');\n",
              "if (outputEl) {{\n",
              "    x.observe(outputEl, {childList: true});\n",
              "}}\n",
              "\n",
              "                        })                };                            </script>        </div>\n",
              "</body>\n",
              "</html>"
            ]
          },
          "metadata": {}
        }
      ]
    },
    {
      "cell_type": "code",
      "source": [
        "# Update the figure layout.\n",
        "\n",
        "### YOUR CODE HERE ###\n",
        "\n",
        "fig.update_layout(\n",
        "    title_text = 'Europe Unicorn Company Values', # Create a Title\n",
        "    geo_scope='europe',  # Plot only the Europe instead of globe\n",
        ")\n",
        "\n",
        "# Show the plot again.\n",
        "\n",
        "### YOUR CODE HERE ###\n",
        "\n",
        "fig.show()"
      ],
      "metadata": {
        "colab": {
          "base_uri": "https://localhost:8080/",
          "height": 542
        },
        "id": "jn7lZ964dkSD",
        "outputId": "bb9c3537-f985-421f-c05b-c7b70e9f6640"
      },
      "execution_count": 569,
      "outputs": [
        {
          "output_type": "display_data",
          "data": {
            "text/html": [
              "<html>\n",
              "<head><meta charset=\"utf-8\" /></head>\n",
              "<body>\n",
              "    <div>            <script src=\"https://cdnjs.cloudflare.com/ajax/libs/mathjax/2.7.5/MathJax.js?config=TeX-AMS-MML_SVG\"></script><script type=\"text/javascript\">if (window.MathJax && window.MathJax.Hub && window.MathJax.Hub.Config) {window.MathJax.Hub.Config({SVG: {font: \"STIX-Web\"}});}</script>                <script type=\"text/javascript\">window.PlotlyConfig = {MathJaxConfig: 'local'};</script>\n",
              "        <script src=\"https://cdn.plot.ly/plotly-2.18.2.min.js\"></script>                <div id=\"cc1d58ac-7160-4c8f-95c6-2f1a670aeb25\" class=\"plotly-graph-div\" style=\"height:525px; width:100%;\"></div>            <script type=\"text/javascript\">                                    window.PLOTLYENV=window.PLOTLYENV || {};                                    if (document.getElementById(\"cc1d58ac-7160-4c8f-95c6-2f1a670aeb25\")) {                    Plotly.newPlot(                        \"cc1d58ac-7160-4c8f-95c6-2f1a670aeb25\",                        [{\"geo\":\"geo\",\"hovertemplate\":\"Country/Region=%{location}<br>Valuation=%{marker.size}<extra></extra>\",\"legendgroup\":\"Sweden\",\"locationmode\":\"country names\",\"locations\":[\"Sweden\",\"Sweden\",\"Sweden\",\"Sweden\",\"Sweden\",\"Sweden\"],\"marker\":{\"color\":\"#636efa\",\"size\":[46,12,2,1,1,1],\"sizemode\":\"area\",\"sizeref\":0.115,\"symbol\":\"circle\"},\"mode\":\"markers\",\"name\":\"Sweden\",\"showlegend\":true,\"type\":\"scattergeo\"},{\"geo\":\"geo\",\"hovertemplate\":\"Country/Region=%{location}<br>Valuation=%{marker.size}<extra></extra>\",\"legendgroup\":\"Australia\",\"locationmode\":\"country names\",\"locations\":[\"Australia\",\"Australia\",\"Australia\",\"Australia\",\"Australia\",\"Australia\",\"Australia\",\"Australia\"],\"marker\":{\"color\":\"#EF553B\",\"size\":[40,6,3,2,2,1,1,1],\"sizemode\":\"area\",\"sizeref\":0.115,\"symbol\":\"circle\"},\"mode\":\"markers\",\"name\":\"Australia\",\"showlegend\":true,\"type\":\"scattergeo\"},{\"geo\":\"geo\",\"hovertemplate\":\"Country/Region=%{location}<br>Valuation=%{marker.size}<extra></extra>\",\"legendgroup\":\"Indonesia\",\"locationmode\":\"country names\",\"locations\":[\"Indonesia\",\"Indonesia\",\"Indonesia\",\"Indonesia\",\"Indonesia\",\"Indonesia\"],\"marker\":{\"color\":\"#00cc96\",\"size\":[20,3,2,1,1,1],\"sizemode\":\"area\",\"sizeref\":0.115,\"symbol\":\"circle\"},\"mode\":\"markers\",\"name\":\"Indonesia\",\"showlegend\":true,\"type\":\"scattergeo\"},{\"geo\":\"geo\",\"hovertemplate\":\"Country/Region=%{location}<br>Valuation=%{marker.size}<extra></extra>\",\"legendgroup\":\"Turkey\",\"locationmode\":\"country names\",\"locations\":[\"Turkey\",\"Turkey\",\"Turkey\"],\"marker\":{\"color\":\"#ab63fa\",\"size\":[12,3,1],\"sizemode\":\"area\",\"sizeref\":0.115,\"symbol\":\"circle\"},\"mode\":\"markers\",\"name\":\"Turkey\",\"showlegend\":true,\"type\":\"scattergeo\"},{\"geo\":\"geo\",\"hovertemplate\":\"Country/Region=%{location}<br>Valuation=%{marker.size}<extra></extra>\",\"legendgroup\":\"Estonia\",\"locationmode\":\"country names\",\"locations\":[\"Estonia\",\"Estonia\"],\"marker\":{\"color\":\"#FFA15A\",\"size\":[11,2],\"sizemode\":\"area\",\"sizeref\":0.115,\"symbol\":\"circle\"},\"mode\":\"markers\",\"name\":\"Estonia\",\"showlegend\":true,\"type\":\"scattergeo\"},{\"geo\":\"geo\",\"hovertemplate\":\"Country/Region=%{location}<br>Valuation=%{marker.size}<extra></extra>\",\"legendgroup\":\"Germany\",\"locationmode\":\"country names\",\"locations\":[\"Germany\",\"Germany\",\"Germany\",\"Germany\",\"Germany\",\"Germany\",\"Germany\",\"Germany\",\"Germany\",\"Germany\",\"Germany\",\"Germany\",\"Germany\",\"Germany\",\"Germany\",\"Germany\",\"Germany\",\"Germany\",\"Germany\",\"Germany\",\"Germany\",\"Germany\",\"Germany\",\"Germany\",\"Germany\",\"Germany\"],\"marker\":{\"color\":\"#19d3f3\",\"size\":[11,9,6,5,4,3,3,3,3,3,2,2,2,2,2,2,1,1,1,1,1,1,1,1,1,1],\"sizemode\":\"area\",\"sizeref\":0.115,\"symbol\":\"circle\"},\"mode\":\"markers\",\"name\":\"Germany\",\"showlegend\":true,\"type\":\"scattergeo\"},{\"geo\":\"geo\",\"hovertemplate\":\"Country/Region=%{location}<br>Valuation=%{marker.size}<extra></extra>\",\"legendgroup\":\"Hong Kong\",\"locationmode\":\"country names\",\"locations\":[\"Hong Kong\",\"Hong Kong\",\"Hong Kong\"],\"marker\":{\"color\":\"#FF6692\",\"size\":[10,2,1],\"sizemode\":\"area\",\"sizeref\":0.115,\"symbol\":\"circle\"},\"mode\":\"markers\",\"name\":\"Hong Kong\",\"showlegend\":true,\"type\":\"scattergeo\"},{\"geo\":\"geo\",\"hovertemplate\":\"Country/Region=%{location}<br>Valuation=%{marker.size}<extra></extra>\",\"legendgroup\":\"South Korea\",\"locationmode\":\"country names\",\"locations\":[\"South Korea\",\"South Korea\",\"South Korea\",\"South Korea\",\"South Korea\",\"South Korea\",\"South Korea\",\"South Korea\",\"South Korea\",\"South Korea\",\"South Korea\",\"South Korea\"],\"marker\":{\"color\":\"#B6E880\",\"size\":[9,9,7,4,3,2,2,1,1,1,1,1],\"sizemode\":\"area\",\"sizeref\":0.115,\"symbol\":\"circle\"},\"mode\":\"markers\",\"name\":\"South Korea\",\"showlegend\":true,\"type\":\"scattergeo\"},{\"geo\":\"geo\",\"hovertemplate\":\"Country/Region=%{location}<br>Valuation=%{marker.size}<extra></extra>\",\"legendgroup\":\"Mexico\",\"locationmode\":\"country names\",\"locations\":[\"Mexico\",\"Mexico\",\"Mexico\",\"Mexico\",\"Mexico\",\"Mexico\"],\"marker\":{\"color\":\"#FF97FF\",\"size\":[9,2,2,1,1,1],\"sizemode\":\"area\",\"sizeref\":0.115,\"symbol\":\"circle\"},\"mode\":\"markers\",\"name\":\"Mexico\",\"showlegend\":true,\"type\":\"scattergeo\"},{\"geo\":\"geo\",\"hovertemplate\":\"Country/Region=%{location}<br>Valuation=%{marker.size}<extra></extra>\",\"legendgroup\":\"Canada\",\"locationmode\":\"country names\",\"locations\":[\"Canada\",\"Canada\",\"Canada\",\"Canada\",\"Canada\",\"Canada\",\"Canada\",\"Canada\",\"Canada\",\"Canada\",\"Canada\",\"Canada\",\"Canada\",\"Canada\",\"Canada\",\"Canada\",\"Canada\",\"Canada\",\"Canada\"],\"marker\":{\"color\":\"#FECB52\",\"size\":[8,7,5,4,4,3,3,2,2,2,1,1,1,1,1,1,1,1,1],\"sizemode\":\"area\",\"sizeref\":0.115,\"symbol\":\"circle\"},\"mode\":\"markers\",\"name\":\"Canada\",\"showlegend\":true,\"type\":\"scattergeo\"},{\"geo\":\"geo\",\"hovertemplate\":\"Country/Region=%{location}<br>Valuation=%{marker.size}<extra></extra>\",\"legendgroup\":\"Netherlands\",\"locationmode\":\"country names\",\"locations\":[\"Netherlands\",\"Netherlands\",\"Netherlands\",\"Netherlands\",\"Netherlands\",\"Netherlands\"],\"marker\":{\"color\":\"#636efa\",\"size\":[6,6,3,2,1,1],\"sizemode\":\"area\",\"sizeref\":0.115,\"symbol\":\"circle\"},\"mode\":\"markers\",\"name\":\"Netherlands\",\"showlegend\":true,\"type\":\"scattergeo\"},{\"geo\":\"geo\",\"hovertemplate\":\"Country/Region=%{location}<br>Valuation=%{marker.size}<extra></extra>\",\"legendgroup\":\"France\",\"locationmode\":\"country names\",\"locations\":[\"France\",\"France\",\"France\",\"France\",\"France\",\"France\",\"France\",\"France\",\"France\",\"France\",\"France\",\"France\",\"France\",\"France\",\"France\",\"France\",\"France\",\"France\",\"France\",\"France\",\"France\",\"France\",\"France\",\"France\"],\"marker\":{\"color\":\"#EF553B\",\"size\":[6,6,5,4,4,3,3,2,2,2,2,2,2,2,1,1,1,1,1,1,1,1,1,1],\"sizemode\":\"area\",\"sizeref\":0.115,\"symbol\":\"circle\"},\"mode\":\"markers\",\"name\":\"France\",\"showlegend\":true,\"type\":\"scattergeo\"},{\"geo\":\"geo\",\"hovertemplate\":\"Country/Region=%{location}<br>Valuation=%{marker.size}<extra></extra>\",\"legendgroup\":\"Finland\",\"locationmode\":\"country names\",\"locations\":[\"Finland\",\"Finland\",\"Finland\",\"Finland\"],\"marker\":{\"color\":\"#00cc96\",\"size\":[6,3,2,1],\"sizemode\":\"area\",\"sizeref\":0.115,\"symbol\":\"circle\"},\"mode\":\"markers\",\"name\":\"Finland\",\"showlegend\":true,\"type\":\"scattergeo\"},{\"geo\":\"geo\",\"hovertemplate\":\"Country/Region=%{location}<br>Valuation=%{marker.size}<extra></extra>\",\"legendgroup\":\"Israel\",\"locationmode\":\"country names\",\"locations\":[\"Israel\",\"Israel\",\"Israel\",\"Israel\",\"Israel\",\"Israel\",\"Israel\",\"Israel\",\"Israel\",\"Israel\",\"Israel\",\"Israel\",\"Israel\",\"Israel\",\"Israel\",\"Israel\",\"Israel\",\"Israel\",\"Israel\",\"Israel\"],\"marker\":{\"color\":\"#ab63fa\",\"size\":[6,5,3,3,2,2,2,2,2,2,1,1,1,1,1,1,1,1,1,1],\"sizemode\":\"area\",\"sizeref\":0.115,\"symbol\":\"circle\"},\"mode\":\"markers\",\"name\":\"Israel\",\"showlegend\":true,\"type\":\"scattergeo\"},{\"geo\":\"geo\",\"hovertemplate\":\"Country/Region=%{location}<br>Valuation=%{marker.size}<extra></extra>\",\"legendgroup\":\"Lithuania\",\"locationmode\":\"country names\",\"locations\":[\"Lithuania\"],\"marker\":{\"color\":\"#FFA15A\",\"size\":[5],\"sizemode\":\"area\",\"sizeref\":0.115,\"symbol\":\"circle\"},\"mode\":\"markers\",\"name\":\"Lithuania\",\"showlegend\":true,\"type\":\"scattergeo\"},{\"geo\":\"geo\",\"hovertemplate\":\"Country/Region=%{location}<br>Valuation=%{marker.size}<extra></extra>\",\"legendgroup\":\"Denmark\",\"locationmode\":\"country names\",\"locations\":[\"Denmark\",\"Denmark\"],\"marker\":{\"color\":\"#19d3f3\",\"size\":[5,2],\"sizemode\":\"area\",\"sizeref\":0.115,\"symbol\":\"circle\"},\"mode\":\"markers\",\"name\":\"Denmark\",\"showlegend\":true,\"type\":\"scattergeo\"},{\"geo\":\"geo\",\"hovertemplate\":\"Country/Region=%{location}<br>Valuation=%{marker.size}<extra></extra>\",\"legendgroup\":\"Belgium\",\"locationmode\":\"country names\",\"locations\":[\"Belgium\",\"Belgium\",\"Belgium\"],\"marker\":{\"color\":\"#FF6692\",\"size\":[5,2,1],\"sizemode\":\"area\",\"sizeref\":0.115,\"symbol\":\"circle\"},\"mode\":\"markers\",\"name\":\"Belgium\",\"showlegend\":true,\"type\":\"scattergeo\"},{\"geo\":\"geo\",\"hovertemplate\":\"Country/Region=%{location}<br>Valuation=%{marker.size}<extra></extra>\",\"legendgroup\":\"Colombia\",\"locationmode\":\"country names\",\"locations\":[\"Colombia\",\"Colombia\"],\"marker\":{\"color\":\"#B6E880\",\"size\":[5,1],\"sizemode\":\"area\",\"sizeref\":0.115,\"symbol\":\"circle\"},\"mode\":\"markers\",\"name\":\"Colombia\",\"showlegend\":true,\"type\":\"scattergeo\"},{\"geo\":\"geo\",\"hovertemplate\":\"Country/Region=%{location}<br>Valuation=%{marker.size}<extra></extra>\",\"legendgroup\":\"Brazil\",\"locationmode\":\"country names\",\"locations\":[\"Brazil\",\"Brazil\",\"Brazil\",\"Brazil\",\"Brazil\",\"Brazil\",\"Brazil\",\"Brazil\",\"Brazil\",\"Brazil\",\"Brazil\",\"Brazil\",\"Brazil\",\"Brazil\",\"Brazil\",\"Brazil\"],\"marker\":{\"color\":\"#FF97FF\",\"size\":[5,5,5,3,3,3,2,2,2,1,1,1,1,1,1,1],\"sizemode\":\"area\",\"sizeref\":0.115,\"symbol\":\"circle\"},\"mode\":\"markers\",\"name\":\"Brazil\",\"showlegend\":true,\"type\":\"scattergeo\"},{\"geo\":\"geo\",\"hovertemplate\":\"Country/Region=%{location}<br>Valuation=%{marker.size}<extra></extra>\",\"legendgroup\":\"Austria\",\"locationmode\":\"country names\",\"locations\":[\"Austria\",\"Austria\"],\"marker\":{\"color\":\"#FECB52\",\"size\":[4,3],\"sizemode\":\"area\",\"sizeref\":0.115,\"symbol\":\"circle\"},\"mode\":\"markers\",\"name\":\"Austria\",\"showlegend\":true,\"type\":\"scattergeo\"},{\"geo\":\"geo\",\"hovertemplate\":\"Country/Region=%{location}<br>Valuation=%{marker.size}<extra></extra>\",\"legendgroup\":\"Ireland\",\"locationmode\":\"country names\",\"locations\":[\"Ireland\",\"Ireland\",\"Ireland\",\"Ireland\",\"Ireland\"],\"marker\":{\"color\":\"#636efa\",\"size\":[4,2,1,1,1],\"sizemode\":\"area\",\"sizeref\":0.115,\"symbol\":\"circle\"},\"mode\":\"markers\",\"name\":\"Ireland\",\"showlegend\":true,\"type\":\"scattergeo\"},{\"geo\":\"geo\",\"hovertemplate\":\"Country/Region=%{location}<br>Valuation=%{marker.size}<extra></extra>\",\"legendgroup\":\"United Arab Emirates\",\"locationmode\":\"country names\",\"locations\":[\"United Arab Emirates\",\"United Arab Emirates\",\"United Arab Emirates\"],\"marker\":{\"color\":\"#EF553B\",\"size\":[3,1,1],\"sizemode\":\"area\",\"sizeref\":0.115,\"symbol\":\"circle\"},\"mode\":\"markers\",\"name\":\"United Arab Emirates\",\"showlegend\":true,\"type\":\"scattergeo\"},{\"geo\":\"geo\",\"hovertemplate\":\"Country/Region=%{location}<br>Valuation=%{marker.size}<extra></extra>\",\"legendgroup\":\"Switzerland\",\"locationmode\":\"country names\",\"locations\":[\"Switzerland\",\"Switzerland\",\"Switzerland\",\"Switzerland\",\"Switzerland\"],\"marker\":{\"color\":\"#00cc96\",\"size\":[3,2,1,1,1],\"sizemode\":\"area\",\"sizeref\":0.115,\"symbol\":\"circle\"},\"mode\":\"markers\",\"name\":\"Switzerland\",\"showlegend\":true,\"type\":\"scattergeo\"},{\"geo\":\"geo\",\"hovertemplate\":\"Country/Region=%{location}<br>Valuation=%{marker.size}<extra></extra>\",\"legendgroup\":\"Vietnam\",\"locationmode\":\"country names\",\"locations\":[\"Vietnam\",\"Vietnam\"],\"marker\":{\"color\":\"#ab63fa\",\"size\":[3,2],\"sizemode\":\"area\",\"sizeref\":0.115,\"symbol\":\"circle\"},\"mode\":\"markers\",\"name\":\"Vietnam\",\"showlegend\":true,\"type\":\"scattergeo\"},{\"geo\":\"geo\",\"hovertemplate\":\"Country/Region=%{location}<br>Valuation=%{marker.size}<extra></extra>\",\"legendgroup\":\"South Africa\",\"locationmode\":\"country names\",\"locations\":[\"South Africa\",\"South Africa\"],\"marker\":{\"color\":\"#FFA15A\",\"size\":[2,1],\"sizemode\":\"area\",\"sizeref\":0.115,\"symbol\":\"circle\"},\"mode\":\"markers\",\"name\":\"South Africa\",\"showlegend\":true,\"type\":\"scattergeo\"},{\"geo\":\"geo\",\"hovertemplate\":\"Country/Region=%{location}<br>Valuation=%{marker.size}<extra></extra>\",\"legendgroup\":\"Thailand\",\"locationmode\":\"country names\",\"locations\":[\"Thailand\",\"Thailand\"],\"marker\":{\"color\":\"#19d3f3\",\"size\":[2,1],\"sizemode\":\"area\",\"sizeref\":0.115,\"symbol\":\"circle\"},\"mode\":\"markers\",\"name\":\"Thailand\",\"showlegend\":true,\"type\":\"scattergeo\"},{\"geo\":\"geo\",\"hovertemplate\":\"Country/Region=%{location}<br>Valuation=%{marker.size}<extra></extra>\",\"legendgroup\":\"Norway\",\"locationmode\":\"country names\",\"locations\":[\"Norway\",\"Norway\",\"Norway\",\"Norway\"],\"marker\":{\"color\":\"#FF6692\",\"size\":[2,1,1,1],\"sizemode\":\"area\",\"sizeref\":0.115,\"symbol\":\"circle\"},\"mode\":\"markers\",\"name\":\"Norway\",\"showlegend\":true,\"type\":\"scattergeo\"},{\"geo\":\"geo\",\"hovertemplate\":\"Country/Region=%{location}<br>Valuation=%{marker.size}<extra></extra>\",\"legendgroup\":\"Chile\",\"locationmode\":\"country names\",\"locations\":[\"Chile\",\"Chile\"],\"marker\":{\"color\":\"#B6E880\",\"size\":[2,1],\"sizemode\":\"area\",\"sizeref\":0.115,\"symbol\":\"circle\"},\"mode\":\"markers\",\"name\":\"Chile\",\"showlegend\":true,\"type\":\"scattergeo\"},{\"geo\":\"geo\",\"hovertemplate\":\"Country/Region=%{location}<br>Valuation=%{marker.size}<extra></extra>\",\"legendgroup\":\"Argentina\",\"locationmode\":\"country names\",\"locations\":[\"Argentina\"],\"marker\":{\"color\":\"#FF97FF\",\"size\":[2],\"sizemode\":\"area\",\"sizeref\":0.115,\"symbol\":\"circle\"},\"mode\":\"markers\",\"name\":\"Argentina\",\"showlegend\":true,\"type\":\"scattergeo\"},{\"geo\":\"geo\",\"hovertemplate\":\"Country/Region=%{location}<br>Valuation=%{marker.size}<extra></extra>\",\"legendgroup\":\"Bermuda\",\"locationmode\":\"country names\",\"locations\":[\"Bermuda\"],\"marker\":{\"color\":\"#FECB52\",\"size\":[2],\"sizemode\":\"area\",\"sizeref\":0.115,\"symbol\":\"circle\"},\"mode\":\"markers\",\"name\":\"Bermuda\",\"showlegend\":true,\"type\":\"scattergeo\"},{\"geo\":\"geo\",\"hovertemplate\":\"Country/Region=%{location}<br>Valuation=%{marker.size}<extra></extra>\",\"legendgroup\":\"Japan\",\"locationmode\":\"country names\",\"locations\":[\"Japan\",\"Japan\",\"Japan\",\"Japan\",\"Japan\"],\"marker\":{\"color\":\"#636efa\",\"size\":[2,2,2,1,1],\"sizemode\":\"area\",\"sizeref\":0.115,\"symbol\":\"circle\"},\"mode\":\"markers\",\"name\":\"Japan\",\"showlegend\":true,\"type\":\"scattergeo\"},{\"geo\":\"geo\",\"hovertemplate\":\"Country/Region=%{location}<br>Valuation=%{marker.size}<extra></extra>\",\"legendgroup\":\"Spain\",\"locationmode\":\"country names\",\"locations\":[\"Spain\",\"Spain\",\"Spain\"],\"marker\":{\"color\":\"#EF553B\",\"size\":[2,1,1],\"sizemode\":\"area\",\"sizeref\":0.115,\"symbol\":\"circle\"},\"mode\":\"markers\",\"name\":\"Spain\",\"showlegend\":true,\"type\":\"scattergeo\"},{\"geo\":\"geo\",\"hovertemplate\":\"Country/Region=%{location}<br>Valuation=%{marker.size}<extra></extra>\",\"legendgroup\":\"Malaysia\",\"locationmode\":\"country names\",\"locations\":[\"Malaysia\"],\"marker\":{\"color\":\"#00cc96\",\"size\":[2],\"sizemode\":\"area\",\"sizeref\":0.115,\"symbol\":\"circle\"},\"mode\":\"markers\",\"name\":\"Malaysia\",\"showlegend\":true,\"type\":\"scattergeo\"},{\"geo\":\"geo\",\"hovertemplate\":\"Country/Region=%{location}<br>Valuation=%{marker.size}<extra></extra>\",\"legendgroup\":\"Senegal\",\"locationmode\":\"country names\",\"locations\":[\"Senegal\"],\"marker\":{\"color\":\"#ab63fa\",\"size\":[2],\"sizemode\":\"area\",\"sizeref\":0.115,\"symbol\":\"circle\"},\"mode\":\"markers\",\"name\":\"Senegal\",\"showlegend\":true,\"type\":\"scattergeo\"},{\"geo\":\"geo\",\"hovertemplate\":\"Country/Region=%{location}<br>Valuation=%{marker.size}<extra></extra>\",\"legendgroup\":\"Philippines\",\"locationmode\":\"country names\",\"locations\":[\"Philippines\",\"Philippines\"],\"marker\":{\"color\":\"#FFA15A\",\"size\":[2,1],\"sizemode\":\"area\",\"sizeref\":0.115,\"symbol\":\"circle\"},\"mode\":\"markers\",\"name\":\"Philippines\",\"showlegend\":true,\"type\":\"scattergeo\"},{\"geo\":\"geo\",\"hovertemplate\":\"Country/Region=%{location}<br>Valuation=%{marker.size}<extra></extra>\",\"legendgroup\":\"Luxembourg\",\"locationmode\":\"country names\",\"locations\":[\"Luxembourg\"],\"marker\":{\"color\":\"#19d3f3\",\"size\":[2],\"sizemode\":\"area\",\"sizeref\":0.115,\"symbol\":\"circle\"},\"mode\":\"markers\",\"name\":\"Luxembourg\",\"showlegend\":true,\"type\":\"scattergeo\"},{\"geo\":\"geo\",\"hovertemplate\":\"Country/Region=%{location}<br>Valuation=%{marker.size}<extra></extra>\",\"legendgroup\":\"Nigeria\",\"locationmode\":\"country names\",\"locations\":[\"Nigeria\"],\"marker\":{\"color\":\"#FF6692\",\"size\":[2],\"sizemode\":\"area\",\"sizeref\":0.115,\"symbol\":\"circle\"},\"mode\":\"markers\",\"name\":\"Nigeria\",\"showlegend\":true,\"type\":\"scattergeo\"},{\"geo\":\"geo\",\"hovertemplate\":\"Country/Region=%{location}<br>Valuation=%{marker.size}<extra></extra>\",\"legendgroup\":\"Czech Republic\",\"locationmode\":\"country names\",\"locations\":[\"Czech Republic\"],\"marker\":{\"color\":\"#B6E880\",\"size\":[1],\"sizemode\":\"area\",\"sizeref\":0.115,\"symbol\":\"circle\"},\"mode\":\"markers\",\"name\":\"Czech Republic\",\"showlegend\":true,\"type\":\"scattergeo\"},{\"geo\":\"geo\",\"hovertemplate\":\"Country/Region=%{location}<br>Valuation=%{marker.size}<extra></extra>\",\"legendgroup\":\"Croatia\",\"locationmode\":\"country names\",\"locations\":[\"Croatia\"],\"marker\":{\"color\":\"#FF97FF\",\"size\":[1],\"sizemode\":\"area\",\"sizeref\":0.115,\"symbol\":\"circle\"},\"mode\":\"markers\",\"name\":\"Croatia\",\"showlegend\":true,\"type\":\"scattergeo\"},{\"geo\":\"geo\",\"hovertemplate\":\"Country/Region=%{location}<br>Valuation=%{marker.size}<extra></extra>\",\"legendgroup\":\"Italy\",\"locationmode\":\"country names\",\"locations\":[\"Italy\"],\"marker\":{\"color\":\"#FECB52\",\"size\":[1],\"sizemode\":\"area\",\"sizeref\":0.115,\"symbol\":\"circle\"},\"mode\":\"markers\",\"name\":\"Italy\",\"showlegend\":true,\"type\":\"scattergeo\"}],                        {\"template\":{\"data\":{\"histogram2dcontour\":[{\"type\":\"histogram2dcontour\",\"colorbar\":{\"outlinewidth\":0,\"ticks\":\"\"},\"colorscale\":[[0.0,\"#0d0887\"],[0.1111111111111111,\"#46039f\"],[0.2222222222222222,\"#7201a8\"],[0.3333333333333333,\"#9c179e\"],[0.4444444444444444,\"#bd3786\"],[0.5555555555555556,\"#d8576b\"],[0.6666666666666666,\"#ed7953\"],[0.7777777777777778,\"#fb9f3a\"],[0.8888888888888888,\"#fdca26\"],[1.0,\"#f0f921\"]]}],\"choropleth\":[{\"type\":\"choropleth\",\"colorbar\":{\"outlinewidth\":0,\"ticks\":\"\"}}],\"histogram2d\":[{\"type\":\"histogram2d\",\"colorbar\":{\"outlinewidth\":0,\"ticks\":\"\"},\"colorscale\":[[0.0,\"#0d0887\"],[0.1111111111111111,\"#46039f\"],[0.2222222222222222,\"#7201a8\"],[0.3333333333333333,\"#9c179e\"],[0.4444444444444444,\"#bd3786\"],[0.5555555555555556,\"#d8576b\"],[0.6666666666666666,\"#ed7953\"],[0.7777777777777778,\"#fb9f3a\"],[0.8888888888888888,\"#fdca26\"],[1.0,\"#f0f921\"]]}],\"heatmap\":[{\"type\":\"heatmap\",\"colorbar\":{\"outlinewidth\":0,\"ticks\":\"\"},\"colorscale\":[[0.0,\"#0d0887\"],[0.1111111111111111,\"#46039f\"],[0.2222222222222222,\"#7201a8\"],[0.3333333333333333,\"#9c179e\"],[0.4444444444444444,\"#bd3786\"],[0.5555555555555556,\"#d8576b\"],[0.6666666666666666,\"#ed7953\"],[0.7777777777777778,\"#fb9f3a\"],[0.8888888888888888,\"#fdca26\"],[1.0,\"#f0f921\"]]}],\"heatmapgl\":[{\"type\":\"heatmapgl\",\"colorbar\":{\"outlinewidth\":0,\"ticks\":\"\"},\"colorscale\":[[0.0,\"#0d0887\"],[0.1111111111111111,\"#46039f\"],[0.2222222222222222,\"#7201a8\"],[0.3333333333333333,\"#9c179e\"],[0.4444444444444444,\"#bd3786\"],[0.5555555555555556,\"#d8576b\"],[0.6666666666666666,\"#ed7953\"],[0.7777777777777778,\"#fb9f3a\"],[0.8888888888888888,\"#fdca26\"],[1.0,\"#f0f921\"]]}],\"contourcarpet\":[{\"type\":\"contourcarpet\",\"colorbar\":{\"outlinewidth\":0,\"ticks\":\"\"}}],\"contour\":[{\"type\":\"contour\",\"colorbar\":{\"outlinewidth\":0,\"ticks\":\"\"},\"colorscale\":[[0.0,\"#0d0887\"],[0.1111111111111111,\"#46039f\"],[0.2222222222222222,\"#7201a8\"],[0.3333333333333333,\"#9c179e\"],[0.4444444444444444,\"#bd3786\"],[0.5555555555555556,\"#d8576b\"],[0.6666666666666666,\"#ed7953\"],[0.7777777777777778,\"#fb9f3a\"],[0.8888888888888888,\"#fdca26\"],[1.0,\"#f0f921\"]]}],\"surface\":[{\"type\":\"surface\",\"colorbar\":{\"outlinewidth\":0,\"ticks\":\"\"},\"colorscale\":[[0.0,\"#0d0887\"],[0.1111111111111111,\"#46039f\"],[0.2222222222222222,\"#7201a8\"],[0.3333333333333333,\"#9c179e\"],[0.4444444444444444,\"#bd3786\"],[0.5555555555555556,\"#d8576b\"],[0.6666666666666666,\"#ed7953\"],[0.7777777777777778,\"#fb9f3a\"],[0.8888888888888888,\"#fdca26\"],[1.0,\"#f0f921\"]]}],\"mesh3d\":[{\"type\":\"mesh3d\",\"colorbar\":{\"outlinewidth\":0,\"ticks\":\"\"}}],\"scatter\":[{\"fillpattern\":{\"fillmode\":\"overlay\",\"size\":10,\"solidity\":0.2},\"type\":\"scatter\"}],\"parcoords\":[{\"type\":\"parcoords\",\"line\":{\"colorbar\":{\"outlinewidth\":0,\"ticks\":\"\"}}}],\"scatterpolargl\":[{\"type\":\"scatterpolargl\",\"marker\":{\"colorbar\":{\"outlinewidth\":0,\"ticks\":\"\"}}}],\"bar\":[{\"error_x\":{\"color\":\"#2a3f5f\"},\"error_y\":{\"color\":\"#2a3f5f\"},\"marker\":{\"line\":{\"color\":\"#E5ECF6\",\"width\":0.5},\"pattern\":{\"fillmode\":\"overlay\",\"size\":10,\"solidity\":0.2}},\"type\":\"bar\"}],\"scattergeo\":[{\"type\":\"scattergeo\",\"marker\":{\"colorbar\":{\"outlinewidth\":0,\"ticks\":\"\"}}}],\"scatterpolar\":[{\"type\":\"scatterpolar\",\"marker\":{\"colorbar\":{\"outlinewidth\":0,\"ticks\":\"\"}}}],\"histogram\":[{\"marker\":{\"pattern\":{\"fillmode\":\"overlay\",\"size\":10,\"solidity\":0.2}},\"type\":\"histogram\"}],\"scattergl\":[{\"type\":\"scattergl\",\"marker\":{\"colorbar\":{\"outlinewidth\":0,\"ticks\":\"\"}}}],\"scatter3d\":[{\"type\":\"scatter3d\",\"line\":{\"colorbar\":{\"outlinewidth\":0,\"ticks\":\"\"}},\"marker\":{\"colorbar\":{\"outlinewidth\":0,\"ticks\":\"\"}}}],\"scattermapbox\":[{\"type\":\"scattermapbox\",\"marker\":{\"colorbar\":{\"outlinewidth\":0,\"ticks\":\"\"}}}],\"scatterternary\":[{\"type\":\"scatterternary\",\"marker\":{\"colorbar\":{\"outlinewidth\":0,\"ticks\":\"\"}}}],\"scattercarpet\":[{\"type\":\"scattercarpet\",\"marker\":{\"colorbar\":{\"outlinewidth\":0,\"ticks\":\"\"}}}],\"carpet\":[{\"aaxis\":{\"endlinecolor\":\"#2a3f5f\",\"gridcolor\":\"white\",\"linecolor\":\"white\",\"minorgridcolor\":\"white\",\"startlinecolor\":\"#2a3f5f\"},\"baxis\":{\"endlinecolor\":\"#2a3f5f\",\"gridcolor\":\"white\",\"linecolor\":\"white\",\"minorgridcolor\":\"white\",\"startlinecolor\":\"#2a3f5f\"},\"type\":\"carpet\"}],\"table\":[{\"cells\":{\"fill\":{\"color\":\"#EBF0F8\"},\"line\":{\"color\":\"white\"}},\"header\":{\"fill\":{\"color\":\"#C8D4E3\"},\"line\":{\"color\":\"white\"}},\"type\":\"table\"}],\"barpolar\":[{\"marker\":{\"line\":{\"color\":\"#E5ECF6\",\"width\":0.5},\"pattern\":{\"fillmode\":\"overlay\",\"size\":10,\"solidity\":0.2}},\"type\":\"barpolar\"}],\"pie\":[{\"automargin\":true,\"type\":\"pie\"}]},\"layout\":{\"autotypenumbers\":\"strict\",\"colorway\":[\"#636efa\",\"#EF553B\",\"#00cc96\",\"#ab63fa\",\"#FFA15A\",\"#19d3f3\",\"#FF6692\",\"#B6E880\",\"#FF97FF\",\"#FECB52\"],\"font\":{\"color\":\"#2a3f5f\"},\"hovermode\":\"closest\",\"hoverlabel\":{\"align\":\"left\"},\"paper_bgcolor\":\"white\",\"plot_bgcolor\":\"#E5ECF6\",\"polar\":{\"bgcolor\":\"#E5ECF6\",\"angularaxis\":{\"gridcolor\":\"white\",\"linecolor\":\"white\",\"ticks\":\"\"},\"radialaxis\":{\"gridcolor\":\"white\",\"linecolor\":\"white\",\"ticks\":\"\"}},\"ternary\":{\"bgcolor\":\"#E5ECF6\",\"aaxis\":{\"gridcolor\":\"white\",\"linecolor\":\"white\",\"ticks\":\"\"},\"baxis\":{\"gridcolor\":\"white\",\"linecolor\":\"white\",\"ticks\":\"\"},\"caxis\":{\"gridcolor\":\"white\",\"linecolor\":\"white\",\"ticks\":\"\"}},\"coloraxis\":{\"colorbar\":{\"outlinewidth\":0,\"ticks\":\"\"}},\"colorscale\":{\"sequential\":[[0.0,\"#0d0887\"],[0.1111111111111111,\"#46039f\"],[0.2222222222222222,\"#7201a8\"],[0.3333333333333333,\"#9c179e\"],[0.4444444444444444,\"#bd3786\"],[0.5555555555555556,\"#d8576b\"],[0.6666666666666666,\"#ed7953\"],[0.7777777777777778,\"#fb9f3a\"],[0.8888888888888888,\"#fdca26\"],[1.0,\"#f0f921\"]],\"sequentialminus\":[[0.0,\"#0d0887\"],[0.1111111111111111,\"#46039f\"],[0.2222222222222222,\"#7201a8\"],[0.3333333333333333,\"#9c179e\"],[0.4444444444444444,\"#bd3786\"],[0.5555555555555556,\"#d8576b\"],[0.6666666666666666,\"#ed7953\"],[0.7777777777777778,\"#fb9f3a\"],[0.8888888888888888,\"#fdca26\"],[1.0,\"#f0f921\"]],\"diverging\":[[0,\"#8e0152\"],[0.1,\"#c51b7d\"],[0.2,\"#de77ae\"],[0.3,\"#f1b6da\"],[0.4,\"#fde0ef\"],[0.5,\"#f7f7f7\"],[0.6,\"#e6f5d0\"],[0.7,\"#b8e186\"],[0.8,\"#7fbc41\"],[0.9,\"#4d9221\"],[1,\"#276419\"]]},\"xaxis\":{\"gridcolor\":\"white\",\"linecolor\":\"white\",\"ticks\":\"\",\"title\":{\"standoff\":15},\"zerolinecolor\":\"white\",\"automargin\":true,\"zerolinewidth\":2},\"yaxis\":{\"gridcolor\":\"white\",\"linecolor\":\"white\",\"ticks\":\"\",\"title\":{\"standoff\":15},\"zerolinecolor\":\"white\",\"automargin\":true,\"zerolinewidth\":2},\"scene\":{\"xaxis\":{\"backgroundcolor\":\"#E5ECF6\",\"gridcolor\":\"white\",\"linecolor\":\"white\",\"showbackground\":true,\"ticks\":\"\",\"zerolinecolor\":\"white\",\"gridwidth\":2},\"yaxis\":{\"backgroundcolor\":\"#E5ECF6\",\"gridcolor\":\"white\",\"linecolor\":\"white\",\"showbackground\":true,\"ticks\":\"\",\"zerolinecolor\":\"white\",\"gridwidth\":2},\"zaxis\":{\"backgroundcolor\":\"#E5ECF6\",\"gridcolor\":\"white\",\"linecolor\":\"white\",\"showbackground\":true,\"ticks\":\"\",\"zerolinecolor\":\"white\",\"gridwidth\":2}},\"shapedefaults\":{\"line\":{\"color\":\"#2a3f5f\"}},\"annotationdefaults\":{\"arrowcolor\":\"#2a3f5f\",\"arrowhead\":0,\"arrowwidth\":1},\"geo\":{\"bgcolor\":\"white\",\"landcolor\":\"#E5ECF6\",\"subunitcolor\":\"white\",\"showland\":true,\"showlakes\":true,\"lakecolor\":\"white\"},\"title\":{\"x\":0.05},\"mapbox\":{\"style\":\"light\"}}},\"geo\":{\"domain\":{\"x\":[0.0,1.0],\"y\":[0.0,1.0]},\"center\":{},\"scope\":\"europe\"},\"legend\":{\"title\":{\"text\":\"Country/Region\"},\"tracegroupgap\":0,\"itemsizing\":\"constant\"},\"title\":{\"text\":\"Europe Unicorn Company Values\"}},                        {\"responsive\": true}                    ).then(function(){\n",
              "                            \n",
              "var gd = document.getElementById('cc1d58ac-7160-4c8f-95c6-2f1a670aeb25');\n",
              "var x = new MutationObserver(function (mutations, observer) {{\n",
              "        var display = window.getComputedStyle(gd).display;\n",
              "        if (!display || display === 'none') {{\n",
              "            console.log([gd, 'removed!']);\n",
              "            Plotly.purge(gd);\n",
              "            observer.disconnect();\n",
              "        }}\n",
              "}});\n",
              "\n",
              "// Listen for the removal of the full notebook cells\n",
              "var notebookContainer = gd.closest('#notebook-container');\n",
              "if (notebookContainer) {{\n",
              "    x.observe(notebookContainer, {childList: true});\n",
              "}}\n",
              "\n",
              "// Listen for the clearing of the current output cell\n",
              "var outputEl = gd.closest('.output');\n",
              "if (outputEl) {{\n",
              "    x.observe(outputEl, {childList: true});\n",
              "}}\n",
              "\n",
              "                        })                };                            </script>        </div>\n",
              "</body>\n",
              "</html>"
            ]
          },
          "metadata": {}
        }
      ]
    },
    {
      "cell_type": "markdown",
      "source": [
        "### Getting Insights"
      ],
      "metadata": {
        "id": "HWqu-6gxfknp"
      }
    },
    {
      "cell_type": "markdown",
      "source": [
        "- A new column that calculate the difference between the founding and joining,\n",
        "this gives us an idea that the fastest the company get into the list the fastest this company grow"
      ],
      "metadata": {
        "id": "zCQxw5x6gXb6"
      }
    },
    {
      "cell_type": "code",
      "source": [
        "df['time_to_join']=(df['year_joined'] - df['Year Founded'])"
      ],
      "metadata": {
        "id": "iE6J5y7wft8m"
      },
      "execution_count": 576,
      "outputs": []
    },
    {
      "cell_type": "code",
      "source": [
        "df['time_to_join'].min()"
      ],
      "metadata": {
        "colab": {
          "base_uri": "https://localhost:8080/"
        },
        "id": "9CSfmLalgvFy",
        "outputId": "26674106-cfb3-4376-8852-02761d5a45b8"
      },
      "execution_count": 574,
      "outputs": [
        {
          "output_type": "execute_result",
          "data": {
            "text/plain": [
              "-4"
            ]
          },
          "metadata": {},
          "execution_count": 574
        }
      ]
    },
    {
      "cell_type": "code",
      "source": [
        "df[(df['year_joined'] - df['Year Founded'])==-4]['year_joined']"
      ],
      "metadata": {
        "colab": {
          "base_uri": "https://localhost:8080/"
        },
        "id": "vcOSlVYGhb98",
        "outputId": "76445be2-9098-4d66-d5f5-366649f8fffc"
      },
      "execution_count": 579,
      "outputs": [
        {
          "output_type": "execute_result",
          "data": {
            "text/plain": [
              "714    2017\n",
              "Name: year_joined, dtype: int64"
            ]
          },
          "metadata": {},
          "execution_count": 579
        }
      ]
    },
    {
      "cell_type": "code",
      "source": [
        "#sorting the list of company by the time to join the list:\n",
        "df=df.sort_values(by=['time_to_join'], ascending=True)\n"
      ],
      "metadata": {
        "id": "VDtbnPT6imbX"
      },
      "execution_count": 582,
      "outputs": []
    },
    {
      "cell_type": "code",
      "source": [
        "industry_top5=df['Industry'].head()"
      ],
      "metadata": {
        "id": "YWdrG1mkjeEx"
      },
      "execution_count": 584,
      "outputs": []
    },
    {
      "cell_type": "code",
      "source": [
        "industry_top5=list(industry_top5)"
      ],
      "metadata": {
        "id": "U7HR9mCNj9W3"
      },
      "execution_count": 586,
      "outputs": []
    },
    {
      "cell_type": "code",
      "source": [
        "industry_top5"
      ],
      "metadata": {
        "colab": {
          "base_uri": "https://localhost:8080/"
        },
        "id": "7QMtzTaHkB0L",
        "outputId": "91b8e9cd-c7fc-4a9c-9e4a-6ca608da76cf"
      },
      "execution_count": 587,
      "outputs": [
        {
          "output_type": "execute_result",
          "data": {
            "text/plain": [
              "['mobile & telecommunications',\n",
              " 'auto & transportation',\n",
              " 'e-commerce & direct-to-consumer',\n",
              " 'artificial intelligence',\n",
              " 'other']"
            ]
          },
          "metadata": {},
          "execution_count": 587
        }
      ]
    },
    {
      "cell_type": "code",
      "source": [
        "industry_bot5=list(df['Industry'].tail())"
      ],
      "metadata": {
        "id": "rfCa9J7AkHYL"
      },
      "execution_count": 588,
      "outputs": []
    },
    {
      "cell_type": "code",
      "source": [
        "industry_bot5"
      ],
      "metadata": {
        "colab": {
          "base_uri": "https://localhost:8080/"
        },
        "id": "bT8sSWAJkePf",
        "outputId": "ea22f60b-fb49-40e0-b0fa-9c510e05ba9a"
      },
      "execution_count": 589,
      "outputs": [
        {
          "output_type": "execute_result",
          "data": {
            "text/plain": [
              "['other', 'health', 'consumer & retail', 'other', 'health']"
            ]
          },
          "metadata": {},
          "execution_count": 589
        }
      ]
    },
    {
      "cell_type": "code",
      "source": [
        "#the year with most joining company:\n",
        "year_joined=list(df['year_joined'].value_counts().index)\n",
        "joins=list(df['year_joined'].value_counts().values)"
      ],
      "metadata": {
        "id": "xboDvKNamkow"
      },
      "execution_count": 594,
      "outputs": []
    },
    {
      "cell_type": "code",
      "source": [
        "sp.barplot(x=year_joined,y=joins)\n",
        "pt.show()"
      ],
      "metadata": {
        "colab": {
          "base_uri": "https://localhost:8080/",
          "height": 430
        },
        "id": "PDkEK28-m3qT",
        "outputId": "4b577dac-b131-42db-af8d-7e6db3489f0f"
      },
      "execution_count": 595,
      "outputs": [
        {
          "output_type": "display_data",
          "data": {
            "text/plain": [
              "<Figure size 640x480 with 1 Axes>"
            ],
            "image/png": "[encoded data removed]"
          },
          "metadata": {}
        }
      ]
    },
    {
      "cell_type": "markdown",
      "source": [
        "#Key insights:\n",
        "- there is some error, there is a company founded in 2021 but joined the list in 2017\n",
        "- top5 industry:\n",
        " 1. 'mobile & telecommunications',\n",
        " 2. 'auto & transportation',\n",
        " 3. 'e-commerce & direct-to-consumer',\n",
        " 4. 'artificial intelligence',\n",
        " 5. 'other'\n",
        "- Least 5 industry:\n",
        "['health', 'consumer & retail', 'other', 'health']\n",
        "- 2021 has the highest joining companies"
      ],
      "metadata": {
        "id": "HyWAeuB9hY8z"
      }
    },
    {
      "cell_type": "markdown",
      "source": [
        "Key Questions:\n",
        "- what are the fastest 5 grow industry and what is the least 5?\n",
        "- what year has the most joining?"
      ],
      "metadata": {
        "id": "Jko6LXtNiwii"
      }
    },
    {
      "cell_type": "code",
      "source": [],
      "metadata": {
        "id": "i5PRBdkmmjdT"
      },
      "execution_count": null,
      "outputs": []
    }
  ]
}